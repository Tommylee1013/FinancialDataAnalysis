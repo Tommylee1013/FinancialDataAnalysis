{
 "cells": [
  {
   "cell_type": "markdown",
   "id": "0450edf0",
   "metadata": {},
   "source": [
    "# Exercise 5 (5.31 16:30)\n",
    "\n",
    "- 이번 과제에서는 한국, 독일, 일본, 그리고 미국의 산업생산지수 data를 이용해 수업 시간에 다룬 여러 계량모형들에 대한 실습을 진행합니다."
   ]
  },
  {
   "cell_type": "code",
   "execution_count": 1,
   "id": "892075b0",
   "metadata": {},
   "outputs": [],
   "source": [
    "import numpy as np, pandas as pd, matplotlib.pyplot as plt, seaborn as sns, statsmodels.api as sm\n",
    "from statsmodels.graphics.tsaplots import plot_acf, plot_pacf\n",
    "import warnings\n",
    "warnings.filterwarnings(\"ignore\")\n",
    "\n",
    "%matplotlib inline\n",
    "\n",
    "df = pd.read_excel('production_index.xlsx')\n",
    "df = pd.DataFrame(df.iloc[:,1:].values, index = df.iloc[:,0].values, columns = df.columns[1:])"
   ]
  },
  {
   "cell_type": "code",
   "execution_count": 2,
   "id": "54ef9f06",
   "metadata": {},
   "outputs": [
    {
     "data": {
      "text/html": [
       "<div>\n",
       "<style scoped>\n",
       "    .dataframe tbody tr th:only-of-type {\n",
       "        vertical-align: middle;\n",
       "    }\n",
       "\n",
       "    .dataframe tbody tr th {\n",
       "        vertical-align: top;\n",
       "    }\n",
       "\n",
       "    .dataframe thead th {\n",
       "        text-align: right;\n",
       "    }\n",
       "</style>\n",
       "<table border=\"1\" class=\"dataframe\">\n",
       "  <thead>\n",
       "    <tr style=\"text-align: right;\">\n",
       "      <th></th>\n",
       "      <th>kor_pi</th>\n",
       "      <th>ger_pi</th>\n",
       "      <th>jap_pi</th>\n",
       "      <th>usa_pi</th>\n",
       "    </tr>\n",
       "  </thead>\n",
       "  <tbody>\n",
       "    <tr>\n",
       "      <th>1919/01</th>\n",
       "      <td>NaN</td>\n",
       "      <td>NaN</td>\n",
       "      <td>NaN</td>\n",
       "      <td>4.8</td>\n",
       "    </tr>\n",
       "    <tr>\n",
       "      <th>1919/02</th>\n",
       "      <td>NaN</td>\n",
       "      <td>NaN</td>\n",
       "      <td>NaN</td>\n",
       "      <td>4.6</td>\n",
       "    </tr>\n",
       "    <tr>\n",
       "      <th>1919/03</th>\n",
       "      <td>NaN</td>\n",
       "      <td>NaN</td>\n",
       "      <td>NaN</td>\n",
       "      <td>4.5</td>\n",
       "    </tr>\n",
       "    <tr>\n",
       "      <th>1919/04</th>\n",
       "      <td>NaN</td>\n",
       "      <td>NaN</td>\n",
       "      <td>NaN</td>\n",
       "      <td>4.6</td>\n",
       "    </tr>\n",
       "    <tr>\n",
       "      <th>1919/05</th>\n",
       "      <td>NaN</td>\n",
       "      <td>NaN</td>\n",
       "      <td>NaN</td>\n",
       "      <td>4.6</td>\n",
       "    </tr>\n",
       "    <tr>\n",
       "      <th>...</th>\n",
       "      <td>...</td>\n",
       "      <td>...</td>\n",
       "      <td>...</td>\n",
       "      <td>...</td>\n",
       "    </tr>\n",
       "    <tr>\n",
       "      <th>2021/04</th>\n",
       "      <td>112.6</td>\n",
       "      <td>95.9</td>\n",
       "      <td>99.8</td>\n",
       "      <td>98.4</td>\n",
       "    </tr>\n",
       "    <tr>\n",
       "      <th>2021/05</th>\n",
       "      <td>111.1</td>\n",
       "      <td>95.2</td>\n",
       "      <td>93.8</td>\n",
       "      <td>99.0</td>\n",
       "    </tr>\n",
       "    <tr>\n",
       "      <th>2021/06</th>\n",
       "      <td>113.6</td>\n",
       "      <td>94.6</td>\n",
       "      <td>99.8</td>\n",
       "      <td>99.5</td>\n",
       "    </tr>\n",
       "    <tr>\n",
       "      <th>2021/07</th>\n",
       "      <td>113.8</td>\n",
       "      <td>95.9</td>\n",
       "      <td>98.8</td>\n",
       "      <td>100.3</td>\n",
       "    </tr>\n",
       "    <tr>\n",
       "      <th>2021/08</th>\n",
       "      <td>113.0</td>\n",
       "      <td>91.4</td>\n",
       "      <td>95.3</td>\n",
       "      <td>100.7</td>\n",
       "    </tr>\n",
       "  </tbody>\n",
       "</table>\n",
       "<p>1232 rows × 4 columns</p>\n",
       "</div>"
      ],
      "text/plain": [
       "         kor_pi  ger_pi  jap_pi  usa_pi\n",
       "1919/01     NaN     NaN     NaN     4.8\n",
       "1919/02     NaN     NaN     NaN     4.6\n",
       "1919/03     NaN     NaN     NaN     4.5\n",
       "1919/04     NaN     NaN     NaN     4.6\n",
       "1919/05     NaN     NaN     NaN     4.6\n",
       "...         ...     ...     ...     ...\n",
       "2021/04   112.6    95.9    99.8    98.4\n",
       "2021/05   111.1    95.2    93.8    99.0\n",
       "2021/06   113.6    94.6    99.8    99.5\n",
       "2021/07   113.8    95.9    98.8   100.3\n",
       "2021/08   113.0    91.4    95.3   100.7\n",
       "\n",
       "[1232 rows x 4 columns]"
      ]
     },
     "execution_count": 2,
     "metadata": {},
     "output_type": "execute_result"
    }
   ],
   "source": [
    "df"
   ]
  },
  {
   "cell_type": "markdown",
   "id": "c4fa5ece",
   "metadata": {},
   "source": [
    "#### (1) 국가별 산업생산지수의 월별 추이를 그리시오. "
   ]
  },
  {
   "cell_type": "code",
   "execution_count": 3,
   "id": "a980aa41",
   "metadata": {},
   "outputs": [
    {
     "data": {
      "image/png": "[encoded data removed]",
      "text/plain": [
       "<Figure size 864x504 with 1 Axes>"
      ]
     },
     "metadata": {},
     "output_type": "display_data"
    }
   ],
   "source": [
    "plt.style.use('seaborn')\n",
    "plt.figure(figsize=(12,7))\n",
    "plt.plot(df)\n",
    "plt.legend(df.columns)\n",
    "ax = plt.gca()\n",
    "ax.axes.xaxis.set_visible(False)"
   ]
  },
  {
   "cell_type": "markdown",
   "id": "c6c7748c",
   "metadata": {},
   "source": [
    "한국의 산업생산지수 월별 추이"
   ]
  },
  {
   "cell_type": "code",
   "execution_count": 4,
   "id": "33ffb31d",
   "metadata": {},
   "outputs": [
    {
     "data": {
      "image/png": "[encoded data removed]",
      "text/plain": [
       "<Figure size 864x504 with 1 Axes>"
      ]
     },
     "metadata": {},
     "output_type": "display_data"
    }
   ],
   "source": [
    "df_kor = df.iloc[:,0]\n",
    "df_kor = df_kor.dropna()\n",
    "\n",
    "plt.figure(figsize=(12,7))\n",
    "plt.plot(df_kor)\n",
    "plt.legend(df.columns[:1])\n",
    "ax = plt.gca()\n",
    "ax.axes.xaxis.set_visible(False)"
   ]
  },
  {
   "cell_type": "markdown",
   "id": "eb4c1efe",
   "metadata": {},
   "source": [
    "독일의 산업생산지수의 월별 추이"
   ]
  },
  {
   "cell_type": "code",
   "execution_count": 5,
   "id": "87449edb",
   "metadata": {},
   "outputs": [
    {
     "data": {
      "image/png": "[encoded data removed]",
      "text/plain": [
       "<Figure size 864x504 with 1 Axes>"
      ]
     },
     "metadata": {},
     "output_type": "display_data"
    }
   ],
   "source": [
    "df_ger = df.iloc[:,1]\n",
    "df_ger = df_ger.dropna()\n",
    "\n",
    "plt.figure(figsize=(12,7))\n",
    "plt.plot(df_ger)\n",
    "plt.legend(df.columns[1:2])\n",
    "ax = plt.gca()\n",
    "ax.axes.xaxis.set_visible(False)"
   ]
  },
  {
   "cell_type": "markdown",
   "id": "814c0c53",
   "metadata": {},
   "source": [
    "일본의 산업생산지수의 월별 추이"
   ]
  },
  {
   "cell_type": "code",
   "execution_count": 6,
   "id": "d37edd09",
   "metadata": {},
   "outputs": [
    {
     "data": {
      "image/png": "[encoded data removed]",
      "text/plain": [
       "<Figure size 864x504 with 1 Axes>"
      ]
     },
     "metadata": {},
     "output_type": "display_data"
    }
   ],
   "source": [
    "df_jap = df.iloc[:,2]\n",
    "df_jap = df_jap.dropna()\n",
    "\n",
    "plt.figure(figsize=(12,7))\n",
    "plt.plot(df_jap)\n",
    "plt.legend(df.columns[2:3])\n",
    "ax = plt.gca()\n",
    "ax.axes.xaxis.set_visible(False)"
   ]
  },
  {
   "cell_type": "markdown",
   "id": "ebabde53",
   "metadata": {},
   "source": [
    "미국의 산업생산지수의 월별 추이"
   ]
  },
  {
   "cell_type": "code",
   "execution_count": 7,
   "id": "71f522f8",
   "metadata": {},
   "outputs": [
    {
     "data": {
      "image/png": "[encoded data removed]",
      "text/plain": [
       "<Figure size 864x504 with 1 Axes>"
      ]
     },
     "metadata": {},
     "output_type": "display_data"
    }
   ],
   "source": [
    "df_usa = df.iloc[:,3]\n",
    "df_usa = df_usa.dropna()\n",
    "\n",
    "plt.figure(figsize=(12,7))\n",
    "plt.plot(df_usa)\n",
    "plt.legend(df.columns[3:4])\n",
    "ax = plt.gca()\n",
    "ax.axes.xaxis.set_visible(False)"
   ]
  },
  {
   "cell_type": "markdown",
   "id": "669eae0b",
   "metadata": {},
   "source": [
    "**관측지가 없는 자료들 잘라내기**"
   ]
  },
  {
   "cell_type": "code",
   "execution_count": 8,
   "id": "a42aed9b",
   "metadata": {},
   "outputs": [
    {
     "data": {
      "text/html": [
       "<div>\n",
       "<style scoped>\n",
       "    .dataframe tbody tr th:only-of-type {\n",
       "        vertical-align: middle;\n",
       "    }\n",
       "\n",
       "    .dataframe tbody tr th {\n",
       "        vertical-align: top;\n",
       "    }\n",
       "\n",
       "    .dataframe thead th {\n",
       "        text-align: right;\n",
       "    }\n",
       "</style>\n",
       "<table border=\"1\" class=\"dataframe\">\n",
       "  <thead>\n",
       "    <tr style=\"text-align: right;\">\n",
       "      <th></th>\n",
       "      <th>kor_pi</th>\n",
       "      <th>ger_pi</th>\n",
       "      <th>jap_pi</th>\n",
       "      <th>usa_pi</th>\n",
       "    </tr>\n",
       "  </thead>\n",
       "  <tbody>\n",
       "    <tr>\n",
       "      <th>1989/01</th>\n",
       "      <td>19.0</td>\n",
       "      <td>67.3</td>\n",
       "      <td>98.9</td>\n",
       "      <td>61.9</td>\n",
       "    </tr>\n",
       "    <tr>\n",
       "      <th>1989/02</th>\n",
       "      <td>18.9</td>\n",
       "      <td>67.0</td>\n",
       "      <td>98.3</td>\n",
       "      <td>61.6</td>\n",
       "    </tr>\n",
       "    <tr>\n",
       "      <th>1989/03</th>\n",
       "      <td>19.1</td>\n",
       "      <td>67.5</td>\n",
       "      <td>101.8</td>\n",
       "      <td>61.8</td>\n",
       "    </tr>\n",
       "    <tr>\n",
       "      <th>1989/04</th>\n",
       "      <td>18.1</td>\n",
       "      <td>69.6</td>\n",
       "      <td>100.2</td>\n",
       "      <td>61.7</td>\n",
       "    </tr>\n",
       "    <tr>\n",
       "      <th>1989/05</th>\n",
       "      <td>19.3</td>\n",
       "      <td>66.2</td>\n",
       "      <td>100.3</td>\n",
       "      <td>61.4</td>\n",
       "    </tr>\n",
       "    <tr>\n",
       "      <th>...</th>\n",
       "      <td>...</td>\n",
       "      <td>...</td>\n",
       "      <td>...</td>\n",
       "      <td>...</td>\n",
       "    </tr>\n",
       "    <tr>\n",
       "      <th>2021/04</th>\n",
       "      <td>112.6</td>\n",
       "      <td>95.9</td>\n",
       "      <td>99.8</td>\n",
       "      <td>98.4</td>\n",
       "    </tr>\n",
       "    <tr>\n",
       "      <th>2021/05</th>\n",
       "      <td>111.1</td>\n",
       "      <td>95.2</td>\n",
       "      <td>93.8</td>\n",
       "      <td>99.0</td>\n",
       "    </tr>\n",
       "    <tr>\n",
       "      <th>2021/06</th>\n",
       "      <td>113.6</td>\n",
       "      <td>94.6</td>\n",
       "      <td>99.8</td>\n",
       "      <td>99.5</td>\n",
       "    </tr>\n",
       "    <tr>\n",
       "      <th>2021/07</th>\n",
       "      <td>113.8</td>\n",
       "      <td>95.9</td>\n",
       "      <td>98.8</td>\n",
       "      <td>100.3</td>\n",
       "    </tr>\n",
       "    <tr>\n",
       "      <th>2021/08</th>\n",
       "      <td>113.0</td>\n",
       "      <td>91.4</td>\n",
       "      <td>95.3</td>\n",
       "      <td>100.7</td>\n",
       "    </tr>\n",
       "  </tbody>\n",
       "</table>\n",
       "<p>392 rows × 4 columns</p>\n",
       "</div>"
      ],
      "text/plain": [
       "         kor_pi  ger_pi  jap_pi  usa_pi\n",
       "1989/01    19.0    67.3    98.9    61.9\n",
       "1989/02    18.9    67.0    98.3    61.6\n",
       "1989/03    19.1    67.5   101.8    61.8\n",
       "1989/04    18.1    69.6   100.2    61.7\n",
       "1989/05    19.3    66.2   100.3    61.4\n",
       "...         ...     ...     ...     ...\n",
       "2021/04   112.6    95.9    99.8    98.4\n",
       "2021/05   111.1    95.2    93.8    99.0\n",
       "2021/06   113.6    94.6    99.8    99.5\n",
       "2021/07   113.8    95.9    98.8   100.3\n",
       "2021/08   113.0    91.4    95.3   100.7\n",
       "\n",
       "[392 rows x 4 columns]"
      ]
     },
     "execution_count": 8,
     "metadata": {},
     "output_type": "execute_result"
    }
   ],
   "source": [
    "df = pd.read_excel('production_index.xlsx')\n",
    "df = pd.DataFrame(df.iloc[:,1:].values, index = df.iloc[:,0].values, columns = df.columns[1:])\n",
    "df = df.dropna()\n",
    "df"
   ]
  },
  {
   "cell_type": "markdown",
   "id": "fe95bc2e",
   "metadata": {},
   "source": [
    "#### (2) 최소자승법으로 다음의 모형을 추정하시오.\n",
    "$$y_{kor} = \\beta_0 + \\beta_1y_{jp} + \\beta_2y_{ger} + \\beta_3y_{usa} + \\epsilon$$\n",
    "이 모형에서 발생하는 문제가 무엇이며 이를 어디서 확인할 수 있나요?"
   ]
  },
  {
   "cell_type": "code",
   "execution_count": 9,
   "id": "d0cea38f",
   "metadata": {},
   "outputs": [
    {
     "data": {
      "text/html": [
       "<table class=\"simpletable\">\n",
       "<caption>OLS Regression Results</caption>\n",
       "<tr>\n",
       "  <th>Dep. Variable:</th>         <td>kor_pi</td>      <th>  R-squared:         </th> <td>   0.941</td> \n",
       "</tr>\n",
       "<tr>\n",
       "  <th>Model:</th>                   <td>OLS</td>       <th>  Adj. R-squared:    </th> <td>   0.941</td> \n",
       "</tr>\n",
       "<tr>\n",
       "  <th>Method:</th>             <td>Least Squares</td>  <th>  F-statistic:       </th> <td>   2064.</td> \n",
       "</tr>\n",
       "<tr>\n",
       "  <th>Date:</th>             <td>Mon, 30 May 2022</td> <th>  Prob (F-statistic):</th> <td>4.86e-238</td>\n",
       "</tr>\n",
       "<tr>\n",
       "  <th>Time:</th>                 <td>23:26:42</td>     <th>  Log-Likelihood:    </th> <td> -1354.1</td> \n",
       "</tr>\n",
       "<tr>\n",
       "  <th>No. Observations:</th>      <td>   392</td>      <th>  AIC:               </th> <td>   2716.</td> \n",
       "</tr>\n",
       "<tr>\n",
       "  <th>Df Residuals:</th>          <td>   388</td>      <th>  BIC:               </th> <td>   2732.</td> \n",
       "</tr>\n",
       "<tr>\n",
       "  <th>Df Model:</th>              <td>     3</td>      <th>                     </th>     <td> </td>    \n",
       "</tr>\n",
       "<tr>\n",
       "  <th>Covariance Type:</th>      <td>nonrobust</td>    <th>                     </th>     <td> </td>    \n",
       "</tr>\n",
       "</table>\n",
       "<table class=\"simpletable\">\n",
       "<tr>\n",
       "     <td></td>       <th>coef</th>     <th>std err</th>      <th>t</th>      <th>P>|t|</th>  <th>[0.025</th>    <th>0.975]</th>  \n",
       "</tr>\n",
       "<tr>\n",
       "  <th>const</th>  <td>  -22.0297</td> <td>    6.688</td> <td>   -3.294</td> <td> 0.001</td> <td>  -35.179</td> <td>   -8.880</td>\n",
       "</tr>\n",
       "<tr>\n",
       "  <th>jap_pi</th> <td>   -1.2321</td> <td>    0.064</td> <td>  -19.267</td> <td> 0.000</td> <td>   -1.358</td> <td>   -1.106</td>\n",
       "</tr>\n",
       "<tr>\n",
       "  <th>ger_pi</th> <td>    1.8587</td> <td>    0.061</td> <td>   30.591</td> <td> 0.000</td> <td>    1.739</td> <td>    1.978</td>\n",
       "</tr>\n",
       "<tr>\n",
       "  <th>usa_pi</th> <td>    0.6343</td> <td>    0.056</td> <td>   11.280</td> <td> 0.000</td> <td>    0.524</td> <td>    0.745</td>\n",
       "</tr>\n",
       "</table>\n",
       "<table class=\"simpletable\">\n",
       "<tr>\n",
       "  <th>Omnibus:</th>       <td>89.430</td> <th>  Durbin-Watson:     </th> <td>   0.323</td>\n",
       "</tr>\n",
       "<tr>\n",
       "  <th>Prob(Omnibus):</th> <td> 0.000</td> <th>  Jarque-Bera (JB):  </th> <td> 321.926</td>\n",
       "</tr>\n",
       "<tr>\n",
       "  <th>Skew:</th>          <td> 0.978</td> <th>  Prob(JB):          </th> <td>1.24e-70</td>\n",
       "</tr>\n",
       "<tr>\n",
       "  <th>Kurtosis:</th>      <td> 6.986</td> <th>  Cond. No.          </th> <td>2.76e+03</td>\n",
       "</tr>\n",
       "</table><br/><br/>Notes:<br/>[1] Standard Errors assume that the covariance matrix of the errors is correctly specified.<br/>[2] The condition number is large, 2.76e+03. This might indicate that there are<br/>strong multicollinearity or other numerical problems."
      ],
      "text/plain": [
       "<class 'statsmodels.iolib.summary.Summary'>\n",
       "\"\"\"\n",
       "                            OLS Regression Results                            \n",
       "==============================================================================\n",
       "Dep. Variable:                 kor_pi   R-squared:                       0.941\n",
       "Model:                            OLS   Adj. R-squared:                  0.941\n",
       "Method:                 Least Squares   F-statistic:                     2064.\n",
       "Date:                Mon, 30 May 2022   Prob (F-statistic):          4.86e-238\n",
       "Time:                        23:26:42   Log-Likelihood:                -1354.1\n",
       "No. Observations:                 392   AIC:                             2716.\n",
       "Df Residuals:                     388   BIC:                             2732.\n",
       "Df Model:                           3                                         \n",
       "Covariance Type:            nonrobust                                         \n",
       "==============================================================================\n",
       "                 coef    std err          t      P>|t|      [0.025      0.975]\n",
       "------------------------------------------------------------------------------\n",
       "const        -22.0297      6.688     -3.294      0.001     -35.179      -8.880\n",
       "jap_pi        -1.2321      0.064    -19.267      0.000      -1.358      -1.106\n",
       "ger_pi         1.8587      0.061     30.591      0.000       1.739       1.978\n",
       "usa_pi         0.6343      0.056     11.280      0.000       0.524       0.745\n",
       "==============================================================================\n",
       "Omnibus:                       89.430   Durbin-Watson:                   0.323\n",
       "Prob(Omnibus):                  0.000   Jarque-Bera (JB):              321.926\n",
       "Skew:                           0.978   Prob(JB):                     1.24e-70\n",
       "Kurtosis:                       6.986   Cond. No.                     2.76e+03\n",
       "==============================================================================\n",
       "\n",
       "Notes:\n",
       "[1] Standard Errors assume that the covariance matrix of the errors is correctly specified.\n",
       "[2] The condition number is large, 2.76e+03. This might indicate that there are\n",
       "strong multicollinearity or other numerical problems.\n",
       "\"\"\""
      ]
     },
     "execution_count": 9,
     "metadata": {},
     "output_type": "execute_result"
    }
   ],
   "source": [
    "y = df.iloc[:,0]\n",
    "X = df.iloc[:,[2,1,3]]\n",
    "X = sm.add_constant(X)\n",
    "model = sm.OLS(y,X).fit()\n",
    "model.summary()"
   ]
  },
  {
   "cell_type": "markdown",
   "id": "f2652985",
   "metadata": {},
   "source": [
    "- 결정계수도 높고 변수간 p-value도 유의수준 0.05에서 각 변수가 유의성이 없다는 가설을 기각하므로 언뜻 보면 완벽한 모형으로 보이나, DW검정값이 0.323으로 매우 낮아 자기상관의 문제가 의심되는 불안정한 시계열 자료라고 할 수 있다."
   ]
  },
  {
   "cell_type": "markdown",
   "id": "7ff44609",
   "metadata": {},
   "source": [
    "#### (3) 각 변수에 대해 단위근 검정을 진행하시오(단, regression = 'c'로 설정)."
   ]
  },
  {
   "cell_type": "code",
   "execution_count": 10,
   "id": "581c7d4d",
   "metadata": {},
   "outputs": [
    {
     "data": {
      "text/plain": [
       "(-0.4204933391755398,\n",
       " 0.906620484423682,\n",
       " 10,\n",
       " 381,\n",
       " {'1%': -3.4476305904172904,\n",
       "  '5%': -2.869155980820355,\n",
       "  '10%': -2.570827146203181},\n",
       " 1425.1384069496098)"
      ]
     },
     "execution_count": 10,
     "metadata": {},
     "output_type": "execute_result"
    }
   ],
   "source": [
    "import statsmodels.tsa.api as tsa\n",
    "from statsmodels.tsa.stattools import adfuller\n",
    "\n",
    "adfuller(df.iloc[:,0], regression = 'c')"
   ]
  },
  {
   "cell_type": "markdown",
   "id": "91182f71",
   "metadata": {},
   "source": [
    "#### 한국 생산산업지수 시계열 자료에 관한 ADF검정 결과\n",
    "\n",
    "<pre>\n",
    "test statistic : -0.42\n",
    "p-value : 0.907\n",
    "time lag : 10\n",
    "observation : 381\n",
    "Critical value (0.01) : -3.448\n",
    "Critical value (0.05) : -2.869\n",
    "Critical value (0.10) : -2.571\n",
    "</pre>\n",
    "\n",
    "- p-value 값이 어떠한 유의수준보다 훨씬 크므로 단위근이 존재한다."
   ]
  },
  {
   "cell_type": "code",
   "execution_count": 11,
   "id": "b48e70f3",
   "metadata": {},
   "outputs": [
    {
     "data": {
      "text/plain": [
       "(-1.625392799033828,\n",
       " 0.46990321210074454,\n",
       " 2,\n",
       " 389,\n",
       " {'1%': -3.447272819026727,\n",
       "  '5%': -2.868998737588248,\n",
       "  '10%': -2.5707433189709294},\n",
       " 1534.4678568441584)"
      ]
     },
     "execution_count": 11,
     "metadata": {},
     "output_type": "execute_result"
    }
   ],
   "source": [
    "adfuller(df.iloc[:,1], regression = 'c')"
   ]
  },
  {
   "cell_type": "markdown",
   "id": "b00e5904",
   "metadata": {},
   "source": [
    "#### 독일 생산산업지수 차분 시계열 자료에 관한 ADF검정 결과\n",
    "<pre>\n",
    "test statistic : -1.625\n",
    "p-value : 0.470\n",
    "time lag : 2\n",
    "observation : 389\n",
    "Critical value (0.01) : -3.447\n",
    "Critical value (0.05) : -2.869\n",
    "Critical value (0.10) : -2.571\n",
    "</pre>\n",
    "\n",
    "- p-value 값이 어떠한 유의수준보다 훨씬 크므로 단위근이 존재한다."
   ]
  },
  {
   "cell_type": "code",
   "execution_count": 12,
   "id": "71524a0c",
   "metadata": {},
   "outputs": [
    {
     "data": {
      "text/plain": [
       "(-3.654706787310492,\n",
       " 0.004797278514957869,\n",
       " 2,\n",
       " 389,\n",
       " {'1%': -3.447272819026727,\n",
       "  '5%': -2.868998737588248,\n",
       "  '10%': -2.5707433189709294},\n",
       " 1584.160051811954)"
      ]
     },
     "execution_count": 12,
     "metadata": {},
     "output_type": "execute_result"
    }
   ],
   "source": [
    "adfuller(df.iloc[:,2], regression = 'c')"
   ]
  },
  {
   "cell_type": "markdown",
   "id": "6ea31ce3",
   "metadata": {},
   "source": [
    "#### 일본 생산산업지수 시계열 자료에 관한 ADF검정 결과\n",
    "<pre>\n",
    "test statistic : -3.655\n",
    "p-value : 0.005\n",
    "time lag : 2\n",
    "observation : 389\n",
    "Critical value (0.01) : -3.447\n",
    "Critical value (0.05) : -2.869\n",
    "Critical value (0.10) : -2.571\n",
    "</pre>\n",
    "\n",
    "- p-value 값이 작으므로 어떠한 유의수준에서라도 단위근이 존재하지 않는다."
   ]
  },
  {
   "cell_type": "code",
   "execution_count": 13,
   "id": "1d371e36",
   "metadata": {},
   "outputs": [
    {
     "data": {
      "text/plain": [
       "(-1.6514746154565698,\n",
       " 0.4562714828601087,\n",
       " 2,\n",
       " 389,\n",
       " {'1%': -3.447272819026727,\n",
       "  '5%': -2.868998737588248,\n",
       "  '10%': -2.5707433189709294},\n",
       " 1033.9203090415158)"
      ]
     },
     "execution_count": 13,
     "metadata": {},
     "output_type": "execute_result"
    }
   ],
   "source": [
    "adfuller(df.iloc[:,3], regression = 'c')"
   ]
  },
  {
   "cell_type": "markdown",
   "id": "6fd0d650",
   "metadata": {},
   "source": [
    "#### 미국 생산산업지수 시계열 자료에 관한 ADF검정 결과\n",
    "<pre>\n",
    "test statistic : -1.651\n",
    "p-value : 0.456\n",
    "time lag : 2\n",
    "observation : 389\n",
    "Critical value (0.01) : -3.447\n",
    "Critical value (0.05) : -2.869\n",
    "Critical value (0.10) : -2.571\n",
    "</pre>\n",
    "\n",
    "- p-value 값이 어떠한 유의수준보다 훨씬 크므로 단위근이 존재한다."
   ]
  },
  {
   "cell_type": "markdown",
   "id": "676e013b",
   "metadata": {},
   "source": [
    "#### (4) 각 변수들의 원 자료를 변화율로 바꾼 후, 이들에 대해 다시 단위근 검정을 진행하시오(단, regression = 'c'로 설정)."
   ]
  },
  {
   "cell_type": "code",
   "execution_count": 14,
   "id": "0c135b26",
   "metadata": {},
   "outputs": [
    {
     "data": {
      "text/html": [
       "<div>\n",
       "<style scoped>\n",
       "    .dataframe tbody tr th:only-of-type {\n",
       "        vertical-align: middle;\n",
       "    }\n",
       "\n",
       "    .dataframe tbody tr th {\n",
       "        vertical-align: top;\n",
       "    }\n",
       "\n",
       "    .dataframe thead th {\n",
       "        text-align: right;\n",
       "    }\n",
       "</style>\n",
       "<table border=\"1\" class=\"dataframe\">\n",
       "  <thead>\n",
       "    <tr style=\"text-align: right;\">\n",
       "      <th></th>\n",
       "      <th>kor_pi</th>\n",
       "      <th>ger_pi</th>\n",
       "      <th>jap_pi</th>\n",
       "      <th>usa_pi</th>\n",
       "    </tr>\n",
       "  </thead>\n",
       "  <tbody>\n",
       "    <tr>\n",
       "      <th>1989/02</th>\n",
       "      <td>-0.005263</td>\n",
       "      <td>-0.004458</td>\n",
       "      <td>-0.006067</td>\n",
       "      <td>-0.004847</td>\n",
       "    </tr>\n",
       "    <tr>\n",
       "      <th>1989/03</th>\n",
       "      <td>0.010582</td>\n",
       "      <td>0.007463</td>\n",
       "      <td>0.035605</td>\n",
       "      <td>0.003247</td>\n",
       "    </tr>\n",
       "    <tr>\n",
       "      <th>1989/04</th>\n",
       "      <td>-0.052356</td>\n",
       "      <td>0.031111</td>\n",
       "      <td>-0.015717</td>\n",
       "      <td>-0.001618</td>\n",
       "    </tr>\n",
       "    <tr>\n",
       "      <th>1989/05</th>\n",
       "      <td>0.066298</td>\n",
       "      <td>-0.048851</td>\n",
       "      <td>0.000998</td>\n",
       "      <td>-0.004862</td>\n",
       "    </tr>\n",
       "    <tr>\n",
       "      <th>1989/06</th>\n",
       "      <td>0.015544</td>\n",
       "      <td>0.040785</td>\n",
       "      <td>0.011964</td>\n",
       "      <td>0.000000</td>\n",
       "    </tr>\n",
       "    <tr>\n",
       "      <th>...</th>\n",
       "      <td>...</td>\n",
       "      <td>...</td>\n",
       "      <td>...</td>\n",
       "      <td>...</td>\n",
       "    </tr>\n",
       "    <tr>\n",
       "      <th>2021/04</th>\n",
       "      <td>-0.019164</td>\n",
       "      <td>-0.004154</td>\n",
       "      <td>0.027806</td>\n",
       "      <td>0.001017</td>\n",
       "    </tr>\n",
       "    <tr>\n",
       "      <th>2021/05</th>\n",
       "      <td>-0.013321</td>\n",
       "      <td>-0.007299</td>\n",
       "      <td>-0.060120</td>\n",
       "      <td>0.006098</td>\n",
       "    </tr>\n",
       "    <tr>\n",
       "      <th>2021/06</th>\n",
       "      <td>0.022502</td>\n",
       "      <td>-0.006303</td>\n",
       "      <td>0.063966</td>\n",
       "      <td>0.005051</td>\n",
       "    </tr>\n",
       "    <tr>\n",
       "      <th>2021/07</th>\n",
       "      <td>0.001761</td>\n",
       "      <td>0.013742</td>\n",
       "      <td>-0.010020</td>\n",
       "      <td>0.008040</td>\n",
       "    </tr>\n",
       "    <tr>\n",
       "      <th>2021/08</th>\n",
       "      <td>-0.007030</td>\n",
       "      <td>-0.046924</td>\n",
       "      <td>-0.035425</td>\n",
       "      <td>0.003988</td>\n",
       "    </tr>\n",
       "  </tbody>\n",
       "</table>\n",
       "<p>391 rows × 4 columns</p>\n",
       "</div>"
      ],
      "text/plain": [
       "           kor_pi    ger_pi    jap_pi    usa_pi\n",
       "1989/02 -0.005263 -0.004458 -0.006067 -0.004847\n",
       "1989/03  0.010582  0.007463  0.035605  0.003247\n",
       "1989/04 -0.052356  0.031111 -0.015717 -0.001618\n",
       "1989/05  0.066298 -0.048851  0.000998 -0.004862\n",
       "1989/06  0.015544  0.040785  0.011964  0.000000\n",
       "...           ...       ...       ...       ...\n",
       "2021/04 -0.019164 -0.004154  0.027806  0.001017\n",
       "2021/05 -0.013321 -0.007299 -0.060120  0.006098\n",
       "2021/06  0.022502 -0.006303  0.063966  0.005051\n",
       "2021/07  0.001761  0.013742 -0.010020  0.008040\n",
       "2021/08 -0.007030 -0.046924 -0.035425  0.003988\n",
       "\n",
       "[391 rows x 4 columns]"
      ]
     },
     "execution_count": 14,
     "metadata": {},
     "output_type": "execute_result"
    }
   ],
   "source": [
    "df_i1 = df.pct_change().dropna()\n",
    "df_i1"
   ]
  },
  {
   "cell_type": "code",
   "execution_count": 15,
   "id": "39153b5d",
   "metadata": {},
   "outputs": [
    {
     "data": {
      "text/plain": [
       "(-21.735849100797008,\n",
       " 0.0,\n",
       " 0,\n",
       " 390,\n",
       " {'1%': -3.4472291365835566,\n",
       "  '5%': -2.8689795375849223,\n",
       "  '10%': -2.5707330834976987},\n",
       " -1774.008621747591)"
      ]
     },
     "execution_count": 15,
     "metadata": {},
     "output_type": "execute_result"
    }
   ],
   "source": [
    "adfuller(df_i1.iloc[:,0], regression = 'c')"
   ]
  },
  {
   "cell_type": "markdown",
   "id": "89706040",
   "metadata": {},
   "source": [
    "#### 한국 생산산업지수 차분 시계열 자료에 관한 ADF검정 결과\n",
    "<pre>\n",
    "test statistic : -21.736\n",
    "p-value : 0.0\n",
    "time lag : 0\n",
    "observation : 390\n",
    "Critical value (0.01) : -3.447\n",
    "Critical value (0.05) : -2.869\n",
    "Critical value (0.10) : -2.571\n",
    "</pre>\n",
    "\n",
    "- p-value 값이 0에 한없이 가깝게 특정되었으므로 단위근은 존재하지 않는다."
   ]
  },
  {
   "cell_type": "code",
   "execution_count": 16,
   "id": "b38b08a5",
   "metadata": {},
   "outputs": [
    {
     "data": {
      "text/plain": [
       "(-16.902122560134107,\n",
       " 1.0257974577999611e-29,\n",
       " 1,\n",
       " 389,\n",
       " {'1%': -3.447272819026727,\n",
       "  '5%': -2.868998737588248,\n",
       "  '10%': -2.5707433189709294},\n",
       " -1805.4209877288022)"
      ]
     },
     "execution_count": 16,
     "metadata": {},
     "output_type": "execute_result"
    }
   ],
   "source": [
    "adfuller(df_i1.iloc[:,1], regression = 'c')"
   ]
  },
  {
   "cell_type": "markdown",
   "id": "bdfe3dec",
   "metadata": {},
   "source": [
    "#### 독일 생산산업지수 차분 시계열 자료에 관한 ADF검정 결과\n",
    "<pre>\n",
    "test statistic : -16.902\n",
    "p-value : 1.026e-29\n",
    "time lag : 1\n",
    "observation : 389\n",
    "Critical value (0.01) : -3.447\n",
    "Critical value (0.05) : -2.869\n",
    "Critical value (0.10) : -2.571\n",
    "</pre>\n",
    "\n",
    "- p-value 값이 0에 한없이 가깝게 특정되었으므로 단위근은 존재하지 않는다."
   ]
  },
  {
   "cell_type": "code",
   "execution_count": 17,
   "id": "60cf0016",
   "metadata": {},
   "outputs": [
    {
     "data": {
      "text/plain": [
       "(-18.321375489615477,\n",
       " 2.2654736427201124e-30,\n",
       " 0,\n",
       " 390,\n",
       " {'1%': -3.4472291365835566,\n",
       "  '5%': -2.8689795375849223,\n",
       "  '10%': -2.5707330834976987},\n",
       " -1836.781812256374)"
      ]
     },
     "execution_count": 17,
     "metadata": {},
     "output_type": "execute_result"
    }
   ],
   "source": [
    "adfuller(df_i1.iloc[:,2], regression = 'c')"
   ]
  },
  {
   "cell_type": "markdown",
   "id": "825ee1ea",
   "metadata": {},
   "source": [
    "#### 일본 생산산업지수 차분 시계열 자료에 관한 ADF검정 결과\n",
    "<pre>\n",
    "test statistic : -18.321\n",
    "p-value : 2.265e-30\n",
    "time lag : 0\n",
    "observation : 390\n",
    "Critical value (0.01) : -3.447\n",
    "Critical value (0.05) : -2.869\n",
    "Critical value (0.10) : -2.571\n",
    "</pre>\n",
    "\n",
    "- p-value 값이 0에 한없이 가깝게 특정되었으므로 단위근은 존재하지 않는다."
   ]
  },
  {
   "cell_type": "code",
   "execution_count": 18,
   "id": "f2c73848",
   "metadata": {},
   "outputs": [
    {
     "data": {
      "text/plain": [
       "(-14.087263620894564,\n",
       " 2.7612899474284344e-26,\n",
       " 1,\n",
       " 389,\n",
       " {'1%': -3.447272819026727,\n",
       "  '5%': -2.868998737588248,\n",
       "  '10%': -2.5707433189709294},\n",
       " -2350.20040893434)"
      ]
     },
     "execution_count": 18,
     "metadata": {},
     "output_type": "execute_result"
    }
   ],
   "source": [
    "adfuller(df_i1.iloc[:,3], regression = 'c')"
   ]
  },
  {
   "cell_type": "markdown",
   "id": "969c1cde",
   "metadata": {},
   "source": [
    "#### 미국 생산산업지수 차분 시계열 자료에 관한 ADF검정 결과\n",
    "<pre>\n",
    "test statistic : -14.087\n",
    "p-value : 2.761e-26\n",
    "time lag : 1\n",
    "observation : 389\n",
    "Critical value (0.01) : -3.447\n",
    "Critical value (0.05) : -2.869\n",
    "Critical value (0.10) : -2.571\n",
    "</pre>\n",
    "\n",
    "- p-value 값이 0에 한없이 가깝게 특정되었으므로 단위근은 존재하지 않는다."
   ]
  },
  {
   "cell_type": "markdown",
   "id": "49a44292",
   "metadata": {
    "tags": []
   },
   "source": [
    "#### (5) 일본의 산업생산지수 원자료(변화율 x)에 대해, acf와 pacf를 그리시오. 이로부터 어떤 결론을 도출할 수 있나요?"
   ]
  },
  {
   "cell_type": "code",
   "execution_count": 19,
   "id": "4189a610",
   "metadata": {},
   "outputs": [
    {
     "data": {
      "image/png": "[encoded data removed]",
      "text/plain": [
       "<Figure size 576x396 with 1 Axes>"
      ]
     },
     "metadata": {},
     "output_type": "display_data"
    }
   ],
   "source": [
    "plot_acf(df['jap_pi'])\n",
    "plt.ylabel('ACF')\n",
    "plt.xlabel('Time lag')\n",
    "plt.show()"
   ]
  },
  {
   "cell_type": "markdown",
   "id": "dd92ec17",
   "metadata": {},
   "source": [
    "- ACF는 AR모형에서의 차수를 정하는 방법이다\n",
    "- 시점 $t$에서 발생한 충격은 시점 $t+10$까지 유의미한 영향을 끼치는 것으로 나타났다."
   ]
  },
  {
   "cell_type": "code",
   "execution_count": 20,
   "id": "f07304c5",
   "metadata": {},
   "outputs": [
    {
     "data": {
      "image/png": "[encoded data removed]",
      "text/plain": [
       "<Figure size 576x396 with 1 Axes>"
      ]
     },
     "metadata": {},
     "output_type": "display_data"
    }
   ],
   "source": [
    "plot_pacf(df['jap_pi'])\n",
    "plt.ylabel('Partial ACF')\n",
    "plt.xlabel('Time lag')\n",
    "plt.show()"
   ]
  },
  {
   "cell_type": "markdown",
   "id": "7bc0365e",
   "metadata": {},
   "source": [
    "- PACF는 MA모형에서의 차수를 정하는 방법이다\n",
    "- 시점 $t$에서 발생한 충격은 시점 $t+2$까지 유의미한 영향을 끼치는 것으로 나타났다"
   ]
  },
  {
   "cell_type": "markdown",
   "id": "e06930b3",
   "metadata": {},
   "source": [
    "#### (6) 일본의 산업생산지수를 ARMA(p,q)로 modeling한다고 하자. 이때, AIC와 BIC를 기준으로 최적의 p, q를 도출하시오."
   ]
  },
  {
   "cell_type": "code",
   "execution_count": 21,
   "id": "d6be3ffe",
   "metadata": {},
   "outputs": [],
   "source": [
    "res = sm.tsa.arma_order_select_ic(df['jap_pi'], ic=[\"aic\", \"bic\"], trend=\"nc\")"
   ]
  },
  {
   "cell_type": "code",
   "execution_count": 22,
   "id": "83577ea8",
   "metadata": {},
   "outputs": [
    {
     "data": {
      "text/plain": [
       "(1, 0)"
      ]
     },
     "execution_count": 22,
     "metadata": {},
     "output_type": "execute_result"
    }
   ],
   "source": [
    "res.aic_min_order"
   ]
  },
  {
   "cell_type": "code",
   "execution_count": 23,
   "id": "cfdde4e6",
   "metadata": {},
   "outputs": [
    {
     "data": {
      "text/plain": [
       "(1, 0)"
      ]
     },
     "execution_count": 23,
     "metadata": {},
     "output_type": "execute_result"
    }
   ],
   "source": [
    "res.bic_min_order"
   ]
  },
  {
   "cell_type": "code",
   "execution_count": 24,
   "id": "39cc7b21",
   "metadata": {},
   "outputs": [
    {
     "name": "stdout",
     "output_type": "stream",
     "text": [
      "RUNNING THE L-BFGS-B CODE\n",
      "\n",
      "           * * *\n",
      "\n",
      "Machine precision = 2.220D-16\n",
      " N =            3     M =           12\n",
      "\n",
      "At X0         0 variables are exactly at the bounds\n",
      "\n",
      "At iterate    0    f=  2.10369D+00    |proj g|=  8.82139D-04\n",
      "\n",
      "At iterate    5    f=  2.10366D+00    |proj g|=  6.32516D-04\n",
      "\n",
      "At iterate   10    f=  2.10365D+00    |proj g|=  0.00000D+00\n",
      "\n",
      "           * * *\n",
      "\n",
      "Tit   = total number of iterations\n",
      "Tnf   = total number of function evaluations\n",
      "Tnint = total number of segments explored during Cauchy searches\n",
      "Skip  = number of BFGS updates skipped\n",
      "Nact  = number of active bounds at final generalized Cauchy point\n",
      "Projg = norm of the final projected gradient\n",
      "F     = final function value\n",
      "\n",
      "           * * *\n",
      "\n",
      "   N    Tit     Tnf  Tnint  Skip  Nact     Projg        F\n",
      "    3     10     13      1     0     0   0.000D+00   2.104D+00\n",
      "  F =   2.1036530753746270     \n",
      "\n",
      "CONVERGENCE: NORM_OF_PROJECTED_GRADIENT_<=_PGTOL            \n"
     ]
    },
    {
     "name": "stderr",
     "output_type": "stream",
     "text": [
      " This problem is unconstrained.\n"
     ]
    },
    {
     "data": {
      "text/html": [
       "<table class=\"simpletable\">\n",
       "<caption>ARMA Model Results</caption>\n",
       "<tr>\n",
       "  <th>Dep. Variable:</th>      <td>jap_pi</td>      <th>  No. Observations:  </th>    <td>392</td>  \n",
       "</tr>\n",
       "<tr>\n",
       "  <th>Model:</th>            <td>ARMA(1, 1)</td>    <th>  Log Likelihood     </th> <td>-824.632</td>\n",
       "</tr>\n",
       "<tr>\n",
       "  <th>Method:</th>             <td>css-mle</td>     <th>  S.D. of innovations</th>   <td>1.977</td> \n",
       "</tr>\n",
       "<tr>\n",
       "  <th>Date:</th>          <td>Mon, 30 May 2022</td> <th>  AIC                </th> <td>1657.264</td>\n",
       "</tr>\n",
       "<tr>\n",
       "  <th>Time:</th>              <td>23:26:45</td>     <th>  BIC                </th> <td>1673.149</td>\n",
       "</tr>\n",
       "<tr>\n",
       "  <th>Sample:</th>           <td>01-01-1989</td>    <th>  HQIC               </th> <td>1663.560</td>\n",
       "</tr>\n",
       "<tr>\n",
       "  <th></th>                 <td>- 08-01-2021</td>   <th>                     </th>     <td> </td>   \n",
       "</tr>\n",
       "</table>\n",
       "<table class=\"simpletable\">\n",
       "<tr>\n",
       "        <td></td>          <th>coef</th>     <th>std err</th>      <th>z</th>      <th>P>|z|</th>  <th>[0.025</th>    <th>0.975]</th>  \n",
       "</tr>\n",
       "<tr>\n",
       "  <th>const</th>        <td>  101.9571</td> <td>    1.717</td> <td>   59.383</td> <td> 0.000</td> <td>   98.592</td> <td>  105.322</td>\n",
       "</tr>\n",
       "<tr>\n",
       "  <th>ar.L1.jap_pi</th> <td>    0.9408</td> <td>    0.018</td> <td>   53.687</td> <td> 0.000</td> <td>    0.906</td> <td>    0.975</td>\n",
       "</tr>\n",
       "<tr>\n",
       "  <th>ma.L1.jap_pi</th> <td>    0.0553</td> <td>    0.048</td> <td>    1.152</td> <td> 0.249</td> <td>   -0.039</td> <td>    0.149</td>\n",
       "</tr>\n",
       "</table>\n",
       "<table class=\"simpletable\">\n",
       "<caption>Roots</caption>\n",
       "<tr>\n",
       "    <td></td>   <th>            Real</th>  <th>         Imaginary</th> <th>         Modulus</th>  <th>        Frequency</th>\n",
       "</tr>\n",
       "<tr>\n",
       "  <th>AR.1</th> <td>           1.0629</td> <td>          +0.0000j</td> <td>           1.0629</td> <td>           0.0000</td>\n",
       "</tr>\n",
       "<tr>\n",
       "  <th>MA.1</th> <td>         -18.0877</td> <td>          +0.0000j</td> <td>          18.0877</td> <td>           0.5000</td>\n",
       "</tr>\n",
       "</table>"
      ],
      "text/plain": [
       "<class 'statsmodels.iolib.summary.Summary'>\n",
       "\"\"\"\n",
       "                              ARMA Model Results                              \n",
       "==============================================================================\n",
       "Dep. Variable:                 jap_pi   No. Observations:                  392\n",
       "Model:                     ARMA(1, 1)   Log Likelihood                -824.632\n",
       "Method:                       css-mle   S.D. of innovations              1.977\n",
       "Date:                Mon, 30 May 2022   AIC                           1657.264\n",
       "Time:                        23:26:45   BIC                           1673.149\n",
       "Sample:                    01-01-1989   HQIC                          1663.560\n",
       "                         - 08-01-2021                                         \n",
       "================================================================================\n",
       "                   coef    std err          z      P>|z|      [0.025      0.975]\n",
       "--------------------------------------------------------------------------------\n",
       "const          101.9571      1.717     59.383      0.000      98.592     105.322\n",
       "ar.L1.jap_pi     0.9408      0.018     53.687      0.000       0.906       0.975\n",
       "ma.L1.jap_pi     0.0553      0.048      1.152      0.249      -0.039       0.149\n",
       "                                    Roots                                    \n",
       "=============================================================================\n",
       "                  Real          Imaginary           Modulus         Frequency\n",
       "-----------------------------------------------------------------------------\n",
       "AR.1            1.0629           +0.0000j            1.0629            0.0000\n",
       "MA.1          -18.0877           +0.0000j           18.0877            0.5000\n",
       "-----------------------------------------------------------------------------\n",
       "\"\"\""
      ]
     },
     "execution_count": 24,
     "metadata": {},
     "output_type": "execute_result"
    }
   ],
   "source": [
    "sm.tsa.ARMA(df['jap_pi'], (1,1)).fit(dsip = False).summary()"
   ]
  },
  {
   "cell_type": "markdown",
   "id": "ea5cde45",
   "metadata": {},
   "source": [
    "#### (7) 위의 결과를 바탕으로 일본의 산업생산지수에 대한 ARMA(p,q) 모형을 만들고, ARMA 모형에서 예측된 값과 실제 값을 산포도로 그리시오. 산포도를 기준으로 판단했을때, 일본의 산업생산지수에 대한 ARMA 모형은 괜찮은 모형입니까?"
   ]
  },
  {
   "cell_type": "code",
   "execution_count": 25,
   "id": "fe6fa899",
   "metadata": {},
   "outputs": [
    {
     "name": "stdout",
     "output_type": "stream",
     "text": [
      "RUNNING THE L-BFGS-B CODE\n",
      "\n",
      "           * * *\n",
      "\n",
      "Machine precision = 2.220D-16\n",
      " N =            3     M =           12\n",
      "\n",
      "At X0         0 variables are exactly at the bounds\n",
      "\n",
      "At iterate    0    f=  2.10369D+00    |proj g|=  8.82139D-04\n",
      "\n",
      "At iterate    5    f=  2.10366D+00    |proj g|=  6.32516D-04\n",
      "\n",
      "At iterate   10    f=  2.10365D+00    |proj g|=  0.00000D+00\n",
      "\n",
      "           * * *\n",
      "\n",
      "Tit   = total number of iterations\n",
      "Tnf   = total number of function evaluations\n",
      "Tnint = total number of segments explored during Cauchy searches\n",
      "Skip  = number of BFGS updates skipped\n",
      "Nact  = number of active bounds at final generalized Cauchy point\n",
      "Projg = norm of the final projected gradient\n",
      "F     = final function value\n",
      "\n",
      "           * * *\n",
      "\n",
      "   N    Tit     Tnf  Tnint  Skip  Nact     Projg        F\n",
      "    3     10     13      1     0     0   0.000D+00   2.104D+00\n",
      "  F =   2.1036530753746270     \n",
      "\n",
      "CONVERGENCE: NORM_OF_PROJECTED_GRADIENT_<=_PGTOL            \n"
     ]
    },
    {
     "name": "stderr",
     "output_type": "stream",
     "text": [
      " This problem is unconstrained.\n"
     ]
    }
   ],
   "source": [
    "model = sm.tsa.ARMA(df['jap_pi'], (1,1)).fit(dsip = False)"
   ]
  },
  {
   "cell_type": "code",
   "execution_count": 26,
   "id": "61635487",
   "metadata": {},
   "outputs": [
    {
     "data": {
      "text/plain": [
       "Text(0, 0.5, 'Estimated')"
      ]
     },
     "execution_count": 26,
     "metadata": {},
     "output_type": "execute_result"
    },
    {
     "data": {
      "image/png": "[encoded data removed]",
      "text/plain": [
       "<Figure size 720x576 with 1 Axes>"
      ]
     },
     "metadata": {},
     "output_type": "display_data"
    }
   ],
   "source": [
    "plt.style.use('seaborn')\n",
    "plt.figure(figsize=(10,8))\n",
    "plt.scatter(df['jap_pi'], model.fittedvalues, color = 'g', alpha = 0.6)\n",
    "#plt.plot(model.fittedvalues, label = 'estimated')\n",
    "#plt.plot(df['jap_pi'], label = 'japan_pi')\n",
    "plt.xticks(rotation=90)\n",
    "plt.title('Correlation between estimated and real Japan PI', fontsize = 15)\n",
    "plt.ylabel('Estimated', fontsize = 15)"
   ]
  },
  {
   "cell_type": "markdown",
   "id": "646455ca",
   "metadata": {},
   "source": [
    "관측치와 ARMA모델 추정치간에 선형관계가 존재하므로, 일본 산업생산지수에 대한 ARMA모형은 괜찮은 모델이라고 할 수 있다."
   ]
  }
 ],
 "metadata": {
  "kernelspec": {
   "display_name": "Python 3 (ipykernel)",
   "language": "python",
   "name": "python3"
  },
  "language_info": {
   "codemirror_mode": {
    "name": "ipython",
    "version": 3
   },
   "file_extension": ".py",
   "mimetype": "text/x-python",
   "name": "python",
   "nbconvert_exporter": "python",
   "pygments_lexer": "ipython3",
   "version": "3.9.7"
  }
 },
 "nbformat": 4,
 "nbformat_minor": 5
}
