{
 "cells": [
  {
   "cell_type": "markdown",
   "id": "amino-material",
   "metadata": {},
   "source": [
    "## Exercise - 20180594 이정훈\n",
    "\n",
    "1. Create len(10) integer array filled with zeros"
   ]
  },
  {
   "cell_type": "code",
   "execution_count": 4,
   "id": "significant-purple",
   "metadata": {},
   "outputs": [
    {
     "data": {
      "text/plain": [
       "array([0., 0., 0., 0., 0., 0., 0., 0., 0., 0.])"
      ]
     },
     "execution_count": 4,
     "metadata": {},
     "output_type": "execute_result"
    }
   ],
   "source": [
    "import numpy as np\n",
    "np.zeros(10)"
   ]
  },
  {
   "cell_type": "markdown",
   "id": "athletic-granny",
   "metadata": {},
   "source": [
    "2. Create 3x5 floating point array filled with ones"
   ]
  },
  {
   "cell_type": "code",
   "execution_count": 5,
   "id": "specific-riverside",
   "metadata": {},
   "outputs": [
    {
     "data": {
      "text/plain": [
       "array([[1., 1., 1., 1., 1.],\n",
       "       [1., 1., 1., 1., 1.],\n",
       "       [1., 1., 1., 1., 1.]])"
      ]
     },
     "execution_count": 5,
     "metadata": {},
     "output_type": "execute_result"
    }
   ],
   "source": [
    "np.ones(15).reshape(3,5)"
   ]
  },
  {
   "cell_type": "markdown",
   "id": "extended-cigarette",
   "metadata": {},
   "source": [
    "3. Create 3x5 array filled with 3.14"
   ]
  },
  {
   "cell_type": "code",
   "execution_count": 39,
   "id": "analyzed-patrol",
   "metadata": {},
   "outputs": [
    {
     "data": {
      "text/plain": [
       "array([[3.14, 3.14, 3.14, 3.14, 3.14],\n",
       "       [3.14, 3.14, 3.14, 3.14, 3.14],\n",
       "       [3.14, 3.14, 3.14, 3.14, 3.14]])"
      ]
     },
     "execution_count": 39,
     "metadata": {},
     "output_type": "execute_result"
    }
   ],
   "source": [
    "a = np.arange(15.).reshape(3,5)\n",
    "a.fill(3.14)\n",
    "a"
   ]
  },
  {
   "cell_type": "markdown",
   "id": "imported-shame",
   "metadata": {},
   "source": [
    "4. Create an array filled with a linear space starting at 0, ending at 20, stepping by 2"
   ]
  },
  {
   "cell_type": "code",
   "execution_count": 40,
   "id": "subjective-torture",
   "metadata": {},
   "outputs": [
    {
     "data": {
      "text/plain": [
       "array([ 0,  2,  4,  6,  8, 10, 12, 14, 16, 18])"
      ]
     },
     "execution_count": 40,
     "metadata": {},
     "output_type": "execute_result"
    }
   ],
   "source": [
    "np.arange(0,20,2)"
   ]
  },
  {
   "cell_type": "markdown",
   "id": "mature-basis",
   "metadata": {},
   "source": [
    "5. Create an array of five values evenly spaced between 0 and 1"
   ]
  },
  {
   "cell_type": "code",
   "execution_count": 41,
   "id": "economic-integer",
   "metadata": {},
   "outputs": [
    {
     "data": {
      "text/plain": [
       "array([0.  , 0.25, 0.5 , 0.75, 1.  ])"
      ]
     },
     "execution_count": 41,
     "metadata": {},
     "output_type": "execute_result"
    }
   ],
   "source": [
    "np.linspace(0,1,5)"
   ]
  },
  {
   "cell_type": "markdown",
   "id": "greenhouse-borough",
   "metadata": {},
   "source": [
    "6. Create a 3x3 array of uniformly distributed random (0, 1)"
   ]
  },
  {
   "cell_type": "code",
   "execution_count": 43,
   "id": "german-yorkshire",
   "metadata": {},
   "outputs": [
    {
     "data": {
      "text/plain": [
       "array([[0.80133735, 0.02588903, 0.26360767],\n",
       "       [0.79384305, 0.62984164, 0.16974275],\n",
       "       [0.13128571, 0.16695384, 0.58868704]])"
      ]
     },
     "execution_count": 43,
     "metadata": {},
     "output_type": "execute_result"
    }
   ],
   "source": [
    "from numpy import random as rnd\n",
    "rnd.uniform(low=0, high=1, size=9).reshape(3,3)"
   ]
  },
  {
   "cell_type": "markdown",
   "id": "familiar-native",
   "metadata": {},
   "source": [
    "7. Create a 3x3 array of with mean 0 and standard deviation 1"
   ]
  },
  {
   "cell_type": "code",
   "execution_count": 51,
   "id": "regulated-browser",
   "metadata": {},
   "outputs": [
    {
     "data": {
      "text/plain": [
       "array([[ 0.10119649,  0.59815558, -2.9720092 ],\n",
       "       [-0.01234272,  1.01277778,  0.58872594],\n",
       "       [ 0.54770544,  0.46721317,  1.1745135 ]])"
      ]
     },
     "execution_count": 51,
     "metadata": {},
     "output_type": "execute_result"
    }
   ],
   "source": [
    "rnd.normal(size=9).reshape(3,3)"
   ]
  },
  {
   "cell_type": "markdown",
   "id": "voluntary-governor",
   "metadata": {},
   "source": [
    "8. Create a 3x3 array of random integers in the interval [0, 10]"
   ]
  },
  {
   "cell_type": "code",
   "execution_count": 54,
   "id": "exempt-roller",
   "metadata": {},
   "outputs": [
    {
     "data": {
      "text/plain": [
       "array([[1, 2, 5],\n",
       "       [6, 1, 5],\n",
       "       [9, 6, 3]])"
      ]
     },
     "execution_count": 54,
     "metadata": {},
     "output_type": "execute_result"
    }
   ],
   "source": [
    "rnd.randint(low=0, high=10, size=9).reshape(3,3)"
   ]
  },
  {
   "cell_type": "markdown",
   "id": "earned-syntax",
   "metadata": {},
   "source": [
    "9. Create a 3x3 identity matrix"
   ]
  },
  {
   "cell_type": "code",
   "execution_count": 57,
   "id": "green-drilling",
   "metadata": {},
   "outputs": [
    {
     "data": {
      "text/plain": [
       "array([[1., 0., 0.],\n",
       "       [0., 1., 0.],\n",
       "       [0., 0., 1.]])"
      ]
     },
     "execution_count": 57,
     "metadata": {},
     "output_type": "execute_result"
    }
   ],
   "source": [
    "np.identity(3)"
   ]
  }
 ],
 "metadata": {
  "kernelspec": {
   "display_name": "Python 3",
   "language": "python",
   "name": "python3"
  },
  "language_info": {
   "codemirror_mode": {
    "name": "ipython",
    "version": 3
   },
   "file_extension": ".py",
   "mimetype": "text/x-python",
   "name": "python",
   "nbconvert_exporter": "python",
   "pygments_lexer": "ipython3",
   "version": "3.9.0"
  }
 },
 "nbformat": 4,
 "nbformat_minor": 5
}
