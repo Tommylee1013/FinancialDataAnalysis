{
 "cells": [
  {
   "cell_type": "markdown",
   "metadata": {},
   "source": [
    "# Assignment #4\n",
    "### 20180594 이정훈"
   ]
  },
  {
   "cell_type": "code",
   "execution_count": 1,
   "metadata": {},
   "outputs": [
    {
     "name": "stderr",
     "output_type": "stream",
     "text": [
      "/Users/tommylee/opt/anaconda3/lib/python3.8/site-packages/statsmodels/compat/pandas.py:65: FutureWarning: pandas.Int64Index is deprecated and will be removed from pandas in a future version. Use pandas.Index with the appropriate dtype instead.\n",
      "  from pandas import Int64Index as NumericIndex\n"
     ]
    }
   ],
   "source": [
    "import numpy as np \n",
    "import pandas as pd \n",
    "import matplotlib.pyplot as plt \n",
    "import seaborn as sns; sns.set()\n",
    "import pandas_datareader.data as web\n",
    "import statsmodels.api as sm\n",
    "from statsmodels.formula.api import ols \n",
    "\n",
    "%matplotlib inline"
   ]
  },
  {
   "cell_type": "markdown",
   "metadata": {},
   "source": [
    "### Import beta data file"
   ]
  },
  {
   "cell_type": "code",
   "execution_count": 2,
   "metadata": {},
   "outputs": [],
   "source": [
    "df = pd.read_excel('beta_data.xls', index_col=0, parse_dates = True, header=3)"
   ]
  },
  {
   "cell_type": "markdown",
   "metadata": {},
   "source": [
    "set variables"
   ]
  },
  {
   "cell_type": "code",
   "execution_count": 3,
   "metadata": {},
   "outputs": [],
   "source": [
    "pfs = np.mat(df.iloc[:,:16])\n",
    "factor1 = np.mat(df.iloc[:,16])\n",
    "BMs = np.mat(df.iloc[:,17:])\n",
    "T,N = pfs.shape"
   ]
  },
  {
   "cell_type": "code",
   "execution_count": 4,
   "metadata": {},
   "outputs": [],
   "source": [
    "factor2 = df.iloc[:,:16].var(axis=1) / 15"
   ]
  },
  {
   "cell_type": "code",
   "execution_count": 5,
   "metadata": {},
   "outputs": [
    {
     "data": {
      "text/plain": [
       "(426, 16)"
      ]
     },
     "execution_count": 5,
     "metadata": {},
     "output_type": "execute_result"
    }
   ],
   "source": [
    "pfs.shape"
   ]
  },
  {
   "cell_type": "code",
   "execution_count": 6,
   "metadata": {},
   "outputs": [
    {
     "data": {
      "text/plain": [
       "(1, 426)"
      ]
     },
     "execution_count": 6,
     "metadata": {},
     "output_type": "execute_result"
    }
   ],
   "source": [
    "factor1.shape"
   ]
  },
  {
   "cell_type": "code",
   "execution_count": 7,
   "metadata": {},
   "outputs": [
    {
     "data": {
      "text/plain": [
       "(1, 426)"
      ]
     },
     "execution_count": 7,
     "metadata": {},
     "output_type": "execute_result"
    }
   ],
   "source": [
    "factor2 = np.mat(factor2)\n",
    "factor2.shape"
   ]
  },
  {
   "cell_type": "code",
   "execution_count": 8,
   "metadata": {},
   "outputs": [
    {
     "data": {
      "text/plain": [
       "(426, 16)"
      ]
     },
     "execution_count": 8,
     "metadata": {},
     "output_type": "execute_result"
    }
   ],
   "source": [
    "BMs.shape"
   ]
  },
  {
   "cell_type": "markdown",
   "metadata": {},
   "source": [
    "### Estimate Model"
   ]
  },
  {
   "cell_type": "code",
   "execution_count": 9,
   "metadata": {},
   "outputs": [],
   "source": [
    "idx = ['factor1','factor2']\n",
    "factors = pd.DataFrame([np.array(factor1)[0],np.array(factor2)[0]], index = idx)"
   ]
  },
  {
   "cell_type": "code",
   "execution_count": 10,
   "metadata": {},
   "outputs": [
    {
     "data": {
      "text/html": [
       "<div>\n",
       "<style scoped>\n",
       "    .dataframe tbody tr th:only-of-type {\n",
       "        vertical-align: middle;\n",
       "    }\n",
       "\n",
       "    .dataframe tbody tr th {\n",
       "        vertical-align: top;\n",
       "    }\n",
       "\n",
       "    .dataframe thead th {\n",
       "        text-align: right;\n",
       "    }\n",
       "</style>\n",
       "<table border=\"1\" class=\"dataframe\">\n",
       "  <thead>\n",
       "    <tr style=\"text-align: right;\">\n",
       "      <th></th>\n",
       "      <th>0</th>\n",
       "      <th>1</th>\n",
       "      <th>2</th>\n",
       "      <th>3</th>\n",
       "      <th>4</th>\n",
       "      <th>5</th>\n",
       "      <th>6</th>\n",
       "      <th>7</th>\n",
       "      <th>8</th>\n",
       "      <th>9</th>\n",
       "      <th>...</th>\n",
       "      <th>416</th>\n",
       "      <th>417</th>\n",
       "      <th>418</th>\n",
       "      <th>419</th>\n",
       "      <th>420</th>\n",
       "      <th>421</th>\n",
       "      <th>422</th>\n",
       "      <th>423</th>\n",
       "      <th>424</th>\n",
       "      <th>425</th>\n",
       "    </tr>\n",
       "  </thead>\n",
       "  <tbody>\n",
       "    <tr>\n",
       "      <th>factor1</th>\n",
       "      <td>-0.170000</td>\n",
       "      <td>5.270000</td>\n",
       "      <td>-1.190000</td>\n",
       "      <td>2.770000</td>\n",
       "      <td>-0.560000</td>\n",
       "      <td>2.170000</td>\n",
       "      <td>2.580000</td>\n",
       "      <td>1.720000</td>\n",
       "      <td>1.760000</td>\n",
       "      <td>0.460000</td>\n",
       "      <td>...</td>\n",
       "      <td>5.130000</td>\n",
       "      <td>1.090000</td>\n",
       "      <td>-2.540000</td>\n",
       "      <td>3.300000</td>\n",
       "      <td>-2.320000</td>\n",
       "      <td>-15.670000</td>\n",
       "      <td>6.400000</td>\n",
       "      <td>7.410000</td>\n",
       "      <td>6.130000</td>\n",
       "      <td>6.320000</td>\n",
       "    </tr>\n",
       "    <tr>\n",
       "      <th>factor2</th>\n",
       "      <td>0.158699</td>\n",
       "      <td>0.522383</td>\n",
       "      <td>0.430878</td>\n",
       "      <td>0.159031</td>\n",
       "      <td>0.054449</td>\n",
       "      <td>0.345779</td>\n",
       "      <td>0.226936</td>\n",
       "      <td>0.140959</td>\n",
       "      <td>0.428148</td>\n",
       "      <td>0.150251</td>\n",
       "      <td>...</td>\n",
       "      <td>0.063108</td>\n",
       "      <td>0.286966</td>\n",
       "      <td>0.213771</td>\n",
       "      <td>0.376007</td>\n",
       "      <td>0.467011</td>\n",
       "      <td>1.405538</td>\n",
       "      <td>0.869885</td>\n",
       "      <td>0.839094</td>\n",
       "      <td>0.813334</td>\n",
       "      <td>0.482579</td>\n",
       "    </tr>\n",
       "  </tbody>\n",
       "</table>\n",
       "<p>2 rows × 426 columns</p>\n",
       "</div>"
      ],
      "text/plain": [
       "              0         1         2         3         4         5         6    \\\n",
       "factor1 -0.170000  5.270000 -1.190000  2.770000 -0.560000  2.170000  2.580000   \n",
       "factor2  0.158699  0.522383  0.430878  0.159031  0.054449  0.345779  0.226936   \n",
       "\n",
       "              7         8         9    ...       416       417       418  \\\n",
       "factor1  1.720000  1.760000  0.460000  ...  5.130000  1.090000 -2.540000   \n",
       "factor2  0.140959  0.428148  0.150251  ...  0.063108  0.286966  0.213771   \n",
       "\n",
       "              419       420        421       422       423       424       425  \n",
       "factor1  3.300000 -2.320000 -15.670000  6.400000  7.410000  6.130000  6.320000  \n",
       "factor2  0.376007  0.467011   1.405538  0.869885  0.839094  0.813334  0.482579  \n",
       "\n",
       "[2 rows x 426 columns]"
      ]
     },
     "execution_count": 10,
     "metadata": {},
     "output_type": "execute_result"
    }
   ],
   "source": [
    "factors"
   ]
  },
  {
   "cell_type": "markdown",
   "metadata": {},
   "source": [
    "where factor1 is market portfolio, factor2 is sample variance of portfolio"
   ]
  },
  {
   "cell_type": "markdown",
   "metadata": {},
   "source": [
    "### Time-series regression \n",
    "(estimating beta for each portfolio)"
   ]
  },
  {
   "cell_type": "code",
   "execution_count": 11,
   "metadata": {},
   "outputs": [],
   "source": [
    "X = sm.add_constant(factors.T)\n",
    "ts_model = sm.OLS(pfs, X).fit()"
   ]
  },
  {
   "cell_type": "code",
   "execution_count": 12,
   "metadata": {},
   "outputs": [],
   "source": [
    "alphas = ts_model.params[0]\n",
    "betas = ts_model.params[1:]"
   ]
  },
  {
   "cell_type": "code",
   "execution_count": 13,
   "metadata": {},
   "outputs": [
    {
     "data": {
      "text/plain": [
       "(2, 16)"
      ]
     },
     "execution_count": 13,
     "metadata": {},
     "output_type": "execute_result"
    }
   ],
   "source": [
    "betas.shape"
   ]
  },
  {
   "cell_type": "code",
   "execution_count": 14,
   "metadata": {},
   "outputs": [
    {
     "data": {
      "text/html": [
       "<div>\n",
       "<style scoped>\n",
       "    .dataframe tbody tr th:only-of-type {\n",
       "        vertical-align: middle;\n",
       "    }\n",
       "\n",
       "    .dataframe tbody tr th {\n",
       "        vertical-align: top;\n",
       "    }\n",
       "\n",
       "    .dataframe thead th {\n",
       "        text-align: right;\n",
       "    }\n",
       "</style>\n",
       "<table border=\"1\" class=\"dataframe\">\n",
       "  <thead>\n",
       "    <tr style=\"text-align: right;\">\n",
       "      <th></th>\n",
       "      <th>0</th>\n",
       "      <th>1</th>\n",
       "      <th>2</th>\n",
       "      <th>3</th>\n",
       "      <th>4</th>\n",
       "      <th>5</th>\n",
       "      <th>6</th>\n",
       "      <th>7</th>\n",
       "      <th>8</th>\n",
       "      <th>9</th>\n",
       "      <th>10</th>\n",
       "      <th>11</th>\n",
       "      <th>12</th>\n",
       "      <th>13</th>\n",
       "      <th>14</th>\n",
       "      <th>15</th>\n",
       "    </tr>\n",
       "  </thead>\n",
       "  <tbody>\n",
       "    <tr>\n",
       "      <th>const</th>\n",
       "      <td>-0.234725</td>\n",
       "      <td>-0.385687</td>\n",
       "      <td>-0.883511</td>\n",
       "      <td>-1.700070</td>\n",
       "      <td>-0.138540</td>\n",
       "      <td>-0.564933</td>\n",
       "      <td>-0.814839</td>\n",
       "      <td>-1.485923</td>\n",
       "      <td>0.129265</td>\n",
       "      <td>-0.113709</td>\n",
       "      <td>-0.423022</td>\n",
       "      <td>-0.986382</td>\n",
       "      <td>0.276816</td>\n",
       "      <td>0.077869</td>\n",
       "      <td>-0.302165</td>\n",
       "      <td>-0.700374</td>\n",
       "    </tr>\n",
       "    <tr>\n",
       "      <th>factor1</th>\n",
       "      <td>0.740245</td>\n",
       "      <td>0.937818</td>\n",
       "      <td>1.080974</td>\n",
       "      <td>1.264228</td>\n",
       "      <td>0.731934</td>\n",
       "      <td>1.002683</td>\n",
       "      <td>1.189975</td>\n",
       "      <td>1.411706</td>\n",
       "      <td>0.709103</td>\n",
       "      <td>1.007656</td>\n",
       "      <td>1.190911</td>\n",
       "      <td>1.483758</td>\n",
       "      <td>0.717332</td>\n",
       "      <td>0.975001</td>\n",
       "      <td>1.178975</td>\n",
       "      <td>1.404155</td>\n",
       "    </tr>\n",
       "    <tr>\n",
       "      <th>factor2</th>\n",
       "      <td>2.176807</td>\n",
       "      <td>2.545039</td>\n",
       "      <td>3.054705</td>\n",
       "      <td>4.213103</td>\n",
       "      <td>1.012058</td>\n",
       "      <td>1.431975</td>\n",
       "      <td>1.589837</td>\n",
       "      <td>2.003422</td>\n",
       "      <td>0.538105</td>\n",
       "      <td>0.650917</td>\n",
       "      <td>0.835949</td>\n",
       "      <td>1.089127</td>\n",
       "      <td>0.012620</td>\n",
       "      <td>0.068767</td>\n",
       "      <td>0.222750</td>\n",
       "      <td>0.414604</td>\n",
       "    </tr>\n",
       "  </tbody>\n",
       "</table>\n",
       "</div>"
      ],
      "text/plain": [
       "               0         1         2         3         4         5         6   \\\n",
       "const   -0.234725 -0.385687 -0.883511 -1.700070 -0.138540 -0.564933 -0.814839   \n",
       "factor1  0.740245  0.937818  1.080974  1.264228  0.731934  1.002683  1.189975   \n",
       "factor2  2.176807  2.545039  3.054705  4.213103  1.012058  1.431975  1.589837   \n",
       "\n",
       "               7         8         9         10        11        12        13  \\\n",
       "const   -1.485923  0.129265 -0.113709 -0.423022 -0.986382  0.276816  0.077869   \n",
       "factor1  1.411706  0.709103  1.007656  1.190911  1.483758  0.717332  0.975001   \n",
       "factor2  2.003422  0.538105  0.650917  0.835949  1.089127  0.012620  0.068767   \n",
       "\n",
       "               14        15  \n",
       "const   -0.302165 -0.700374  \n",
       "factor1  1.178975  1.404155  \n",
       "factor2  0.222750  0.414604  "
      ]
     },
     "execution_count": 14,
     "metadata": {},
     "output_type": "execute_result"
    }
   ],
   "source": [
    "ts_model.params # coefficients of 16 portfolios"
   ]
  },
  {
   "cell_type": "markdown",
   "metadata": {},
   "source": [
    "### Cross-sectional regression (Estimating SML)"
   ]
  },
  {
   "cell_type": "code",
   "execution_count": 15,
   "metadata": {},
   "outputs": [],
   "source": [
    "mean_ret = np.mat([np.mean(pfs[:,i]) for i in range(16)])\n",
    "beta_sml = sm.add_constant(betas.T)\n",
    "cs_model1 = sm.OLS(mean_ret.T, beta_sml).fit()"
   ]
  },
  {
   "cell_type": "code",
   "execution_count": 16,
   "metadata": {},
   "outputs": [
    {
     "data": {
      "text/html": [
       "<div>\n",
       "<style scoped>\n",
       "    .dataframe tbody tr th:only-of-type {\n",
       "        vertical-align: middle;\n",
       "    }\n",
       "\n",
       "    .dataframe tbody tr th {\n",
       "        vertical-align: top;\n",
       "    }\n",
       "\n",
       "    .dataframe thead th {\n",
       "        text-align: right;\n",
       "    }\n",
       "</style>\n",
       "<table border=\"1\" class=\"dataframe\">\n",
       "  <thead>\n",
       "    <tr style=\"text-align: right;\">\n",
       "      <th></th>\n",
       "      <th>const</th>\n",
       "      <th>factor1</th>\n",
       "      <th>factor2</th>\n",
       "    </tr>\n",
       "  </thead>\n",
       "  <tbody>\n",
       "    <tr>\n",
       "      <th>0</th>\n",
       "      <td>1.0</td>\n",
       "      <td>0.740245</td>\n",
       "      <td>2.176807</td>\n",
       "    </tr>\n",
       "    <tr>\n",
       "      <th>1</th>\n",
       "      <td>1.0</td>\n",
       "      <td>0.937818</td>\n",
       "      <td>2.545039</td>\n",
       "    </tr>\n",
       "    <tr>\n",
       "      <th>2</th>\n",
       "      <td>1.0</td>\n",
       "      <td>1.080974</td>\n",
       "      <td>3.054705</td>\n",
       "    </tr>\n",
       "    <tr>\n",
       "      <th>3</th>\n",
       "      <td>1.0</td>\n",
       "      <td>1.264228</td>\n",
       "      <td>4.213103</td>\n",
       "    </tr>\n",
       "    <tr>\n",
       "      <th>4</th>\n",
       "      <td>1.0</td>\n",
       "      <td>0.731934</td>\n",
       "      <td>1.012058</td>\n",
       "    </tr>\n",
       "    <tr>\n",
       "      <th>5</th>\n",
       "      <td>1.0</td>\n",
       "      <td>1.002683</td>\n",
       "      <td>1.431975</td>\n",
       "    </tr>\n",
       "    <tr>\n",
       "      <th>6</th>\n",
       "      <td>1.0</td>\n",
       "      <td>1.189975</td>\n",
       "      <td>1.589837</td>\n",
       "    </tr>\n",
       "    <tr>\n",
       "      <th>7</th>\n",
       "      <td>1.0</td>\n",
       "      <td>1.411706</td>\n",
       "      <td>2.003422</td>\n",
       "    </tr>\n",
       "    <tr>\n",
       "      <th>8</th>\n",
       "      <td>1.0</td>\n",
       "      <td>0.709103</td>\n",
       "      <td>0.538105</td>\n",
       "    </tr>\n",
       "    <tr>\n",
       "      <th>9</th>\n",
       "      <td>1.0</td>\n",
       "      <td>1.007656</td>\n",
       "      <td>0.650917</td>\n",
       "    </tr>\n",
       "    <tr>\n",
       "      <th>10</th>\n",
       "      <td>1.0</td>\n",
       "      <td>1.190911</td>\n",
       "      <td>0.835949</td>\n",
       "    </tr>\n",
       "    <tr>\n",
       "      <th>11</th>\n",
       "      <td>1.0</td>\n",
       "      <td>1.483758</td>\n",
       "      <td>1.089127</td>\n",
       "    </tr>\n",
       "    <tr>\n",
       "      <th>12</th>\n",
       "      <td>1.0</td>\n",
       "      <td>0.717332</td>\n",
       "      <td>0.012620</td>\n",
       "    </tr>\n",
       "    <tr>\n",
       "      <th>13</th>\n",
       "      <td>1.0</td>\n",
       "      <td>0.975001</td>\n",
       "      <td>0.068767</td>\n",
       "    </tr>\n",
       "    <tr>\n",
       "      <th>14</th>\n",
       "      <td>1.0</td>\n",
       "      <td>1.178975</td>\n",
       "      <td>0.222750</td>\n",
       "    </tr>\n",
       "    <tr>\n",
       "      <th>15</th>\n",
       "      <td>1.0</td>\n",
       "      <td>1.404155</td>\n",
       "      <td>0.414604</td>\n",
       "    </tr>\n",
       "  </tbody>\n",
       "</table>\n",
       "</div>"
      ],
      "text/plain": [
       "    const   factor1   factor2\n",
       "0     1.0  0.740245  2.176807\n",
       "1     1.0  0.937818  2.545039\n",
       "2     1.0  1.080974  3.054705\n",
       "3     1.0  1.264228  4.213103\n",
       "4     1.0  0.731934  1.012058\n",
       "5     1.0  1.002683  1.431975\n",
       "6     1.0  1.189975  1.589837\n",
       "7     1.0  1.411706  2.003422\n",
       "8     1.0  0.709103  0.538105\n",
       "9     1.0  1.007656  0.650917\n",
       "10    1.0  1.190911  0.835949\n",
       "11    1.0  1.483758  1.089127\n",
       "12    1.0  0.717332  0.012620\n",
       "13    1.0  0.975001  0.068767\n",
       "14    1.0  1.178975  0.222750\n",
       "15    1.0  1.404155  0.414604"
      ]
     },
     "execution_count": 16,
     "metadata": {},
     "output_type": "execute_result"
    }
   ],
   "source": [
    "beta_sml"
   ]
  },
  {
   "cell_type": "code",
   "execution_count": 17,
   "metadata": {},
   "outputs": [],
   "source": [
    "gammas = cs_model1.params.T\n",
    "stds = cs_model1.bse"
   ]
  },
  {
   "cell_type": "code",
   "execution_count": 18,
   "metadata": {},
   "outputs": [
    {
     "name": "stdout",
     "output_type": "stream",
     "text": [
      "estimates of gamma0 and gamma1:\n",
      "const      1.392348\n",
      "factor1   -0.380054\n",
      "factor2    0.244351\n",
      "dtype: float64\n",
      "standard errors:\n",
      "const      0.171392\n",
      "factor1    0.158787\n",
      "factor2    0.034588\n",
      "dtype: float64\n",
      "t-values:\n",
      "const      8.123784\n",
      "factor1   -2.393480\n",
      "factor2    7.064569\n",
      "dtype: float64\n"
     ]
    }
   ],
   "source": [
    "print(\"estimates of gamma0 and gamma1:\")\n",
    "print(gammas)\n",
    "print(\"standard errors:\")\n",
    "print(stds)\n",
    "print(\"t-values:\")\n",
    "print(gammas/stds)"
   ]
  },
  {
   "cell_type": "code",
   "execution_count": 19,
   "metadata": {},
   "outputs": [
    {
     "name": "stderr",
     "output_type": "stream",
     "text": [
      "/Users/tommylee/opt/anaconda3/lib/python3.8/site-packages/scipy/stats/_stats_py.py:1477: UserWarning: kurtosistest only valid for n>=20 ... continuing anyway, n=16\n",
      "  warnings.warn(\"kurtosistest only valid for n>=20 ... continuing \"\n"
     ]
    },
    {
     "data": {
      "text/html": [
       "<table class=\"simpletable\">\n",
       "<caption>OLS Regression Results</caption>\n",
       "<tr>\n",
       "  <th>Dep. Variable:</th>            <td>y</td>        <th>  R-squared:         </th> <td>   0.797</td>\n",
       "</tr>\n",
       "<tr>\n",
       "  <th>Model:</th>                   <td>OLS</td>       <th>  Adj. R-squared:    </th> <td>   0.766</td>\n",
       "</tr>\n",
       "<tr>\n",
       "  <th>Method:</th>             <td>Least Squares</td>  <th>  F-statistic:       </th> <td>   25.58</td>\n",
       "</tr>\n",
       "<tr>\n",
       "  <th>Date:</th>             <td>Tue, 17 May 2022</td> <th>  Prob (F-statistic):</th> <td>3.11e-05</td>\n",
       "</tr>\n",
       "<tr>\n",
       "  <th>Time:</th>                 <td>16:02:00</td>     <th>  Log-Likelihood:    </th> <td>  8.7504</td>\n",
       "</tr>\n",
       "<tr>\n",
       "  <th>No. Observations:</th>      <td>    16</td>      <th>  AIC:               </th> <td>  -11.50</td>\n",
       "</tr>\n",
       "<tr>\n",
       "  <th>Df Residuals:</th>          <td>    13</td>      <th>  BIC:               </th> <td>  -9.183</td>\n",
       "</tr>\n",
       "<tr>\n",
       "  <th>Df Model:</th>              <td>     2</td>      <th>                     </th>     <td> </td>   \n",
       "</tr>\n",
       "<tr>\n",
       "  <th>Covariance Type:</th>      <td>nonrobust</td>    <th>                     </th>     <td> </td>   \n",
       "</tr>\n",
       "</table>\n",
       "<table class=\"simpletable\">\n",
       "<tr>\n",
       "     <td></td>        <th>coef</th>     <th>std err</th>      <th>t</th>      <th>P>|t|</th>  <th>[0.025</th>    <th>0.975]</th>  \n",
       "</tr>\n",
       "<tr>\n",
       "  <th>const</th>   <td>    1.3923</td> <td>    0.171</td> <td>    8.124</td> <td> 0.000</td> <td>    1.022</td> <td>    1.763</td>\n",
       "</tr>\n",
       "<tr>\n",
       "  <th>factor1</th> <td>   -0.3801</td> <td>    0.159</td> <td>   -2.393</td> <td> 0.032</td> <td>   -0.723</td> <td>   -0.037</td>\n",
       "</tr>\n",
       "<tr>\n",
       "  <th>factor2</th> <td>    0.2444</td> <td>    0.035</td> <td>    7.065</td> <td> 0.000</td> <td>    0.170</td> <td>    0.319</td>\n",
       "</tr>\n",
       "</table>\n",
       "<table class=\"simpletable\">\n",
       "<tr>\n",
       "  <th>Omnibus:</th>       <td> 0.206</td> <th>  Durbin-Watson:     </th> <td>   1.125</td>\n",
       "</tr>\n",
       "<tr>\n",
       "  <th>Prob(Omnibus):</th> <td> 0.902</td> <th>  Jarque-Bera (JB):  </th> <td>   0.136</td>\n",
       "</tr>\n",
       "<tr>\n",
       "  <th>Skew:</th>          <td>-0.167</td> <th>  Prob(JB):          </th> <td>   0.934</td>\n",
       "</tr>\n",
       "<tr>\n",
       "  <th>Kurtosis:</th>      <td> 2.695</td> <th>  Cond. No.          </th> <td>    12.9</td>\n",
       "</tr>\n",
       "</table><br/><br/>Notes:<br/>[1] Standard Errors assume that the covariance matrix of the errors is correctly specified."
      ],
      "text/plain": [
       "<class 'statsmodels.iolib.summary.Summary'>\n",
       "\"\"\"\n",
       "                            OLS Regression Results                            \n",
       "==============================================================================\n",
       "Dep. Variable:                      y   R-squared:                       0.797\n",
       "Model:                            OLS   Adj. R-squared:                  0.766\n",
       "Method:                 Least Squares   F-statistic:                     25.58\n",
       "Date:                Tue, 17 May 2022   Prob (F-statistic):           3.11e-05\n",
       "Time:                        16:02:00   Log-Likelihood:                 8.7504\n",
       "No. Observations:                  16   AIC:                            -11.50\n",
       "Df Residuals:                      13   BIC:                            -9.183\n",
       "Df Model:                           2                                         \n",
       "Covariance Type:            nonrobust                                         \n",
       "==============================================================================\n",
       "                 coef    std err          t      P>|t|      [0.025      0.975]\n",
       "------------------------------------------------------------------------------\n",
       "const          1.3923      0.171      8.124      0.000       1.022       1.763\n",
       "factor1       -0.3801      0.159     -2.393      0.032      -0.723      -0.037\n",
       "factor2        0.2444      0.035      7.065      0.000       0.170       0.319\n",
       "==============================================================================\n",
       "Omnibus:                        0.206   Durbin-Watson:                   1.125\n",
       "Prob(Omnibus):                  0.902   Jarque-Bera (JB):                0.136\n",
       "Skew:                          -0.167   Prob(JB):                        0.934\n",
       "Kurtosis:                       2.695   Cond. No.                         12.9\n",
       "==============================================================================\n",
       "\n",
       "Notes:\n",
       "[1] Standard Errors assume that the covariance matrix of the errors is correctly specified.\n",
       "\"\"\""
      ]
     },
     "execution_count": 19,
     "metadata": {},
     "output_type": "execute_result"
    }
   ],
   "source": [
    "cs_model1.summary()"
   ]
  },
  {
   "cell_type": "markdown",
   "metadata": {},
   "source": [
    "## Visualization"
   ]
  },
  {
   "cell_type": "markdown",
   "metadata": {},
   "source": [
    "To visualize SML, we use two variables named 'x' and 'y' for viewing endogenous and exogenous variable."
   ]
  },
  {
   "cell_type": "code",
   "execution_count": 20,
   "metadata": {},
   "outputs": [],
   "source": [
    "y = np.array(cs_model1.fittedvalues)"
   ]
  },
  {
   "cell_type": "code",
   "execution_count": 21,
   "metadata": {},
   "outputs": [
    {
     "data": {
      "text/plain": [
       "array([1.64292047, 1.65780993, 1.7279406 , 1.94134995, 1.36147113,\n",
       "       1.36117925, 1.32857196, 1.3453621 , 1.25433692, 1.16843643,\n",
       "       1.14400259, 1.09456929, 1.12280699, 1.03859828, 0.99870282,\n",
       "       0.96000231])"
      ]
     },
     "execution_count": 21,
     "metadata": {},
     "output_type": "execute_result"
    }
   ],
   "source": [
    "y"
   ]
  },
  {
   "cell_type": "code",
   "execution_count": 22,
   "metadata": {},
   "outputs": [],
   "source": [
    "x1 = ts_model.params.iloc[1]\n",
    "x2 = ts_model.params.iloc[2]"
   ]
  },
  {
   "cell_type": "code",
   "execution_count": 23,
   "metadata": {},
   "outputs": [],
   "source": [
    "def point_to_fitted_line(x, y, degree=1, fitted_line = True, segment = True,\n",
    "                         ax = None, face_color = 'lightgray', edge_color = 'dimgray',\n",
    "                         line_color = 'gray', index = None):\n",
    "    if ax is None : ax = plt.gca()\n",
    "\n",
    "    slope, intercept = np.polyfit(x, y, deg = degree)\n",
    "    f = lambda x : intercept + slope*x\n",
    "\n",
    "    x_unit = (np.max(x) - np.min(x)) / 50\n",
    "    y_unit = (np.max(y) - np.min(y)) / 50\n",
    "\n",
    "    xlim = (np.min(x) - 10*x_unit, np.max(x) + 10*x_unit)\n",
    "    ylim = (np.min(y) - 10*y_unit, np.max(y) + 10*y_unit)\n",
    "\n",
    "    if fitted_line :\n",
    "        ax.plot(xlim, [f(x) for x in xlim], c = line_color, lw = 2, label = 'fitted line')\n",
    "    ax.scatter(x,y, ec = edge_color, c = face_color, s = 20, label='sample')\n",
    "    ax.set(xlim = xlim, ylim = ylim)\n",
    "\n",
    "    for i in range(len(y)) :\n",
    "        label = 'residual/error' if i == 1 else \"\"\n",
    "        if segment : ax.plot([x[i],x[i]], [y[i],f(x[i])], 'r-', lw = 1.2, label=label)\n",
    "         \n",
    "        if not isinstance(index, type(None)):\n",
    "            if y[i] >= f(x[i]):\n",
    "                ax.annotate(index[i], xy=(x[i] - x_unit, y[i] + y_unit), fontsize=12, clip_on=True)\n",
    "            else: ax.annotate(index[i], xy=(x[i] - x_unit,y[i] - 3*y_unit), fontsize=12, clip_on=True)"
   ]
  },
  {
   "cell_type": "code",
   "execution_count": 24,
   "metadata": {},
   "outputs": [
    {
     "data": {
      "image/png": "[encoded data removed]",
      "text/plain": [
       "<Figure size 720x504 with 1 Axes>"
      ]
     },
     "metadata": {
      "needs_background": "light"
     },
     "output_type": "display_data"
    }
   ],
   "source": [
    "plt.figure(figsize = (10,7))\n",
    "point_to_fitted_line(x1, x2, index = ['protfolio' + str(i+1) for i in factors.columns])\n",
    "plt.style.use('ggplot')\n",
    "plt.title('Correlation between $x1, x2$', fontsize = 20)\n",
    "plt.ylabel('Coefficient of $s_i^2$',fontsize = 15)\n",
    "plt.xlabel('Coefficient of beta premium', fontsize = 15);"
   ]
  },
  {
   "cell_type": "code",
   "execution_count": 25,
   "metadata": {},
   "outputs": [
    {
     "name": "stderr",
     "output_type": "stream",
     "text": [
      "/Users/tommylee/opt/anaconda3/lib/python3.8/site-packages/scipy/stats/_stats_py.py:1477: UserWarning: kurtosistest only valid for n>=20 ... continuing anyway, n=16\n",
      "  warnings.warn(\"kurtosistest only valid for n>=20 ... continuing \"\n"
     ]
    },
    {
     "data": {
      "text/html": [
       "<table class=\"simpletable\">\n",
       "<caption>OLS Regression Results</caption>\n",
       "<tr>\n",
       "  <th>Dep. Variable:</th>         <td>factor1</td>     <th>  R-squared (uncentered):</th>      <td>   0.599</td>\n",
       "</tr>\n",
       "<tr>\n",
       "  <th>Model:</th>                   <td>OLS</td>       <th>  Adj. R-squared (uncentered):</th> <td>   0.572</td>\n",
       "</tr>\n",
       "<tr>\n",
       "  <th>Method:</th>             <td>Least Squares</td>  <th>  F-statistic:       </th>          <td>   22.38</td>\n",
       "</tr>\n",
       "<tr>\n",
       "  <th>Date:</th>             <td>Tue, 17 May 2022</td> <th>  Prob (F-statistic):</th>          <td>0.000268</td>\n",
       "</tr>\n",
       "<tr>\n",
       "  <th>Time:</th>                 <td>16:02:01</td>     <th>  Log-Likelihood:    </th>          <td> -16.819</td>\n",
       "</tr>\n",
       "<tr>\n",
       "  <th>No. Observations:</th>      <td>    16</td>      <th>  AIC:               </th>          <td>   35.64</td>\n",
       "</tr>\n",
       "<tr>\n",
       "  <th>Df Residuals:</th>          <td>    15</td>      <th>  BIC:               </th>          <td>   36.41</td>\n",
       "</tr>\n",
       "<tr>\n",
       "  <th>Df Model:</th>              <td>     1</td>      <th>                     </th>              <td> </td>   \n",
       "</tr>\n",
       "<tr>\n",
       "  <th>Covariance Type:</th>      <td>nonrobust</td>    <th>                     </th>              <td> </td>   \n",
       "</tr>\n",
       "</table>\n",
       "<table class=\"simpletable\">\n",
       "<tr>\n",
       "     <td></td>        <th>coef</th>     <th>std err</th>      <th>t</th>      <th>P>|t|</th>  <th>[0.025</th>    <th>0.975]</th>  \n",
       "</tr>\n",
       "<tr>\n",
       "  <th>factor2</th> <td>    0.4749</td> <td>    0.100</td> <td>    4.731</td> <td> 0.000</td> <td>    0.261</td> <td>    0.689</td>\n",
       "</tr>\n",
       "</table>\n",
       "<table class=\"simpletable\">\n",
       "<tr>\n",
       "  <th>Omnibus:</th>       <td> 1.403</td> <th>  Durbin-Watson:     </th> <td>   0.181</td>\n",
       "</tr>\n",
       "<tr>\n",
       "  <th>Prob(Omnibus):</th> <td> 0.496</td> <th>  Jarque-Bera (JB):  </th> <td>   1.177</td>\n",
       "</tr>\n",
       "<tr>\n",
       "  <th>Skew:</th>          <td>-0.551</td> <th>  Prob(JB):          </th> <td>   0.555</td>\n",
       "</tr>\n",
       "<tr>\n",
       "  <th>Kurtosis:</th>      <td> 2.258</td> <th>  Cond. No.          </th> <td>    1.00</td>\n",
       "</tr>\n",
       "</table><br/><br/>Notes:<br/>[1] R² is computed without centering (uncentered) since the model does not contain a constant.<br/>[2] Standard Errors assume that the covariance matrix of the errors is correctly specified."
      ],
      "text/plain": [
       "<class 'statsmodels.iolib.summary.Summary'>\n",
       "\"\"\"\n",
       "                                 OLS Regression Results                                \n",
       "=======================================================================================\n",
       "Dep. Variable:                factor1   R-squared (uncentered):                   0.599\n",
       "Model:                            OLS   Adj. R-squared (uncentered):              0.572\n",
       "Method:                 Least Squares   F-statistic:                              22.38\n",
       "Date:                Tue, 17 May 2022   Prob (F-statistic):                    0.000268\n",
       "Time:                        16:02:01   Log-Likelihood:                         -16.819\n",
       "No. Observations:                  16   AIC:                                      35.64\n",
       "Df Residuals:                      15   BIC:                                      36.41\n",
       "Df Model:                           1                                                  \n",
       "Covariance Type:            nonrobust                                                  \n",
       "==============================================================================\n",
       "                 coef    std err          t      P>|t|      [0.025      0.975]\n",
       "------------------------------------------------------------------------------\n",
       "factor2        0.4749      0.100      4.731      0.000       0.261       0.689\n",
       "==============================================================================\n",
       "Omnibus:                        1.403   Durbin-Watson:                   0.181\n",
       "Prob(Omnibus):                  0.496   Jarque-Bera (JB):                1.177\n",
       "Skew:                          -0.551   Prob(JB):                        0.555\n",
       "Kurtosis:                       2.258   Cond. No.                         1.00\n",
       "==============================================================================\n",
       "\n",
       "Notes:\n",
       "[1] R² is computed without centering (uncentered) since the model does not contain a constant.\n",
       "[2] Standard Errors assume that the covariance matrix of the errors is correctly specified.\n",
       "\"\"\""
      ]
     },
     "execution_count": 25,
     "metadata": {},
     "output_type": "execute_result"
    }
   ],
   "source": [
    "corrtest = sm.OLS(x1,x2).fit()\n",
    "corrtest.summary()"
   ]
  },
  {
   "cell_type": "code",
   "execution_count": 26,
   "metadata": {},
   "outputs": [
    {
     "data": {
      "text/plain": [
       "Text(0.5, 0, 'Coefficient of Beta Premium on Market Portfolio ($x_1$)')"
      ]
     },
     "execution_count": 26,
     "metadata": {},
     "output_type": "execute_result"
    },
    {
     "data": {
      "image/png": "[encoded data removed]",
      "text/plain": [
       "<Figure size 720x504 with 1 Axes>"
      ]
     },
     "metadata": {},
     "output_type": "display_data"
    }
   ],
   "source": [
    "plt.figure(figsize = (10,7))\n",
    "point_to_fitted_line(x1, y-x2, index = ['protfolio' + str(i+1) for i in factors.columns])\n",
    "plt.style.use('ggplot')\n",
    "plt.title('Estimated SML ($y = y - x_2$)', fontsize = 20)\n",
    "plt.ylabel('Expected Return $E(R)$',fontsize = 15)\n",
    "plt.xlabel('Coefficient of Beta Premium on Market Portfolio ($x_1$)', fontsize = 15)"
   ]
  },
  {
   "cell_type": "code",
   "execution_count": 27,
   "metadata": {},
   "outputs": [
    {
     "data": {
      "text/plain": [
       "Text(0.5, 0, 'Coefficient of $s_i^2$ ($x_2$)')"
      ]
     },
     "execution_count": 27,
     "metadata": {},
     "output_type": "execute_result"
    },
    {
     "data": {
      "image/png": "[encoded data removed]",
      "text/plain": [
       "<Figure size 720x504 with 1 Axes>"
      ]
     },
     "metadata": {},
     "output_type": "display_data"
    }
   ],
   "source": [
    "plt.figure(figsize = (10,7))\n",
    "point_to_fitted_line(x2, y-x1, index = ['protfolio' + str(i+1) for i in factors.columns])\n",
    "plt.style.use('ggplot')\n",
    "plt.title('Estimated SML ($y = y - x_1$)', fontsize = 20)\n",
    "plt.ylabel('Expected Return $E(R)$',fontsize = 15)\n",
    "plt.xlabel('Coefficient of $s_i^2$ ($x_2$)', fontsize = 15)"
   ]
  },
  {
   "cell_type": "code",
   "execution_count": 28,
   "metadata": {},
   "outputs": [
    {
     "data": {
      "image/png": "[encoded data removed]",
      "text/plain": [
       "<Figure size 720x720 with 1 Axes>"
      ]
     },
     "metadata": {},
     "output_type": "display_data"
    }
   ],
   "source": [
    "fig = plt.figure(figsize=(10,10))\n",
    "ax = fig.add_subplot(111, projection='3d')\n",
    "ax.scatter(x1, x2, y, marker='.',  cmap='ro')\n",
    "ax.set_xlabel('Beta premium of market portfolio')\n",
    "ax.set_ylabel('Variance of portfolios beta premium')\n",
    "ax.set_zlabel('Expected Return')\n",
    "plt.grid()"
   ]
  },
  {
   "cell_type": "markdown",
   "metadata": {},
   "source": [
    "## Conclusion"
   ]
  },
  {
   "cell_type": "markdown",
   "metadata": {},
   "source": [
    "The estimated model is following that\n",
    "\n",
    "$\\hat{\\overline{r_i - r_f}} = 1.3923^{***} - 0.3801^{**}\\beta_i + 0.2444^{***} s_i^2$\n",
    "\n",
    "where $s_i^2 = {1 \\over n-1} (r_i - \\bar{r})^2, r_f = 0$"
   ]
  },
  {
   "cell_type": "markdown",
   "metadata": {},
   "source": [
    "- The $\\gamma_2$ means a risk when we choose assets which is not market equilibrium level. Since $\\gamma_2$ has positive coefficient, more risky assets we choose, higher return we can get.\n",
    "\n",
    "- According to estimated model, It appears that both $\\gamma_1$, $\\gamma_2$ are significant values. It means both variables are significant level of result, which are beta premium and sample variance of risky assets based on them. The beta premium of market portfolio affect negative effect. That means when the individual economic agents choose only market portfolio, they could get a negative return. But when they choose the assets which is not market equilibrium level, They would get a positive return.\n",
    "\n",
    "- Unlike CAPM, SML provides a rational reason for individual economic agents to select assets which is not market level not choosing market portfolios."
   ]
  }
 ],
 "metadata": {
  "kernelspec": {
   "display_name": "Python 3",
   "language": "python",
   "name": "python3"
  },
  "language_info": {
   "codemirror_mode": {
    "name": "ipython",
    "version": 3
   },
   "file_extension": ".py",
   "mimetype": "text/x-python",
   "name": "python",
   "nbconvert_exporter": "python",
   "pygments_lexer": "ipython3",
   "version": "3.8.5"
  }
 },
 "nbformat": 4,
 "nbformat_minor": 4
}
