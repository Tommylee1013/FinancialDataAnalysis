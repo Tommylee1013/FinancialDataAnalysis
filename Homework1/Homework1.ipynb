{
 "cells": [
  {
   "cell_type": "markdown",
   "metadata": {},
   "source": [
    "## Exercises\n",
    "\n",
    "1. Enter the following into Python, assigning each to a unique variable name:\n",
    "    - 4\n",
    "    - 3.1415\n",
    "    - 1.0\n",
    "    - 2+4j\n",
    "    - 'Hello'\n",
    "    - 'World'"
   ]
  },
  {
   "cell_type": "code",
   "execution_count": 3,
   "metadata": {},
   "outputs": [],
   "source": [
    "a = 4\n",
    "b = 3.1415\n",
    "c = 1.0\n",
    "d = 2+4j\n",
    "x = 'Hello'\n",
    "y = 'World'"
   ]
  },
  {
   "cell_type": "markdown",
   "metadata": {},
   "source": [
    "2. What is the type of each variable?"
   ]
  },
  {
   "cell_type": "code",
   "execution_count": 7,
   "metadata": {},
   "outputs": [
    {
     "data": {
      "text/plain": [
       "(int, float, float, complex, str, str)"
      ]
     },
     "execution_count": 7,
     "metadata": {},
     "output_type": "execute_result"
    }
   ],
   "source": [
    "type(a), type(b), type(c), type(d), type(x), type(y)"
   ]
  },
  {
   "cell_type": "markdown",
   "metadata": {},
   "source": [
    "variable a is an int, b & c are float\n",
    "and the variable d which have an identity number called complex.\n",
    "\n",
    "variable x and y are string."
   ]
  },
  {
   "cell_type": "markdown",
   "metadata": {},
   "source": [
    "3. Input the variable \n",
    "ex = 'Python is an interesting and useful language for numerical computing!' \\\n",
    "Extract the strings below \n",
    "    - Python\n",
    "    - !\n",
    "    - computing\n",
    "    - !gnitupmoc laciremun rof egaugnal lufesu dna gnitseretni na si nohtyP' (Reversed)\n",
    "    "
   ]
  },
  {
   "cell_type": "code",
   "execution_count": 12,
   "metadata": {},
   "outputs": [
    {
     "name": "stdout",
     "output_type": "stream",
     "text": [
      "Python\n",
      "!\n",
      "computing\n",
      "!gnitupmoc laciremun rof egaugnal lufesu dna gnitseretni na si nohtyP\n"
     ]
    }
   ],
   "source": [
    "ex = 'Python is an interesting and useful language for numerical computing!'\n",
    "\n",
    "print(ex[:6])\n",
    "print(ex[-1])\n",
    "print(ex.split(' ')[-1][:-1])\n",
    "print(ex[::-1])"
   ]
  },
  {
   "cell_type": "markdown",
   "metadata": {},
   "source": [
    "4. Construct a nested list to hold the array\n",
    "$$\\begin{Bmatrix} 1 & 0.5 \\\\ 0.5 & 1 \\end{Bmatrix}$$\n",
    "so that item[i][j] corresponds to the position in the array"
   ]
  },
  {
   "cell_type": "code",
   "execution_count": 15,
   "metadata": {},
   "outputs": [
    {
     "name": "stdout",
     "output_type": "stream",
     "text": [
      "[[1, 0.5], [0.5, 1]]\n"
     ]
    }
   ],
   "source": [
    "print([[1,0.5],[0.5,1]])"
   ]
  },
  {
   "cell_type": "markdown",
   "metadata": {},
   "source": [
    "5. Assign the array you just created first to x, and then assign y=x. Change y[0][0] to 1.61. What happens to x?"
   ]
  },
  {
   "cell_type": "code",
   "execution_count": 17,
   "metadata": {},
   "outputs": [
    {
     "name": "stdout",
     "output_type": "stream",
     "text": [
      "[[1.61, 0.5], [0.5, 1]]\n"
     ]
    }
   ],
   "source": [
    "x = [[1,0.5],[0.5,1]]\n",
    "y = x\n",
    "y[0][0] = 1.61\n",
    "print(x)"
   ]
  },
  {
   "cell_type": "markdown",
   "metadata": {},
   "source": [
    "Changing y[0][0] to 1.61, x[0][0] is also changed to 1.61"
   ]
  }
 ],
 "metadata": {
  "kernelspec": {
   "display_name": "Python 3",
   "language": "python",
   "name": "python3"
  },
  "language_info": {
   "codemirror_mode": {
    "name": "ipython",
    "version": 3
   },
   "file_extension": ".py",
   "mimetype": "text/x-python",
   "name": "python",
   "nbconvert_exporter": "python",
   "pygments_lexer": "ipython3",
   "version": "3.8.5"
  }
 },
 "nbformat": 4,
 "nbformat_minor": 4
}
