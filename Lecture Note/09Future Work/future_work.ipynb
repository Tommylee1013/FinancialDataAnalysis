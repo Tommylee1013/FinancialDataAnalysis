{
 "cells": [
  {
   "cell_type": "markdown",
   "id": "1633338d-30ce-499e-96e4-8eaa67818f99",
   "metadata": {},
   "source": [
    "## Wrapping up,"
   ]
  },
  {
   "cell_type": "markdown",
   "id": "f7a0974b-b244-48f0-bf54-b1bc8c40b84a",
   "metadata": {},
   "source": [
    "(1)"
   ]
  },
  {
   "cell_type": "markdown",
   "id": "73547f64-ab88-44fe-b1bf-1fdda2a466b7",
   "metadata": {},
   "source": [
    "- Most financial research problems can be expressed as\n",
    "$$ P_{t+1} = E\\left[ P_{t+1} | I_t \\right] + \\epsilon_t$$\n",
    "- We can rewrite this as\n",
    "$$ y_{t+1} = f(X_t) + \\epsilon_t $$\n",
    "\n",
    "    - What functional form ($f$)?\n",
    "        - Linear Regression? Random Forest? SVM?\n",
    "    - What variables ($X$) to predict $y$?\n",
    "        - Market beta? HML? SMB?\n",
    "    - If $X$ can predict $y$, why?\n",
    "        - Maybe risk premium?"
   ]
  },
  {
   "cell_type": "markdown",
   "id": "82b71ad3-ecd8-415b-92ce-25756fefc4c6",
   "metadata": {},
   "source": [
    "- Building a sophisticated financial model is not straightforward.\n",
    "- Financial systems are extremely dynamic and complex, with conditions that quickly change over time. \n",
    "    - Financial cause-effect mechanisms are not invariant, due to changes in regulation, expectations, economic cycles, market regimes and other environmental variables.\n",
    "    - For instance, even if value and momentum factors truly explained the outperformance of stocks in the 20th century, that may no longer be the case as a result of recent technological, behavioral or policy changes.\n",
    "    - Perhaps value and momentum only worked under certain conditions that are no longer present.\n",
    "- Only a deep understanding of financial models can specify in what environment a particular model works and does not work in.\n",
    "    - In this sense, ML/DL models are research tools, not prediction tools."
   ]
  },
  {
   "cell_type": "markdown",
   "id": "c221065f-a4b6-40c4-8be8-bad5858d58d5",
   "metadata": {},
   "source": [
    "(2)\n",
    "\n",
    "- Typical problem of ML/DL models: Garbage in, Garbage out.\n",
    "\n",
    "<img src=\"data.png\" width=\"600\" height=\"600\">\n",
    "\n",
    "- Is this the best we can do?\n",
    "- Problems with financial datasets - (1): Inefficient sampling\n",
    "    - ML/DL models assume that each observation conveys equal amount of information.\n",
    "    - What about time-based sampling? Does it qualify this assumption?\n",
    "    \n",
    "<img src=\"gme.png\" width=\"600\" height=\"600\">\n",
    "\n",
    "- While information drives asset prices, this information does not arrive to the market at a constant time interval.\n",
    "- Sampling data in chronological intervals means that the information of each observation is far from constant.\n",
    "\n",
    "- Problems with financial datasets - (2): Wrong Labeling\n",
    "    - Almost all ML/DL papers in finance label observations based on the change of price during a constant time interval.\n",
    "    - Time-based sampling do not exhibit good statistical properties.\n",
    "    - Since return series are extremely noisy, this may lead to wrong conclusions. \n",
    "   \n",
    "- Finally,\n",
    "\n",
    "<img src=\"false.png\" width=\"600\" height=\"600\">"
   ]
  },
  {
   "cell_type": "code",
   "execution_count": null,
   "id": "2895f35d-20b2-45d1-8cd0-55a27fb45a32",
   "metadata": {},
   "outputs": [],
   "source": []
  }
 ],
 "metadata": {
  "kernelspec": {
   "display_name": "Python 3 (ipykernel)",
   "language": "python",
   "name": "python3"
  },
  "language_info": {
   "codemirror_mode": {
    "name": "ipython",
    "version": 3
   },
   "file_extension": ".py",
   "mimetype": "text/x-python",
   "name": "python",
   "nbconvert_exporter": "python",
   "pygments_lexer": "ipython3",
   "version": "3.7.11"
  }
 },
 "nbformat": 4,
 "nbformat_minor": 5
}
