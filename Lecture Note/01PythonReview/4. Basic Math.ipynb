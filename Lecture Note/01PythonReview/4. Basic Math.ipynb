{
 "cells": [
  {
   "cell_type": "markdown",
   "metadata": {},
   "source": [
    "## 1. Basic Operators\n",
    "\n",
    "- When x and y are scalars, the following standard operations are available\n",
    "\n",
    "<img src=\"./img/7.png\" width=\"600\" height=\"600\">\n",
    "\n",
    "Remainder: %\n",
    "\n",
    "기본적인 연산자를 확인할 수 있다"
   ]
  },
  {
   "cell_type": "markdown",
   "metadata": {},
   "source": [
    "## 2. Array Broadcasting (important)\n",
    "\n",
    "- When x and y are arrays, the behavior of mathematical operations is more complex.\n",
    "- Under the normal rules of array mathematics, addition and subtraction are only defined for arrays with the same shape or between an array and a scalar.\n",
    "- NumPy uses a technique called broadcasting to allow element-by-element mathematical operations on arrays which would not be compatible under the standard rules of array mathematics.\n",
    "- Arrays can be used in element-by-element mathematics if x is broadcastable to y.\n",
    "- Suppose $x$ is an $m$-dimensional array with dimensions $d=[d_1,d_2,...,d_m]$ and $y$ is an $n$-dimensional array with dimensions $f=[f_1,f_2,...,f_m]$ where $m\\ge n$. Formally, two arrays are broadcastable if the following two conditions hold.\n",
    "    - (1) If $m>n$, then treat $y$ as a $m$-dimensional array with size $g=[1,1,...,1,f_1,...,f_n]$ where the number of 1s prepended is $m-n$. The dimensions are $g_i=1$ for $f_i=1,..,m-n$ and $g_i = f_{i-m+n}$ for $i>m-n$.\n",
    "        - $\\rightarrow$ If one array has fewer dimensions, it is treated as having the same number of dimensions as the larger array by prepending 1s.\n",
    "    - (2) For $i=1,...,m$, $\\max{(d_i,g_i)}/\\min{(d_i,g_i)} \\in \\left\\{1, \\max{(d_i,g_i)}\\right\\}$\n",
    "        - $\\rightarrow$ Arrays will only be broadcastable if either \n",
    "            - (a) they have the same dimension along axis $i$ or \n",
    "            - (b) one has dimension 1 along axis $i$.    \n",
    "- Subject to broadcasting restrictions, standard operators operate element-by-element.\n",
    "\n",
    "<img src=\"./img/8.png\" width=\"600\" height=\"600\">\n"
   ]
  },
  {
   "cell_type": "code",
   "execution_count": 2,
   "metadata": {
    "execution": {
     "iopub.execute_input": "2021-09-08T03:06:18.838922Z",
     "iopub.status.busy": "2021-09-08T03:06:18.838922Z",
     "iopub.status.idle": "2021-09-08T03:06:18.948415Z",
     "shell.execute_reply": "2021-09-08T03:06:18.948415Z",
     "shell.execute_reply.started": "2021-09-08T03:06:18.838922Z"
    }
   },
   "outputs": [
    {
     "name": "stdout",
     "output_type": "stream",
     "text": [
      "(1, 3)\n",
      "(3, 1)\n",
      "[[1 2 3]\n",
      " [1 2 3]\n",
      " [1 2 3]]\n"
     ]
    }
   ],
   "source": [
    "import numpy as np\n",
    "\n",
    "x = np.array([[1,2,3]])\n",
    "y = np.array([[0],[0],[0]])\n",
    "\n",
    "print(x.shape)\n",
    "print(y.shape)\n",
    "\n",
    "print(x+y)"
   ]
  },
  {
   "cell_type": "code",
   "execution_count": 3,
   "metadata": {
    "execution": {
     "iopub.execute_input": "2021-09-08T03:06:18.950375Z",
     "iopub.status.busy": "2021-09-08T03:06:18.950375Z",
     "iopub.status.idle": "2021-09-08T03:06:18.958353Z",
     "shell.execute_reply": "2021-09-08T03:06:18.958353Z",
     "shell.execute_reply.started": "2021-09-08T03:06:18.950375Z"
    }
   },
   "outputs": [
    {
     "data": {
      "text/plain": [
       "array([[ 0,  1,  2,  3,  4],\n",
       "       [ 5,  6,  7,  8,  9],\n",
       "       [10, 11, 12, 13, 14]])"
      ]
     },
     "execution_count": 3,
     "metadata": {},
     "output_type": "execute_result"
    }
   ],
   "source": [
    "x = np.reshape(np.arange(15),(3,5))\n",
    "x"
   ]
  },
  {
   "cell_type": "code",
   "execution_count": 4,
   "metadata": {
    "execution": {
     "iopub.execute_input": "2021-09-08T03:06:18.959350Z",
     "iopub.status.busy": "2021-09-08T03:06:18.959350Z",
     "iopub.status.idle": "2021-09-08T03:06:18.971247Z",
     "shell.execute_reply": "2021-09-08T03:06:18.971247Z",
     "shell.execute_reply.started": "2021-09-08T03:06:18.959350Z"
    }
   },
   "outputs": [
    {
     "data": {
      "text/plain": [
       "array([[ 5,  6,  7,  8,  9],\n",
       "       [10, 11, 12, 13, 14],\n",
       "       [15, 16, 17, 18, 19]])"
      ]
     },
     "execution_count": 4,
     "metadata": {},
     "output_type": "execute_result"
    }
   ],
   "source": [
    "y = 5\n",
    "x+y"
   ]
  },
  {
   "cell_type": "code",
   "execution_count": 5,
   "metadata": {
    "execution": {
     "iopub.execute_input": "2021-09-08T03:06:18.972264Z",
     "iopub.status.busy": "2021-09-08T03:06:18.972264Z",
     "iopub.status.idle": "2021-09-08T03:06:18.984213Z",
     "shell.execute_reply": "2021-09-08T03:06:18.984213Z",
     "shell.execute_reply.started": "2021-09-08T03:06:18.972264Z"
    }
   },
   "outputs": [
    {
     "data": {
      "text/plain": [
       "array([[ 0,  2,  4,  6,  8],\n",
       "       [ 5,  7,  9, 11, 13],\n",
       "       [10, 12, 14, 16, 18]])"
      ]
     },
     "execution_count": 5,
     "metadata": {},
     "output_type": "execute_result"
    }
   ],
   "source": [
    "y = np.arange(5)\n",
    "x+y"
   ]
  },
  {
   "cell_type": "code",
   "execution_count": 6,
   "metadata": {
    "execution": {
     "iopub.execute_input": "2021-09-08T03:06:18.985210Z",
     "iopub.status.busy": "2021-09-08T03:06:18.985210Z",
     "iopub.status.idle": "2021-09-08T03:06:19.046051Z",
     "shell.execute_reply": "2021-09-08T03:06:19.046051Z",
     "shell.execute_reply.started": "2021-09-08T03:06:18.985210Z"
    }
   },
   "outputs": [
    {
     "ename": "ValueError",
     "evalue": "operands could not be broadcast together with shapes (3,5) (3,) ",
     "output_type": "error",
     "traceback": [
      "\u001b[0;31m---------------------------------------------------------------------------\u001b[0m",
      "\u001b[0;31mValueError\u001b[0m                                Traceback (most recent call last)",
      "\u001b[0;32m<ipython-input-6-2d1f6bf9ae72>\u001b[0m in \u001b[0;36m<module>\u001b[0;34m\u001b[0m\n\u001b[1;32m      1\u001b[0m \u001b[0my\u001b[0m \u001b[0;34m=\u001b[0m \u001b[0mnp\u001b[0m\u001b[0;34m.\u001b[0m\u001b[0marange\u001b[0m\u001b[0;34m(\u001b[0m\u001b[0;36m3\u001b[0m\u001b[0;34m)\u001b[0m\u001b[0;34m\u001b[0m\u001b[0;34m\u001b[0m\u001b[0m\n\u001b[0;32m----> 2\u001b[0;31m \u001b[0mx\u001b[0m\u001b[0;34m+\u001b[0m\u001b[0my\u001b[0m\u001b[0;34m\u001b[0m\u001b[0;34m\u001b[0m\u001b[0m\n\u001b[0m",
      "\u001b[0;31mValueError\u001b[0m: operands could not be broadcast together with shapes (3,5) (3,) "
     ]
    }
   ],
   "source": [
    "y = np.arange(3)\n",
    "x+y #Broadcasting logic적용이 되지 않는다."
   ]
  },
  {
   "cell_type": "code",
   "execution_count": 20,
   "metadata": {},
   "outputs": [],
   "source": [
    "x = np.arange(9)\n",
    "x.shape = (3,1,3)\n",
    "y = np.arange(3)\n",
    "y.shape = (1,3,1)"
   ]
  },
  {
   "cell_type": "code",
   "execution_count": 21,
   "metadata": {},
   "outputs": [
    {
     "data": {
      "text/plain": [
       "array([[[0, 1, 2]],\n",
       "\n",
       "       [[3, 4, 5]],\n",
       "\n",
       "       [[6, 7, 8]]])"
      ]
     },
     "execution_count": 21,
     "metadata": {},
     "output_type": "execute_result"
    }
   ],
   "source": [
    "x"
   ]
  },
  {
   "cell_type": "code",
   "execution_count": 22,
   "metadata": {},
   "outputs": [
    {
     "data": {
      "text/plain": [
       "array([[[0],\n",
       "        [1],\n",
       "        [2]]])"
      ]
     },
     "execution_count": 22,
     "metadata": {},
     "output_type": "execute_result"
    }
   ],
   "source": [
    "y"
   ]
  },
  {
   "cell_type": "code",
   "execution_count": 23,
   "metadata": {},
   "outputs": [
    {
     "data": {
      "text/plain": [
       "array([[[ 0,  1,  2],\n",
       "        [ 1,  2,  3],\n",
       "        [ 2,  3,  4]],\n",
       "\n",
       "       [[ 3,  4,  5],\n",
       "        [ 4,  5,  6],\n",
       "        [ 5,  6,  7]],\n",
       "\n",
       "       [[ 6,  7,  8],\n",
       "        [ 7,  8,  9],\n",
       "        [ 8,  9, 10]]])"
      ]
     },
     "execution_count": 23,
     "metadata": {},
     "output_type": "execute_result"
    }
   ],
   "source": [
    "x + y"
   ]
  },
  {
   "cell_type": "code",
   "execution_count": 33,
   "metadata": {},
   "outputs": [],
   "source": [
    "x = np.arange(9)\n",
    "x.shape = (3,1,3)\n",
    "y = np.arange(3)\n",
    "y.shape = (1,1,3)"
   ]
  },
  {
   "cell_type": "code",
   "execution_count": 34,
   "metadata": {},
   "outputs": [
    {
     "data": {
      "text/plain": [
       "array([[[0, 1, 2]],\n",
       "\n",
       "       [[3, 4, 5]],\n",
       "\n",
       "       [[6, 7, 8]]])"
      ]
     },
     "execution_count": 34,
     "metadata": {},
     "output_type": "execute_result"
    }
   ],
   "source": [
    "x"
   ]
  },
  {
   "cell_type": "code",
   "execution_count": 35,
   "metadata": {},
   "outputs": [
    {
     "data": {
      "text/plain": [
       "array([[[0, 1, 2]]])"
      ]
     },
     "execution_count": 35,
     "metadata": {},
     "output_type": "execute_result"
    }
   ],
   "source": [
    "y"
   ]
  },
  {
   "cell_type": "code",
   "execution_count": 36,
   "metadata": {},
   "outputs": [
    {
     "data": {
      "text/plain": [
       "array([[[ 0,  2,  4]],\n",
       "\n",
       "       [[ 3,  5,  7]],\n",
       "\n",
       "       [[ 6,  8, 10]]])"
      ]
     },
     "execution_count": 36,
     "metadata": {},
     "output_type": "execute_result"
    }
   ],
   "source": [
    "x+y"
   ]
  },
  {
   "cell_type": "markdown",
   "metadata": {},
   "source": [
    "## 3. Matrix Multiplication\n",
    "\n",
    "- The matrix multiplication operator $@$ was introduced in Python 3.5.\n",
    "- It can only be used to two arrays and cannot be used to multiply an array and a scalar.\n",
    "- If $x$ is $N$ by $M$ and $y$ is $K$ by $L$ and both are non-scalar matrices, $x @ y$ requires $M = K$.\n",
    "- $x @ y$ is identical to $x$.dot($y$) or np.dot($x$, $y$)."
   ]
  },
  {
   "cell_type": "code",
   "execution_count": 42,
   "metadata": {
    "execution": {
     "iopub.execute_input": "2021-09-08T03:19:46.528068Z",
     "iopub.status.busy": "2021-09-08T03:19:46.528068Z",
     "iopub.status.idle": "2021-09-08T03:19:46.546020Z",
     "shell.execute_reply": "2021-09-08T03:19:46.545023Z",
     "shell.execute_reply.started": "2021-09-08T03:19:46.528068Z"
    }
   },
   "outputs": [
    {
     "data": {
      "text/plain": [
       "array([[23., 20.],\n",
       "       [41., 36.],\n",
       "       [55., 48.]])"
      ]
     },
     "execution_count": 42,
     "metadata": {},
     "output_type": "execute_result"
    }
   ],
   "source": [
    "x = np.array([[1.0, 2],[ 3, 2], [3, 4]])\n",
    "y = np.array([[9.0, 8],[7, 6]]) \n",
    "\n",
    "x @ y #행렬곱을 의미한다."
   ]
  },
  {
   "cell_type": "code",
   "execution_count": 43,
   "metadata": {
    "execution": {
     "iopub.execute_input": "2021-09-08T03:19:46.661113Z",
     "iopub.status.busy": "2021-09-08T03:19:46.661113Z",
     "iopub.status.idle": "2021-09-08T03:19:46.665111Z",
     "shell.execute_reply": "2021-09-08T03:19:46.665111Z",
     "shell.execute_reply.started": "2021-09-08T03:19:46.661113Z"
    }
   },
   "outputs": [
    {
     "data": {
      "text/plain": [
       "array([[23., 20.],\n",
       "       [41., 36.],\n",
       "       [55., 48.]])"
      ]
     },
     "execution_count": 43,
     "metadata": {},
     "output_type": "execute_result"
    }
   ],
   "source": [
    "x.dot(y)"
   ]
  },
  {
   "cell_type": "code",
   "execution_count": 44,
   "metadata": {},
   "outputs": [
    {
     "data": {
      "text/plain": [
       "array([[23., 20.],\n",
       "       [41., 36.],\n",
       "       [55., 48.]])"
      ]
     },
     "execution_count": 44,
     "metadata": {},
     "output_type": "execute_result"
    }
   ],
   "source": [
    "np.dot(x,y)"
   ]
  },
  {
   "cell_type": "markdown",
   "metadata": {},
   "source": [
    "## 4. Transpose\n",
    "\n",
    "- Matrix transpose is expressed using either .T or the transpose function.\n",
    "- For instance, if $x$ is an $M$ by $N$ array, transpose($x$), $x$.transpose() and $x$.T are all its transpose with dimensions $N$ by $M$."
   ]
  },
  {
   "cell_type": "code",
   "execution_count": 45,
   "metadata": {
    "execution": {
     "iopub.execute_input": "2021-09-08T03:19:47.536386Z",
     "iopub.status.busy": "2021-09-08T03:19:47.536386Z",
     "iopub.status.idle": "2021-09-08T03:19:47.541372Z",
     "shell.execute_reply": "2021-09-08T03:19:47.541372Z",
     "shell.execute_reply.started": "2021-09-08T03:19:47.536386Z"
    }
   },
   "outputs": [
    {
     "name": "stdout",
     "output_type": "stream",
     "text": [
      "[[ 7.64421429e-01  6.46360339e-01]\n",
      " [-5.43103741e-04  3.84558062e-01]]\n"
     ]
    },
    {
     "data": {
      "text/plain": [
       "array([[ 7.64421429e-01, -5.43103741e-04],\n",
       "       [ 6.46360339e-01,  3.84558062e-01]])"
      ]
     },
     "execution_count": 45,
     "metadata": {},
     "output_type": "execute_result"
    }
   ],
   "source": [
    "x = np.random.randn(2,2)\n",
    "print(x)\n",
    "x.T"
   ]
  },
  {
   "cell_type": "code",
   "execution_count": 46,
   "metadata": {},
   "outputs": [
    {
     "data": {
      "text/plain": [
       "array([[ 7.64421429e-01, -5.43103741e-04],\n",
       "       [ 6.46360339e-01,  3.84558062e-01]])"
      ]
     },
     "execution_count": 46,
     "metadata": {},
     "output_type": "execute_result"
    }
   ],
   "source": [
    "x.transpose()"
   ]
  },
  {
   "cell_type": "markdown",
   "metadata": {},
   "source": [
    "## Example : Linear regression using the Normal Equation"
   ]
  },
  {
   "cell_type": "code",
   "execution_count": 1,
   "metadata": {
    "execution": {
     "iopub.execute_input": "2021-09-08T03:19:48.498608Z",
     "iopub.status.busy": "2021-09-08T03:19:48.498608Z",
     "iopub.status.idle": "2021-09-08T03:19:48.502598Z",
     "shell.execute_reply": "2021-09-08T03:19:48.502598Z",
     "shell.execute_reply.started": "2021-09-08T03:19:48.498608Z"
    }
   },
   "outputs": [],
   "source": [
    "import numpy as np\n",
    "\n",
    "# generating pseudo data\n",
    "\n",
    "X = 2 * np.random.randn(1000, 1) #독립변수, 외생변수, 설명변수\n",
    "y = 4 + 3 * X + np.random.randn(1000, 1) #종속변수, 내생변수"
   ]
  },
  {
   "cell_type": "markdown",
   "metadata": {},
   "source": [
    "$y = 4 + 3X + u$"
   ]
  },
  {
   "cell_type": "code",
   "execution_count": 2,
   "metadata": {
    "execution": {
     "iopub.execute_input": "2021-09-08T03:19:49.503994Z",
     "iopub.status.busy": "2021-09-08T03:19:49.503994Z",
     "iopub.status.idle": "2021-09-08T03:19:50.215475Z",
     "shell.execute_reply": "2021-09-08T03:19:50.215475Z",
     "shell.execute_reply.started": "2021-09-08T03:19:49.503994Z"
    }
   },
   "outputs": [
    {
     "data": {
      "image/png": "[encoded data removed]",
      "text/plain": [
       "<Figure size 432x288 with 1 Axes>"
      ]
     },
     "metadata": {
      "needs_background": "light"
     },
     "output_type": "display_data"
    }
   ],
   "source": [
    "import matplotlib.pyplot as plt\n",
    "%matplotlib inline\n",
    "\n",
    "plt.plot(X, y, \"b.\")\n",
    "plt.xlabel(\"$x_1$\", fontsize=18)\n",
    "plt.ylabel(\"$y$\", rotation=0, fontsize=18)\n",
    "plt.axis([0, 2, 0, 15])\n",
    "plt.show()"
   ]
  },
  {
   "cell_type": "markdown",
   "metadata": {},
   "source": [
    "$y_i = \\beta_0 + \\beta_1 X_i +\\epsilon_i$"
   ]
  },
  {
   "cell_type": "markdown",
   "metadata": {},
   "source": [
    "Formula from normal equation :\n",
    "$\\hat{\\beta}= (X'X)^{-1}X'y \\left(\\hat{\\beta}_1 = { \\sum (x_i - \\bar{x})y_i \\over \\sum (x_i - \\bar{x})^2}\\right)$"
   ]
  },
  {
   "cell_type": "code",
   "execution_count": 9,
   "metadata": {},
   "outputs": [
    {
     "data": {
      "text/plain": [
       "(1000, 1)"
      ]
     },
     "execution_count": 9,
     "metadata": {},
     "output_type": "execute_result"
    }
   ],
   "source": [
    "y.shape"
   ]
  },
  {
   "cell_type": "code",
   "execution_count": 3,
   "metadata": {
    "execution": {
     "iopub.execute_input": "2021-09-08T03:19:50.518636Z",
     "iopub.status.busy": "2021-09-08T03:19:50.518636Z",
     "iopub.status.idle": "2021-09-08T03:19:50.527612Z",
     "shell.execute_reply": "2021-09-08T03:19:50.526615Z",
     "shell.execute_reply.started": "2021-09-08T03:19:50.518636Z"
    }
   },
   "outputs": [],
   "source": [
    "X_b = np.c_[np.ones((1000, 1)), X]  # add x0 = 1 to each instance\n",
    "theta_best = np.linalg.inv(X_b.T @ X_b) @X_b.T@y #inv : 역행렬을 구해주는 method"
   ]
  },
  {
   "cell_type": "code",
   "execution_count": 4,
   "metadata": {
    "execution": {
     "iopub.execute_input": "2021-09-08T03:19:50.654276Z",
     "iopub.status.busy": "2021-09-08T03:19:50.653279Z",
     "iopub.status.idle": "2021-09-08T03:19:50.658265Z",
     "shell.execute_reply": "2021-09-08T03:19:50.658265Z",
     "shell.execute_reply.started": "2021-09-08T03:19:50.654276Z"
    }
   },
   "outputs": [
    {
     "data": {
      "text/plain": [
       "array([[3.9556576 ],\n",
       "       [3.00567752]])"
      ]
     },
     "execution_count": 4,
     "metadata": {},
     "output_type": "execute_result"
    }
   ],
   "source": [
    "theta_best #beta0, beta1 으로 총 두개의 수가 나와야 하기 때문에 결과값이 두개가 나온다"
   ]
  },
  {
   "cell_type": "code",
   "execution_count": 13,
   "metadata": {
    "execution": {
     "iopub.execute_input": "2021-09-08T03:19:51.515523Z",
     "iopub.status.busy": "2021-09-08T03:19:51.515523Z",
     "iopub.status.idle": "2021-09-08T03:19:51.522492Z",
     "shell.execute_reply": "2021-09-08T03:19:51.522492Z",
     "shell.execute_reply.started": "2021-09-08T03:19:51.515523Z"
    }
   },
   "outputs": [
    {
     "data": {
      "text/plain": [
       "array([[ 4.05918168],\n",
       "       [10.03261622]])"
      ]
     },
     "execution_count": 13,
     "metadata": {},
     "output_type": "execute_result"
    }
   ],
   "source": [
    "#predictions\n",
    "\n",
    "X_new = np.array([[0], [2]])\n",
    "X_new_b = np.c_[np.ones((2, 1)), X_new]  # add x0 = 1 to each instance\n",
    "y_predict = X_new_b.dot(theta_best)\n",
    "y_predict"
   ]
  },
  {
   "cell_type": "code",
   "execution_count": 14,
   "metadata": {
    "execution": {
     "iopub.execute_input": "2021-09-08T03:19:51.662984Z",
     "iopub.status.busy": "2021-09-08T03:19:51.661987Z",
     "iopub.status.idle": "2021-09-08T03:19:51.784148Z",
     "shell.execute_reply": "2021-09-08T03:19:51.784148Z",
     "shell.execute_reply.started": "2021-09-08T03:19:51.661987Z"
    }
   },
   "outputs": [
    {
     "data": {
      "image/png": "[encoded data removed]",
      "text/plain": [
       "<Figure size 432x288 with 1 Axes>"
      ]
     },
     "metadata": {
      "needs_background": "light"
     },
     "output_type": "display_data"
    }
   ],
   "source": [
    "plt.plot(X_new, y_predict, \"r-\", linewidth=2, label=\"Predictions\")\n",
    "plt.plot(X, y, \"b.\")\n",
    "plt.xlabel(\"$x_1$\", fontsize=18)\n",
    "plt.ylabel(\"$y$\", rotation=0, fontsize=18)\n",
    "plt.legend(loc=\"upper left\", fontsize=14)\n",
    "plt.axis([0, 2, 0, 15])\n",
    "\n",
    "#X와 Y 사이에서는 선형 관계가 나타난다\n",
    "\n",
    "plt.show()"
   ]
  },
  {
   "cell_type": "code",
   "execution_count": null,
   "metadata": {},
   "outputs": [],
   "source": []
  }
 ],
 "metadata": {
  "kernelspec": {
   "display_name": "Python 3 (ipykernel)",
   "language": "python",
   "name": "python3"
  },
  "language_info": {
   "codemirror_mode": {
    "name": "ipython",
    "version": 3
   },
   "file_extension": ".py",
   "mimetype": "text/x-python",
   "name": "python",
   "nbconvert_exporter": "python",
   "pygments_lexer": "ipython3",
   "version": "3.9.7"
  }
 },
 "nbformat": 4,
 "nbformat_minor": 4
}
