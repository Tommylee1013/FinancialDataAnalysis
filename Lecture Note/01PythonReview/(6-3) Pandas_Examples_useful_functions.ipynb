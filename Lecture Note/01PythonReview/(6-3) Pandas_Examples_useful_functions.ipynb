{
 "cells": [
  {
   "cell_type": "markdown",
   "metadata": {},
   "source": [
    "## Example : total GDP to GDP per capita"
   ]
  },
  {
   "cell_type": "code",
   "execution_count": 1,
   "metadata": {
    "execution": {
     "iopub.execute_input": "2021-09-24T05:16:56.205698Z",
     "iopub.status.busy": "2021-09-24T05:16:56.205698Z",
     "iopub.status.idle": "2021-09-24T05:16:56.767197Z",
     "shell.execute_reply": "2021-09-24T05:16:56.766200Z",
     "shell.execute_reply.started": "2021-09-24T05:16:56.205698Z"
    },
    "ExecuteTime": {
     "end_time": "2023-09-02T17:23:53.096498Z",
     "start_time": "2023-09-02T17:23:52.057527Z"
    }
   },
   "outputs": [
    {
     "data": {
      "text/plain": "              country isocode  year          POP       XRAT         tcgdp  \\\ncountry                                                                     \nArgentina                 ARG  2000    37335.653   0.999500  2.950722e+05   \nAustralia                 AUS  2000    19053.186   1.724830  5.418047e+05   \nIndia                     IND  2000  1006300.297  44.941600  1.728144e+06   \nIsrael                    ISR  2000     6114.570   4.077330  1.292539e+05   \nMalawi                    MWI  2000    11801.505  59.543808  5.026222e+03   \nSouth Africa              ZAF  2000    45064.098   6.939830  2.272424e+05   \nUnited States             USA  2000   282171.957   1.000000  9.898700e+06   \nUruguay                   URY  2000     3219.793  12.099592  2.525596e+04   \n\n                      cc         cg  \ncountry                              \nArgentina      75.716805   5.578804  \nAustralia      67.759026   6.720098  \nIndia          64.575551  14.072206  \nIsrael         64.436451  10.266688  \nMalawi         74.707624  11.658954  \nSouth Africa   72.718710   5.726546  \nUnited States  72.347054   6.032454  \nUruguay        78.978740   5.108068  ",
      "text/html": "<div>\n<style scoped>\n    .dataframe tbody tr th:only-of-type {\n        vertical-align: middle;\n    }\n\n    .dataframe tbody tr th {\n        vertical-align: top;\n    }\n\n    .dataframe thead th {\n        text-align: right;\n    }\n</style>\n<table border=\"1\" class=\"dataframe\">\n  <thead>\n    <tr style=\"text-align: right;\">\n      <th></th>\n      <th>country isocode</th>\n      <th>year</th>\n      <th>POP</th>\n      <th>XRAT</th>\n      <th>tcgdp</th>\n      <th>cc</th>\n      <th>cg</th>\n    </tr>\n    <tr>\n      <th>country</th>\n      <th></th>\n      <th></th>\n      <th></th>\n      <th></th>\n      <th></th>\n      <th></th>\n      <th></th>\n    </tr>\n  </thead>\n  <tbody>\n    <tr>\n      <th>Argentina</th>\n      <td>ARG</td>\n      <td>2000</td>\n      <td>37335.653</td>\n      <td>0.999500</td>\n      <td>2.950722e+05</td>\n      <td>75.716805</td>\n      <td>5.578804</td>\n    </tr>\n    <tr>\n      <th>Australia</th>\n      <td>AUS</td>\n      <td>2000</td>\n      <td>19053.186</td>\n      <td>1.724830</td>\n      <td>5.418047e+05</td>\n      <td>67.759026</td>\n      <td>6.720098</td>\n    </tr>\n    <tr>\n      <th>India</th>\n      <td>IND</td>\n      <td>2000</td>\n      <td>1006300.297</td>\n      <td>44.941600</td>\n      <td>1.728144e+06</td>\n      <td>64.575551</td>\n      <td>14.072206</td>\n    </tr>\n    <tr>\n      <th>Israel</th>\n      <td>ISR</td>\n      <td>2000</td>\n      <td>6114.570</td>\n      <td>4.077330</td>\n      <td>1.292539e+05</td>\n      <td>64.436451</td>\n      <td>10.266688</td>\n    </tr>\n    <tr>\n      <th>Malawi</th>\n      <td>MWI</td>\n      <td>2000</td>\n      <td>11801.505</td>\n      <td>59.543808</td>\n      <td>5.026222e+03</td>\n      <td>74.707624</td>\n      <td>11.658954</td>\n    </tr>\n    <tr>\n      <th>South Africa</th>\n      <td>ZAF</td>\n      <td>2000</td>\n      <td>45064.098</td>\n      <td>6.939830</td>\n      <td>2.272424e+05</td>\n      <td>72.718710</td>\n      <td>5.726546</td>\n    </tr>\n    <tr>\n      <th>United States</th>\n      <td>USA</td>\n      <td>2000</td>\n      <td>282171.957</td>\n      <td>1.000000</td>\n      <td>9.898700e+06</td>\n      <td>72.347054</td>\n      <td>6.032454</td>\n    </tr>\n    <tr>\n      <th>Uruguay</th>\n      <td>URY</td>\n      <td>2000</td>\n      <td>3219.793</td>\n      <td>12.099592</td>\n      <td>2.525596e+04</td>\n      <td>78.978740</td>\n      <td>5.108068</td>\n    </tr>\n  </tbody>\n</table>\n</div>"
     },
     "execution_count": 1,
     "metadata": {},
     "output_type": "execute_result"
    }
   ],
   "source": [
    "import pandas as pd\n",
    "\n",
    "df = pd.read_csv('https://github.com/QuantEcon/QuantEcon.lectures.code/raw/master/pandas/data/test_pwt.csv', index_col=0)\n",
    "df"
   ]
  },
  {
   "cell_type": "markdown",
   "metadata": {},
   "source": [
    "We can select particular rows using standard Python array slicing notation"
   ]
  },
  {
   "cell_type": "code",
   "execution_count": 2,
   "metadata": {
    "execution": {
     "iopub.execute_input": "2021-09-24T04:05:32.765396Z",
     "iopub.status.busy": "2021-09-24T04:05:32.764380Z",
     "iopub.status.idle": "2021-09-24T04:05:32.778343Z",
     "shell.execute_reply": "2021-09-24T04:05:32.778343Z",
     "shell.execute_reply.started": "2021-09-24T04:05:32.764380Z"
    },
    "ExecuteTime": {
     "end_time": "2023-09-02T17:23:53.107451Z",
     "start_time": "2023-09-02T17:23:53.100825Z"
    }
   },
   "outputs": [
    {
     "data": {
      "text/plain": "        country isocode  year          POP       XRAT         tcgdp  \\\ncountry                                                               \nIndia               IND  2000  1006300.297  44.941600  1.728144e+06   \nIsrael              ISR  2000     6114.570   4.077330  1.292539e+05   \nMalawi              MWI  2000    11801.505  59.543808  5.026222e+03   \n\n                cc         cg  \ncountry                        \nIndia    64.575551  14.072206  \nIsrael   64.436451  10.266688  \nMalawi   74.707624  11.658954  ",
      "text/html": "<div>\n<style scoped>\n    .dataframe tbody tr th:only-of-type {\n        vertical-align: middle;\n    }\n\n    .dataframe tbody tr th {\n        vertical-align: top;\n    }\n\n    .dataframe thead th {\n        text-align: right;\n    }\n</style>\n<table border=\"1\" class=\"dataframe\">\n  <thead>\n    <tr style=\"text-align: right;\">\n      <th></th>\n      <th>country isocode</th>\n      <th>year</th>\n      <th>POP</th>\n      <th>XRAT</th>\n      <th>tcgdp</th>\n      <th>cc</th>\n      <th>cg</th>\n    </tr>\n    <tr>\n      <th>country</th>\n      <th></th>\n      <th></th>\n      <th></th>\n      <th></th>\n      <th></th>\n      <th></th>\n      <th></th>\n    </tr>\n  </thead>\n  <tbody>\n    <tr>\n      <th>India</th>\n      <td>IND</td>\n      <td>2000</td>\n      <td>1006300.297</td>\n      <td>44.941600</td>\n      <td>1.728144e+06</td>\n      <td>64.575551</td>\n      <td>14.072206</td>\n    </tr>\n    <tr>\n      <th>Israel</th>\n      <td>ISR</td>\n      <td>2000</td>\n      <td>6114.570</td>\n      <td>4.077330</td>\n      <td>1.292539e+05</td>\n      <td>64.436451</td>\n      <td>10.266688</td>\n    </tr>\n    <tr>\n      <th>Malawi</th>\n      <td>MWI</td>\n      <td>2000</td>\n      <td>11801.505</td>\n      <td>59.543808</td>\n      <td>5.026222e+03</td>\n      <td>74.707624</td>\n      <td>11.658954</td>\n    </tr>\n  </tbody>\n</table>\n</div>"
     },
     "execution_count": 2,
     "metadata": {},
     "output_type": "execute_result"
    }
   ],
   "source": [
    "df[2:5] #기본적으로 Index기준으로 슬라이싱이 된다."
   ]
  },
  {
   "cell_type": "markdown",
   "metadata": {},
   "source": [
    "To select columns, we can pass a list containing the names of the desired columns represented as strings"
   ]
  },
  {
   "cell_type": "code",
   "execution_count": 3,
   "metadata": {
    "execution": {
     "iopub.execute_input": "2021-09-24T04:05:34.928692Z",
     "iopub.status.busy": "2021-09-24T04:05:34.928692Z",
     "iopub.status.idle": "2021-09-24T04:05:34.947667Z",
     "shell.execute_reply": "2021-09-24T04:05:34.947667Z",
     "shell.execute_reply.started": "2021-09-24T04:05:34.928692Z"
    },
    "ExecuteTime": {
     "end_time": "2023-09-02T17:23:54.036070Z",
     "start_time": "2023-09-02T17:23:53.105839Z"
    }
   },
   "outputs": [
    {
     "ename": "KeyError",
     "evalue": "\"['country'] not in index\"",
     "output_type": "error",
     "traceback": [
      "\u001B[0;31m---------------------------------------------------------------------------\u001B[0m",
      "\u001B[0;31mKeyError\u001B[0m                                  Traceback (most recent call last)",
      "Cell \u001B[0;32mIn[3], line 1\u001B[0m\n\u001B[0;32m----> 1\u001B[0m df[[\u001B[38;5;124m'\u001B[39m\u001B[38;5;124mcountry\u001B[39m\u001B[38;5;124m'\u001B[39m, \u001B[38;5;124m'\u001B[39m\u001B[38;5;124mtcgdp\u001B[39m\u001B[38;5;124m'\u001B[39m]]\n",
      "File \u001B[0;32m~/anaconda3/lib/python3.11/site-packages/pandas/core/frame.py:3813\u001B[0m, in \u001B[0;36mDataFrame.__getitem__\u001B[0;34m(self, key)\u001B[0m\n\u001B[1;32m   3811\u001B[0m     \u001B[38;5;28;01mif\u001B[39;00m is_iterator(key):\n\u001B[1;32m   3812\u001B[0m         key \u001B[38;5;241m=\u001B[39m \u001B[38;5;28mlist\u001B[39m(key)\n\u001B[0;32m-> 3813\u001B[0m     indexer \u001B[38;5;241m=\u001B[39m \u001B[38;5;28mself\u001B[39m\u001B[38;5;241m.\u001B[39mcolumns\u001B[38;5;241m.\u001B[39m_get_indexer_strict(key, \u001B[38;5;124m\"\u001B[39m\u001B[38;5;124mcolumns\u001B[39m\u001B[38;5;124m\"\u001B[39m)[\u001B[38;5;241m1\u001B[39m]\n\u001B[1;32m   3815\u001B[0m \u001B[38;5;66;03m# take() does not accept boolean indexers\u001B[39;00m\n\u001B[1;32m   3816\u001B[0m \u001B[38;5;28;01mif\u001B[39;00m \u001B[38;5;28mgetattr\u001B[39m(indexer, \u001B[38;5;124m\"\u001B[39m\u001B[38;5;124mdtype\u001B[39m\u001B[38;5;124m\"\u001B[39m, \u001B[38;5;28;01mNone\u001B[39;00m) \u001B[38;5;241m==\u001B[39m \u001B[38;5;28mbool\u001B[39m:\n",
      "File \u001B[0;32m~/anaconda3/lib/python3.11/site-packages/pandas/core/indexes/base.py:6070\u001B[0m, in \u001B[0;36mIndex._get_indexer_strict\u001B[0;34m(self, key, axis_name)\u001B[0m\n\u001B[1;32m   6067\u001B[0m \u001B[38;5;28;01melse\u001B[39;00m:\n\u001B[1;32m   6068\u001B[0m     keyarr, indexer, new_indexer \u001B[38;5;241m=\u001B[39m \u001B[38;5;28mself\u001B[39m\u001B[38;5;241m.\u001B[39m_reindex_non_unique(keyarr)\n\u001B[0;32m-> 6070\u001B[0m \u001B[38;5;28mself\u001B[39m\u001B[38;5;241m.\u001B[39m_raise_if_missing(keyarr, indexer, axis_name)\n\u001B[1;32m   6072\u001B[0m keyarr \u001B[38;5;241m=\u001B[39m \u001B[38;5;28mself\u001B[39m\u001B[38;5;241m.\u001B[39mtake(indexer)\n\u001B[1;32m   6073\u001B[0m \u001B[38;5;28;01mif\u001B[39;00m \u001B[38;5;28misinstance\u001B[39m(key, Index):\n\u001B[1;32m   6074\u001B[0m     \u001B[38;5;66;03m# GH 42790 - Preserve name from an Index\u001B[39;00m\n",
      "File \u001B[0;32m~/anaconda3/lib/python3.11/site-packages/pandas/core/indexes/base.py:6133\u001B[0m, in \u001B[0;36mIndex._raise_if_missing\u001B[0;34m(self, key, indexer, axis_name)\u001B[0m\n\u001B[1;32m   6130\u001B[0m     \u001B[38;5;28;01mraise\u001B[39;00m \u001B[38;5;167;01mKeyError\u001B[39;00m(\u001B[38;5;124mf\u001B[39m\u001B[38;5;124m\"\u001B[39m\u001B[38;5;124mNone of [\u001B[39m\u001B[38;5;132;01m{\u001B[39;00mkey\u001B[38;5;132;01m}\u001B[39;00m\u001B[38;5;124m] are in the [\u001B[39m\u001B[38;5;132;01m{\u001B[39;00maxis_name\u001B[38;5;132;01m}\u001B[39;00m\u001B[38;5;124m]\u001B[39m\u001B[38;5;124m\"\u001B[39m)\n\u001B[1;32m   6132\u001B[0m not_found \u001B[38;5;241m=\u001B[39m \u001B[38;5;28mlist\u001B[39m(ensure_index(key)[missing_mask\u001B[38;5;241m.\u001B[39mnonzero()[\u001B[38;5;241m0\u001B[39m]]\u001B[38;5;241m.\u001B[39munique())\n\u001B[0;32m-> 6133\u001B[0m \u001B[38;5;28;01mraise\u001B[39;00m \u001B[38;5;167;01mKeyError\u001B[39;00m(\u001B[38;5;124mf\u001B[39m\u001B[38;5;124m\"\u001B[39m\u001B[38;5;132;01m{\u001B[39;00mnot_found\u001B[38;5;132;01m}\u001B[39;00m\u001B[38;5;124m not in index\u001B[39m\u001B[38;5;124m\"\u001B[39m)\n",
      "\u001B[0;31mKeyError\u001B[0m: \"['country'] not in index\""
     ]
    }
   ],
   "source": [
    "df[['country', 'tcgdp']] #column은 이름을 기준으로 슬라이싱할 수 있다."
   ]
  },
  {
   "cell_type": "code",
   "execution_count": null,
   "metadata": {
    "execution": {
     "iopub.execute_input": "2021-09-24T04:05:36.801510Z",
     "iopub.status.busy": "2021-09-24T04:05:36.800509Z",
     "iopub.status.idle": "2021-09-24T04:05:36.845392Z",
     "shell.execute_reply": "2021-09-24T04:05:36.842398Z",
     "shell.execute_reply.started": "2021-09-24T04:05:36.801510Z"
    },
    "ExecuteTime": {
     "end_time": "2023-09-02T17:23:54.037496Z",
     "start_time": "2023-09-02T17:23:54.037173Z"
    }
   },
   "outputs": [],
   "source": [
    "df.iloc[2:5, 0:4] #iloc은 숫자로 slicing이 가능하다"
   ]
  },
  {
   "cell_type": "markdown",
   "metadata": {},
   "source": [
    "To select rows and columns using a mixture of integers and labels, the loc attribute can be used in a similar way"
   ]
  },
  {
   "cell_type": "code",
   "execution_count": null,
   "metadata": {
    "execution": {
     "iopub.execute_input": "2021-09-24T04:06:56.762238Z",
     "iopub.status.busy": "2021-09-24T04:06:56.762238Z",
     "iopub.status.idle": "2021-09-24T04:06:56.776220Z",
     "shell.execute_reply": "2021-09-24T04:06:56.776220Z",
     "shell.execute_reply.started": "2021-09-24T04:06:56.762238Z"
    },
    "ExecuteTime": {
     "start_time": "2023-09-02T17:23:54.038469Z"
    }
   },
   "outputs": [],
   "source": [
    "df.loc[['India','Israel'],['year','cc']] #loc은 기존의 인덱싱과는 다른 방식으로, 이름을 기반으로 slicing이 가능하다. \n",
    "#현재 loc에서 숫자는 입력이 되지 않는다."
   ]
  },
  {
   "cell_type": "markdown",
   "metadata": {},
   "source": [
    "Let’s imagine that we’re only interested in population and total GDP (tcgdp).\n",
    "\n",
    "One way to strip the data frame df down to only these variables is to overwrite the dataframe using the selection method described above"
   ]
  },
  {
   "cell_type": "code",
   "execution_count": null,
   "metadata": {
    "execution": {
     "iopub.execute_input": "2021-09-13T11:30:17.319490Z",
     "iopub.status.busy": "2021-09-13T11:30:17.319490Z",
     "iopub.status.idle": "2021-09-13T11:30:17.334241Z",
     "shell.execute_reply": "2021-09-13T11:30:17.333244Z",
     "shell.execute_reply.started": "2021-09-13T11:30:17.319490Z"
    },
    "ExecuteTime": {
     "start_time": "2023-09-02T17:23:54.039717Z"
    }
   },
   "outputs": [],
   "source": [
    "df = df['country', 'POP', 'tcgdp']\n",
    "df"
   ]
  },
  {
   "cell_type": "markdown",
   "metadata": {},
   "source": [
    "Here the index 0, 1,..., 7 is redundant because we can use the country names as an index.\n",
    "\n",
    "To do this, we set the index to be the country variable in the dataframe"
   ]
  },
  {
   "cell_type": "code",
   "execution_count": null,
   "metadata": {
    "execution": {
     "iopub.execute_input": "2021-09-13T11:30:18.673427Z",
     "iopub.status.busy": "2021-09-13T11:30:18.672430Z",
     "iopub.status.idle": "2021-09-13T11:30:18.692501Z",
     "shell.execute_reply": "2021-09-13T11:30:18.691503Z",
     "shell.execute_reply.started": "2021-09-13T11:30:18.673427Z"
    },
    "ExecuteTime": {
     "start_time": "2023-09-02T17:23:54.040755Z"
    }
   },
   "outputs": [],
   "source": [
    "df = df.set_index('country')\n",
    "df"
   ]
  },
  {
   "cell_type": "code",
   "execution_count": null,
   "metadata": {
    "execution": {
     "iopub.execute_input": "2021-09-13T11:30:18.693522Z",
     "iopub.status.busy": "2021-09-13T11:30:18.693522Z",
     "iopub.status.idle": "2021-09-13T11:30:18.708491Z",
     "shell.execute_reply": "2021-09-13T11:30:18.707460Z",
     "shell.execute_reply.started": "2021-09-13T11:30:18.693522Z"
    },
    "ExecuteTime": {
     "start_time": "2023-09-02T17:23:54.042081Z"
    }
   },
   "outputs": [],
   "source": [
    "df.columns = [['population', 'total GDP']]\n",
    "df"
   ]
  },
  {
   "cell_type": "markdown",
   "metadata": {},
   "source": [
    "Population is in thousands, let’s revert to single units"
   ]
  },
  {
   "cell_type": "code",
   "execution_count": null,
   "metadata": {
    "execution": {
     "iopub.execute_input": "2021-09-13T11:30:20.033899Z",
     "iopub.status.busy": "2021-09-13T11:30:20.033899Z",
     "iopub.status.idle": "2021-09-13T11:30:20.046504Z",
     "shell.execute_reply": "2021-09-13T11:30:20.045506Z",
     "shell.execute_reply.started": "2021-09-13T11:30:20.033899Z"
    },
    "ExecuteTime": {
     "start_time": "2023-09-02T17:23:54.043065Z"
    }
   },
   "outputs": [],
   "source": [
    "df['population'] = df['population'] * 1e3\n",
    "df"
   ]
  },
  {
   "cell_type": "markdown",
   "metadata": {},
   "source": [
    "Next, we’re going to add a column showing real GDP per capita, multiplying by 1,000,000 as we go because total GDP is in millions"
   ]
  },
  {
   "cell_type": "code",
   "execution_count": null,
   "metadata": {
    "execution": {
     "iopub.execute_input": "2021-09-13T11:30:21.357906Z",
     "iopub.status.busy": "2021-09-13T11:30:21.357906Z",
     "iopub.status.idle": "2021-09-13T11:30:21.370537Z",
     "shell.execute_reply": "2021-09-13T11:30:21.370537Z",
     "shell.execute_reply.started": "2021-09-13T11:30:21.357906Z"
    },
    "ExecuteTime": {
     "start_time": "2023-09-02T17:23:54.044066Z"
    }
   },
   "outputs": [],
   "source": [
    "temp = df['total GDP'] * 1e6 / df['population']\n",
    "df['GDP percap'] = temp\n",
    "df"
   ]
  },
  {
   "cell_type": "markdown",
   "metadata": {},
   "source": [
    "One of the nice things about pandas DataFrame and Series objects is that they have methods for plotting and visualization that work through Matplotlib.\n",
    "\n",
    "For example, we can easily generate a bar plot of GDP per capita"
   ]
  },
  {
   "cell_type": "code",
   "execution_count": null,
   "metadata": {
    "execution": {
     "iopub.execute_input": "2021-09-13T11:30:22.718370Z",
     "iopub.status.busy": "2021-09-13T11:30:22.717374Z",
     "iopub.status.idle": "2021-09-13T11:30:22.842590Z",
     "shell.execute_reply": "2021-09-13T11:30:22.842590Z",
     "shell.execute_reply.started": "2021-09-13T11:30:22.718370Z"
    },
    "ExecuteTime": {
     "start_time": "2023-09-02T17:23:54.045123Z"
    }
   },
   "outputs": [],
   "source": [
    "df['GDP percap'].plot(kind='bar')"
   ]
  },
  {
   "cell_type": "markdown",
   "metadata": {},
   "source": [
    "At the moment the data frame is ordered alphabetically on the countries—let’s change it to GDP per capita"
   ]
  },
  {
   "cell_type": "code",
   "execution_count": null,
   "metadata": {
    "execution": {
     "iopub.execute_input": "2021-09-13T11:30:24.026811Z",
     "iopub.status.busy": "2021-09-13T11:30:24.026811Z",
     "iopub.status.idle": "2021-09-13T11:30:24.039799Z",
     "shell.execute_reply": "2021-09-13T11:30:24.039799Z",
     "shell.execute_reply.started": "2021-09-13T11:30:24.026811Z"
    },
    "ExecuteTime": {
     "start_time": "2023-09-02T17:23:54.046300Z"
    }
   },
   "outputs": [],
   "source": [
    "df = df.sort_values(by='GDP percap', ascending=False)\n",
    "df"
   ]
  },
  {
   "cell_type": "markdown",
   "metadata": {},
   "source": [
    "Plotting as before now yields"
   ]
  },
  {
   "cell_type": "code",
   "execution_count": null,
   "metadata": {
    "execution": {
     "iopub.execute_input": "2021-09-13T11:30:25.363476Z",
     "iopub.status.busy": "2021-09-13T11:30:25.362478Z",
     "iopub.status.idle": "2021-09-13T11:30:25.470242Z",
     "shell.execute_reply": "2021-09-13T11:30:25.470242Z",
     "shell.execute_reply.started": "2021-09-13T11:30:25.363476Z"
    },
    "ExecuteTime": {
     "start_time": "2023-09-02T17:23:54.047394Z"
    }
   },
   "outputs": [],
   "source": [
    "df['GDP percap'].plot(kind='bar')"
   ]
  },
  {
   "cell_type": "markdown",
   "metadata": {},
   "source": [
    "#### Useful statistical methods :\n",
    "\n",
    "- Moments\n",
    "    - Average: .mean()\n",
    "    - Variance(std): .var(), .std()\n",
    "    - Skewness: .skew()\n",
    "    - Kurtosis: .kurtosis()\n",
    "    - Covariance, Correlation: .cov(), corr()"
   ]
  },
  {
   "cell_type": "code",
   "execution_count": null,
   "metadata": {
    "execution": {
     "iopub.execute_input": "2021-09-13T11:30:32.103450Z",
     "iopub.status.busy": "2021-09-13T11:30:32.103450Z",
     "iopub.status.idle": "2021-09-13T11:30:32.131275Z",
     "shell.execute_reply": "2021-09-13T11:30:32.130278Z",
     "shell.execute_reply.started": "2021-09-13T11:30:32.103450Z"
    },
    "ExecuteTime": {
     "start_time": "2023-09-02T17:23:54.048142Z"
    }
   },
   "outputs": [],
   "source": [
    "df.describe()"
   ]
  },
  {
   "cell_type": "code",
   "execution_count": null,
   "metadata": {
    "execution": {
     "iopub.execute_input": "2021-09-13T11:31:54.113517Z",
     "iopub.status.busy": "2021-09-13T11:31:54.112520Z",
     "iopub.status.idle": "2021-09-13T11:31:54.138451Z",
     "shell.execute_reply": "2021-09-13T11:31:54.136457Z",
     "shell.execute_reply.started": "2021-09-13T11:31:54.113517Z"
    },
    "ExecuteTime": {
     "start_time": "2023-09-02T17:23:54.048775Z"
    }
   },
   "outputs": [],
   "source": [
    "df.mean()"
   ]
  },
  {
   "cell_type": "markdown",
   "metadata": {},
   "source": [
    "## Additional useful features\n",
    "\n",
    "- Pandas provides useful functions, expecially for time series data.\n",
    "- resample\n",
    "- rolling"
   ]
  },
  {
   "cell_type": "code",
   "execution_count": 4,
   "metadata": {
    "execution": {
     "iopub.execute_input": "2021-09-24T05:36:17.664590Z",
     "iopub.status.busy": "2021-09-24T05:36:17.663593Z",
     "iopub.status.idle": "2021-09-24T05:36:18.579373Z",
     "shell.execute_reply": "2021-09-24T05:36:18.579373Z",
     "shell.execute_reply.started": "2021-09-24T05:36:17.664590Z"
    },
    "ExecuteTime": {
     "end_time": "2023-09-02T17:24:14.399973Z",
     "start_time": "2023-09-02T17:24:13.819983Z"
    }
   },
   "outputs": [
    {
     "data": {
      "text/plain": "                                 price  volume   buy  sell\n2018-11-21 09:00:04.278571  266.200012     1.0   0.0   1.0\n2018-11-21 09:00:08.557143  266.200012     1.0   0.0   1.0\n2018-11-21 09:00:12.835714  266.250000    21.0  21.0   0.0\n2018-11-21 09:00:17.114286  266.299988     1.0   1.0   0.0\n2018-11-21 09:00:21.392857  266.350006     2.0   2.0   0.0",
      "text/html": "<div>\n<style scoped>\n    .dataframe tbody tr th:only-of-type {\n        vertical-align: middle;\n    }\n\n    .dataframe tbody tr th {\n        vertical-align: top;\n    }\n\n    .dataframe thead th {\n        text-align: right;\n    }\n</style>\n<table border=\"1\" class=\"dataframe\">\n  <thead>\n    <tr style=\"text-align: right;\">\n      <th></th>\n      <th>price</th>\n      <th>volume</th>\n      <th>buy</th>\n      <th>sell</th>\n    </tr>\n  </thead>\n  <tbody>\n    <tr>\n      <th>2018-11-21 09:00:04.278571</th>\n      <td>266.200012</td>\n      <td>1.0</td>\n      <td>0.0</td>\n      <td>1.0</td>\n    </tr>\n    <tr>\n      <th>2018-11-21 09:00:08.557143</th>\n      <td>266.200012</td>\n      <td>1.0</td>\n      <td>0.0</td>\n      <td>1.0</td>\n    </tr>\n    <tr>\n      <th>2018-11-21 09:00:12.835714</th>\n      <td>266.250000</td>\n      <td>21.0</td>\n      <td>21.0</td>\n      <td>0.0</td>\n    </tr>\n    <tr>\n      <th>2018-11-21 09:00:17.114286</th>\n      <td>266.299988</td>\n      <td>1.0</td>\n      <td>1.0</td>\n      <td>0.0</td>\n    </tr>\n    <tr>\n      <th>2018-11-21 09:00:21.392857</th>\n      <td>266.350006</td>\n      <td>2.0</td>\n      <td>2.0</td>\n      <td>0.0</td>\n    </tr>\n  </tbody>\n</table>\n</div>"
     },
     "execution_count": 4,
     "metadata": {},
     "output_type": "execute_result"
    }
   ],
   "source": [
    "df = pd.read_csv('data/test.csv', \n",
    "                 index_col=0\n",
    "                 )\n",
    "df.head()"
   ]
  },
  {
   "cell_type": "markdown",
   "metadata": {},
   "source": [
    "t : 분\n",
    "h : 시간\n",
    "d : 일\n",
    "w : 주\n",
    "    first\n",
    "    last\n",
    "    sum"
   ]
  },
  {
   "cell_type": "code",
   "execution_count": 5,
   "metadata": {
    "execution": {
     "iopub.execute_input": "2021-09-24T05:36:19.863284Z",
     "iopub.status.busy": "2021-09-24T05:36:19.863284Z",
     "iopub.status.idle": "2021-09-24T05:36:20.085708Z",
     "shell.execute_reply": "2021-09-24T05:36:20.085708Z",
     "shell.execute_reply.started": "2021-09-24T05:36:19.863284Z"
    },
    "ExecuteTime": {
     "end_time": "2023-09-02T17:24:16.137305Z",
     "start_time": "2023-09-02T17:24:15.411820Z"
    }
   },
   "outputs": [
    {
     "name": "stdout",
     "output_type": "stream",
     "text": [
      "Index(['2018-11-21 09:00:04.278571', '2018-11-21 09:00:08.557143',\n",
      "       '2018-11-21 09:00:12.835714', '2018-11-21 09:00:17.114286',\n",
      "       '2018-11-21 09:00:21.392857', '2018-11-21 09:00:25.671429',\n",
      "       '2018-11-21 09:00:29.950000', '2018-11-21 09:00:34.228571',\n",
      "       '2018-11-21 09:00:38.507143', '2018-11-21 09:00:42.785714',\n",
      "       ...\n",
      "       '2018-12-28 15:35:54.900000', '2018-12-28 15:35:25.950000',\n",
      "       '2018-12-28 15:35:55.900000', '2018-12-28 15:35:16.966667',\n",
      "       '2018-12-28 15:35:36.933333', '2018-12-28 15:35:56.900000',\n",
      "       '2018-12-28 15:35:27.950000', '2018-12-28 15:35:57.900000',\n",
      "       '2018-12-28 15:35:28.950000', '2018-12-28 15:35:58.900000'],\n",
      "      dtype='object', length=865030)\n"
     ]
    },
    {
     "ename": "TypeError",
     "evalue": "Only valid with DatetimeIndex, TimedeltaIndex or PeriodIndex, but got an instance of 'Index'",
     "output_type": "error",
     "traceback": [
      "\u001B[0;31m---------------------------------------------------------------------------\u001B[0m",
      "\u001B[0;31mTypeError\u001B[0m                                 Traceback (most recent call last)",
      "Cell \u001B[0;32mIn[5], line 3\u001B[0m\n\u001B[1;32m      1\u001B[0m \u001B[38;5;66;03m# (1) Sample every 5 minutes\u001B[39;00m\n\u001B[1;32m      2\u001B[0m \u001B[38;5;28mprint\u001B[39m(df\u001B[38;5;241m.\u001B[39mindex)\n\u001B[0;32m----> 3\u001B[0m df\u001B[38;5;241m.\u001B[39mprice\u001B[38;5;241m.\u001B[39mresample(\u001B[38;5;124m'\u001B[39m\u001B[38;5;124m5t\u001B[39m\u001B[38;5;124m'\u001B[39m)\u001B[38;5;241m.\u001B[39mohlc()\u001B[38;5;241m.\u001B[39mdropna()\n",
      "File \u001B[0;32m~/anaconda3/lib/python3.11/site-packages/pandas/core/series.py:5872\u001B[0m, in \u001B[0;36mSeries.resample\u001B[0;34m(self, rule, axis, closed, label, convention, kind, loffset, base, on, level, origin, offset, group_keys)\u001B[0m\n\u001B[1;32m   5855\u001B[0m \u001B[38;5;129m@doc\u001B[39m(NDFrame\u001B[38;5;241m.\u001B[39mresample, \u001B[38;5;241m*\u001B[39m\u001B[38;5;241m*\u001B[39m_shared_doc_kwargs)  \u001B[38;5;66;03m# type: ignore[has-type]\u001B[39;00m\n\u001B[1;32m   5856\u001B[0m \u001B[38;5;28;01mdef\u001B[39;00m \u001B[38;5;21mresample\u001B[39m(\n\u001B[1;32m   5857\u001B[0m     \u001B[38;5;28mself\u001B[39m,\n\u001B[0;32m   (...)\u001B[0m\n\u001B[1;32m   5870\u001B[0m     group_keys: \u001B[38;5;28mbool\u001B[39m \u001B[38;5;241m|\u001B[39m lib\u001B[38;5;241m.\u001B[39mNoDefault \u001B[38;5;241m=\u001B[39m no_default,\n\u001B[1;32m   5871\u001B[0m ) \u001B[38;5;241m-\u001B[39m\u001B[38;5;241m>\u001B[39m Resampler:\n\u001B[0;32m-> 5872\u001B[0m     \u001B[38;5;28;01mreturn\u001B[39;00m \u001B[38;5;28msuper\u001B[39m()\u001B[38;5;241m.\u001B[39mresample(\n\u001B[1;32m   5873\u001B[0m         rule\u001B[38;5;241m=\u001B[39mrule,\n\u001B[1;32m   5874\u001B[0m         axis\u001B[38;5;241m=\u001B[39maxis,\n\u001B[1;32m   5875\u001B[0m         closed\u001B[38;5;241m=\u001B[39mclosed,\n\u001B[1;32m   5876\u001B[0m         label\u001B[38;5;241m=\u001B[39mlabel,\n\u001B[1;32m   5877\u001B[0m         convention\u001B[38;5;241m=\u001B[39mconvention,\n\u001B[1;32m   5878\u001B[0m         kind\u001B[38;5;241m=\u001B[39mkind,\n\u001B[1;32m   5879\u001B[0m         loffset\u001B[38;5;241m=\u001B[39mloffset,\n\u001B[1;32m   5880\u001B[0m         base\u001B[38;5;241m=\u001B[39mbase,\n\u001B[1;32m   5881\u001B[0m         on\u001B[38;5;241m=\u001B[39mon,\n\u001B[1;32m   5882\u001B[0m         level\u001B[38;5;241m=\u001B[39mlevel,\n\u001B[1;32m   5883\u001B[0m         origin\u001B[38;5;241m=\u001B[39morigin,\n\u001B[1;32m   5884\u001B[0m         offset\u001B[38;5;241m=\u001B[39moffset,\n\u001B[1;32m   5885\u001B[0m         group_keys\u001B[38;5;241m=\u001B[39mgroup_keys,\n\u001B[1;32m   5886\u001B[0m     )\n",
      "File \u001B[0;32m~/anaconda3/lib/python3.11/site-packages/pandas/core/generic.py:8858\u001B[0m, in \u001B[0;36mNDFrame.resample\u001B[0;34m(self, rule, axis, closed, label, convention, kind, loffset, base, on, level, origin, offset, group_keys)\u001B[0m\n\u001B[1;32m   8855\u001B[0m \u001B[38;5;28;01mfrom\u001B[39;00m \u001B[38;5;21;01mpandas\u001B[39;00m\u001B[38;5;21;01m.\u001B[39;00m\u001B[38;5;21;01mcore\u001B[39;00m\u001B[38;5;21;01m.\u001B[39;00m\u001B[38;5;21;01mresample\u001B[39;00m \u001B[38;5;28;01mimport\u001B[39;00m get_resampler\n\u001B[1;32m   8857\u001B[0m axis \u001B[38;5;241m=\u001B[39m \u001B[38;5;28mself\u001B[39m\u001B[38;5;241m.\u001B[39m_get_axis_number(axis)\n\u001B[0;32m-> 8858\u001B[0m \u001B[38;5;28;01mreturn\u001B[39;00m get_resampler(\n\u001B[1;32m   8859\u001B[0m     \u001B[38;5;28mself\u001B[39m,\n\u001B[1;32m   8860\u001B[0m     freq\u001B[38;5;241m=\u001B[39mrule,\n\u001B[1;32m   8861\u001B[0m     label\u001B[38;5;241m=\u001B[39mlabel,\n\u001B[1;32m   8862\u001B[0m     closed\u001B[38;5;241m=\u001B[39mclosed,\n\u001B[1;32m   8863\u001B[0m     axis\u001B[38;5;241m=\u001B[39maxis,\n\u001B[1;32m   8864\u001B[0m     kind\u001B[38;5;241m=\u001B[39mkind,\n\u001B[1;32m   8865\u001B[0m     loffset\u001B[38;5;241m=\u001B[39mloffset,\n\u001B[1;32m   8866\u001B[0m     convention\u001B[38;5;241m=\u001B[39mconvention,\n\u001B[1;32m   8867\u001B[0m     base\u001B[38;5;241m=\u001B[39mbase,\n\u001B[1;32m   8868\u001B[0m     key\u001B[38;5;241m=\u001B[39mon,\n\u001B[1;32m   8869\u001B[0m     level\u001B[38;5;241m=\u001B[39mlevel,\n\u001B[1;32m   8870\u001B[0m     origin\u001B[38;5;241m=\u001B[39morigin,\n\u001B[1;32m   8871\u001B[0m     offset\u001B[38;5;241m=\u001B[39moffset,\n\u001B[1;32m   8872\u001B[0m     group_keys\u001B[38;5;241m=\u001B[39mgroup_keys,\n\u001B[1;32m   8873\u001B[0m )\n",
      "File \u001B[0;32m~/anaconda3/lib/python3.11/site-packages/pandas/core/resample.py:1544\u001B[0m, in \u001B[0;36mget_resampler\u001B[0;34m(obj, kind, **kwds)\u001B[0m\n\u001B[1;32m   1540\u001B[0m \u001B[38;5;250m\u001B[39m\u001B[38;5;124;03m\"\"\"\u001B[39;00m\n\u001B[1;32m   1541\u001B[0m \u001B[38;5;124;03mCreate a TimeGrouper and return our resampler.\u001B[39;00m\n\u001B[1;32m   1542\u001B[0m \u001B[38;5;124;03m\"\"\"\u001B[39;00m\n\u001B[1;32m   1543\u001B[0m tg \u001B[38;5;241m=\u001B[39m TimeGrouper(\u001B[38;5;241m*\u001B[39m\u001B[38;5;241m*\u001B[39mkwds)\n\u001B[0;32m-> 1544\u001B[0m \u001B[38;5;28;01mreturn\u001B[39;00m tg\u001B[38;5;241m.\u001B[39m_get_resampler(obj, kind\u001B[38;5;241m=\u001B[39mkind)\n",
      "File \u001B[0;32m~/anaconda3/lib/python3.11/site-packages/pandas/core/resample.py:1725\u001B[0m, in \u001B[0;36mTimeGrouper._get_resampler\u001B[0;34m(self, obj, kind)\u001B[0m\n\u001B[1;32m   1720\u001B[0m \u001B[38;5;28;01melif\u001B[39;00m \u001B[38;5;28misinstance\u001B[39m(ax, TimedeltaIndex):\n\u001B[1;32m   1721\u001B[0m     \u001B[38;5;28;01mreturn\u001B[39;00m TimedeltaIndexResampler(\n\u001B[1;32m   1722\u001B[0m         obj, groupby\u001B[38;5;241m=\u001B[39m\u001B[38;5;28mself\u001B[39m, axis\u001B[38;5;241m=\u001B[39m\u001B[38;5;28mself\u001B[39m\u001B[38;5;241m.\u001B[39maxis, group_keys\u001B[38;5;241m=\u001B[39m\u001B[38;5;28mself\u001B[39m\u001B[38;5;241m.\u001B[39mgroup_keys\n\u001B[1;32m   1723\u001B[0m     )\n\u001B[0;32m-> 1725\u001B[0m \u001B[38;5;28;01mraise\u001B[39;00m \u001B[38;5;167;01mTypeError\u001B[39;00m(\n\u001B[1;32m   1726\u001B[0m     \u001B[38;5;124m\"\u001B[39m\u001B[38;5;124mOnly valid with DatetimeIndex, \u001B[39m\u001B[38;5;124m\"\u001B[39m\n\u001B[1;32m   1727\u001B[0m     \u001B[38;5;124m\"\u001B[39m\u001B[38;5;124mTimedeltaIndex or PeriodIndex, \u001B[39m\u001B[38;5;124m\"\u001B[39m\n\u001B[1;32m   1728\u001B[0m     \u001B[38;5;124mf\u001B[39m\u001B[38;5;124m\"\u001B[39m\u001B[38;5;124mbut got an instance of \u001B[39m\u001B[38;5;124m'\u001B[39m\u001B[38;5;132;01m{\u001B[39;00m\u001B[38;5;28mtype\u001B[39m(ax)\u001B[38;5;241m.\u001B[39m\u001B[38;5;18m__name__\u001B[39m\u001B[38;5;132;01m}\u001B[39;00m\u001B[38;5;124m'\u001B[39m\u001B[38;5;124m\"\u001B[39m\n\u001B[1;32m   1729\u001B[0m )\n",
      "\u001B[0;31mTypeError\u001B[0m: Only valid with DatetimeIndex, TimedeltaIndex or PeriodIndex, but got an instance of 'Index'"
     ]
    }
   ],
   "source": [
    "# (1) Sample every 5 minutes\n",
    "print(df.index)\n",
    "df.price.resample('5t').ohlc().dropna() #rise error since the index is note datetime.index"
   ]
  },
  {
   "cell_type": "code",
   "execution_count": 6,
   "metadata": {
    "execution": {
     "iopub.execute_input": "2021-09-24T05:36:21.875684Z",
     "iopub.status.busy": "2021-09-24T05:36:21.875684Z",
     "iopub.status.idle": "2021-09-24T05:36:22.548942Z",
     "shell.execute_reply": "2021-09-24T05:36:22.548942Z",
     "shell.execute_reply.started": "2021-09-24T05:36:21.875684Z"
    },
    "ExecuteTime": {
     "end_time": "2023-09-02T17:24:16.886802Z",
     "start_time": "2023-09-02T17:24:16.714947Z"
    }
   },
   "outputs": [
    {
     "data": {
      "text/plain": "                           open        high         low       close\n2018-11-21 09:00:00  266.200012  266.649994  265.799988  265.850006\n2018-11-21 09:05:00  265.950012  266.450012  265.500000  266.250000\n2018-11-21 09:10:00  266.100006  266.450012  265.799988  265.850006\n2018-11-21 09:15:00  266.149994  266.450012  265.750000  266.399994\n2018-11-21 09:20:00  266.399994  266.450012  266.250000  266.350006",
      "text/html": "<div>\n<style scoped>\n    .dataframe tbody tr th:only-of-type {\n        vertical-align: middle;\n    }\n\n    .dataframe tbody tr th {\n        vertical-align: top;\n    }\n\n    .dataframe thead th {\n        text-align: right;\n    }\n</style>\n<table border=\"1\" class=\"dataframe\">\n  <thead>\n    <tr style=\"text-align: right;\">\n      <th></th>\n      <th>open</th>\n      <th>high</th>\n      <th>low</th>\n      <th>close</th>\n    </tr>\n  </thead>\n  <tbody>\n    <tr>\n      <th>2018-11-21 09:00:00</th>\n      <td>266.200012</td>\n      <td>266.649994</td>\n      <td>265.799988</td>\n      <td>265.850006</td>\n    </tr>\n    <tr>\n      <th>2018-11-21 09:05:00</th>\n      <td>265.950012</td>\n      <td>266.450012</td>\n      <td>265.500000</td>\n      <td>266.250000</td>\n    </tr>\n    <tr>\n      <th>2018-11-21 09:10:00</th>\n      <td>266.100006</td>\n      <td>266.450012</td>\n      <td>265.799988</td>\n      <td>265.850006</td>\n    </tr>\n    <tr>\n      <th>2018-11-21 09:15:00</th>\n      <td>266.149994</td>\n      <td>266.450012</td>\n      <td>265.750000</td>\n      <td>266.399994</td>\n    </tr>\n    <tr>\n      <th>2018-11-21 09:20:00</th>\n      <td>266.399994</td>\n      <td>266.450012</td>\n      <td>266.250000</td>\n      <td>266.350006</td>\n    </tr>\n  </tbody>\n</table>\n</div>"
     },
     "execution_count": 6,
     "metadata": {},
     "output_type": "execute_result"
    }
   ],
   "source": [
    "df.index=pd.to_datetime(df.index)\n",
    "df.price.resample('5t').ohlc().dropna().head()"
   ]
  },
  {
   "cell_type": "code",
   "execution_count": 7,
   "metadata": {
    "execution": {
     "iopub.execute_input": "2021-09-24T05:36:22.658791Z",
     "iopub.status.busy": "2021-09-24T05:36:22.658791Z",
     "iopub.status.idle": "2021-09-24T05:36:22.758614Z",
     "shell.execute_reply": "2021-09-24T05:36:22.757615Z",
     "shell.execute_reply.started": "2021-09-24T05:36:22.658791Z"
    },
    "ExecuteTime": {
     "end_time": "2023-09-02T17:24:19.401610Z",
     "start_time": "2023-09-02T17:24:19.305555Z"
    }
   },
   "outputs": [
    {
     "data": {
      "text/plain": "                  open        high         low       close\n2018-11-21  266.200012  268.799988  265.500000  268.500000\n2018-11-22  268.500000  269.399994  267.700012  268.299988\n2018-11-23  268.000000  268.850006  265.250000  266.600006\n2018-11-26  267.100006  270.399994  266.799988  270.299988\n2018-11-27  271.000000  272.750000  269.450012  272.350006",
      "text/html": "<div>\n<style scoped>\n    .dataframe tbody tr th:only-of-type {\n        vertical-align: middle;\n    }\n\n    .dataframe tbody tr th {\n        vertical-align: top;\n    }\n\n    .dataframe thead th {\n        text-align: right;\n    }\n</style>\n<table border=\"1\" class=\"dataframe\">\n  <thead>\n    <tr style=\"text-align: right;\">\n      <th></th>\n      <th>open</th>\n      <th>high</th>\n      <th>low</th>\n      <th>close</th>\n    </tr>\n  </thead>\n  <tbody>\n    <tr>\n      <th>2018-11-21</th>\n      <td>266.200012</td>\n      <td>268.799988</td>\n      <td>265.500000</td>\n      <td>268.500000</td>\n    </tr>\n    <tr>\n      <th>2018-11-22</th>\n      <td>268.500000</td>\n      <td>269.399994</td>\n      <td>267.700012</td>\n      <td>268.299988</td>\n    </tr>\n    <tr>\n      <th>2018-11-23</th>\n      <td>268.000000</td>\n      <td>268.850006</td>\n      <td>265.250000</td>\n      <td>266.600006</td>\n    </tr>\n    <tr>\n      <th>2018-11-26</th>\n      <td>267.100006</td>\n      <td>270.399994</td>\n      <td>266.799988</td>\n      <td>270.299988</td>\n    </tr>\n    <tr>\n      <th>2018-11-27</th>\n      <td>271.000000</td>\n      <td>272.750000</td>\n      <td>269.450012</td>\n      <td>272.350006</td>\n    </tr>\n  </tbody>\n</table>\n</div>"
     },
     "execution_count": 7,
     "metadata": {},
     "output_type": "execute_result"
    }
   ],
   "source": [
    "df.price.resample('1d').ohlc().dropna().head()"
   ]
  },
  {
   "cell_type": "code",
   "execution_count": 8,
   "metadata": {
    "execution": {
     "iopub.execute_input": "2021-09-24T05:36:24.659960Z",
     "iopub.status.busy": "2021-09-24T05:36:24.658963Z",
     "iopub.status.idle": "2021-09-24T05:36:24.744733Z",
     "shell.execute_reply": "2021-09-24T05:36:24.744733Z",
     "shell.execute_reply.started": "2021-09-24T05:36:24.659960Z"
    },
    "ExecuteTime": {
     "end_time": "2023-09-02T17:24:21.735020Z",
     "start_time": "2023-09-02T17:24:21.642981Z"
    }
   },
   "outputs": [
    {
     "data": {
      "text/plain": "2018-11-21    1.012429\n2018-11-22    1.006350\n2018-11-23    1.013572\n2018-11-26    1.013493\n2018-11-27    1.012247\nName: price, dtype: float64"
     },
     "execution_count": 8,
     "metadata": {},
     "output_type": "execute_result"
    }
   ],
   "source": [
    "df.price.resample('1d').apply(lambda x : x.max()/x.min()).dropna().head()"
   ]
  },
  {
   "cell_type": "code",
   "execution_count": 9,
   "metadata": {
    "execution": {
     "iopub.execute_input": "2021-09-24T05:36:24.911289Z",
     "iopub.status.busy": "2021-09-24T05:36:24.911289Z",
     "iopub.status.idle": "2021-09-24T05:36:24.981101Z",
     "shell.execute_reply": "2021-09-24T05:36:24.981101Z",
     "shell.execute_reply.started": "2021-09-24T05:36:24.911289Z"
    },
    "ExecuteTime": {
     "end_time": "2023-09-02T17:24:22.559184Z",
     "start_time": "2023-09-02T17:24:22.465489Z"
    }
   },
   "outputs": [
    {
     "data": {
      "text/plain": "2018-11-21    1.012429\n2018-11-22    1.006350\n2018-11-23    1.013572\n2018-11-26    1.013493\n2018-11-27    1.012247\nName: price, dtype: float64"
     },
     "execution_count": 9,
     "metadata": {},
     "output_type": "execute_result"
    }
   ],
   "source": [
    "def max_min_ratio(x) :\n",
    "    return x.max()/x.min()\n",
    "\n",
    "df.price.resample('1d').apply( max_min_ratio).dropna().head()"
   ]
  },
  {
   "cell_type": "code",
   "execution_count": 10,
   "metadata": {
    "execution": {
     "iopub.execute_input": "2021-09-24T05:36:35.139490Z",
     "iopub.status.busy": "2021-09-24T05:36:35.139490Z",
     "iopub.status.idle": "2021-09-24T05:36:35.385829Z",
     "shell.execute_reply": "2021-09-24T05:36:35.385829Z",
     "shell.execute_reply.started": "2021-09-24T05:36:35.139490Z"
    },
    "ExecuteTime": {
     "end_time": "2023-09-02T17:24:24.750576Z",
     "start_time": "2023-09-02T17:24:24.510088Z"
    }
   },
   "outputs": [
    {
     "data": {
      "text/plain": "[<matplotlib.lines.Line2D at 0x281f72690>]"
     },
     "execution_count": 10,
     "metadata": {},
     "output_type": "execute_result"
    },
    {
     "data": {
      "text/plain": "<Figure size 640x480 with 1 Axes>",
      "image/png": "[encoded data removed]"
     },
     "metadata": {},
     "output_type": "display_data"
    }
   ],
   "source": [
    "import matplotlib.pyplot as plt\n",
    "\n",
    "daily = df.price.resample('1d').ohlc().dropna()\n",
    "plt.plot(daily.close)\n",
    "plt.plot(daily.close.rolling(5).mean())\n",
    "plt.plot(daily.close.rolling(20).mean(), 'r')\n",
    "plt.plot(daily.close.rolling(60).mean(), 'y')"
   ]
  }
 ],
 "metadata": {
  "kernelspec": {
   "display_name": "Python 3",
   "language": "python",
   "name": "python3"
  },
  "language_info": {
   "codemirror_mode": {
    "name": "ipython",
    "version": 3
   },
   "file_extension": ".py",
   "mimetype": "text/x-python",
   "name": "python",
   "nbconvert_exporter": "python",
   "pygments_lexer": "ipython3",
   "version": "3.8.5"
  }
 },
 "nbformat": 4,
 "nbformat_minor": 4
}
