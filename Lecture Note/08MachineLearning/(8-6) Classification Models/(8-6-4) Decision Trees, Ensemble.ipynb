{
 "cells": [
  {
   "cell_type": "markdown",
   "id": "7fec2bfd",
   "metadata": {},
   "source": [
    "## Decision Trees\n",
    "\n",
    "- Decision Trees (DTs) are a non-parametric supervised learning method used for classification and regression: https://scikit-learn.org/stable/modules/tree.html\n",
    "- Decision tree can be used to visually and explicitly represent decisions and decision making.\n",
    "- It is a basic component of random forest, one of the most powerful machine learning algorithm.\n",
    "- DT is relatively free from preprocessing data (e.g., scaling)."
   ]
  },
  {
   "cell_type": "markdown",
   "id": "eb318ff2",
   "metadata": {},
   "source": [
    "#### Advantages and disadvantages (https://towardsdatascience.com/decision-trees-in-machine-learning-641b9c4e8052)\n",
    "\n",
    "**Advantages**\n",
    "\n",
    "  - Simple to understand, interpret, visualize.\n",
    "  - Decision trees implicitly perform variable screening or feature selection.\n",
    "  - Can handle both numerical and categorical data.\n",
    "  - Decision trees require relatively little effort from users for data preparation.\n",
    "\n",
    "**Disadvantages**\n",
    "\n",
    "  - Decision-tree learners can create over-complex trees that do not generalize the data well. This is called overfitting.\n",
    "  - Decision trees can be unstable because small variations in the data might result in a completely different tree being generated. Thus, decision trees exhibit high variance, which needs to be lowered by methods like bagging and boosting. (we wil learn about this later)\n",
    "  - Decision tree learners create biased trees if some classes dominate. It is therefore recommended to balance the data set prior to fitting with the decision tree."
   ]
  },
  {
   "cell_type": "markdown",
   "id": "5623bbea",
   "metadata": {},
   "source": [
    "## How decision trees work\n",
    "\n",
    "<img src=\"./img/decision_trees.PNG\" width=\"700\" height=\"700\">"
   ]
  },
  {
   "cell_type": "markdown",
   "id": "c685cf60",
   "metadata": {},
   "source": [
    "## Hyperparameters\n",
    "\n",
    "- hyperparameters for regularization:\n",
    "  - max_depth: 결정트리의 최대 깊이, default = None\n",
    "  - min_samples_split: 분할되기 위해 노드가 가져야 하는 최소 샘플수\n",
    "  - min_samples_leaf: 리프 노프가 가지고 있어야 할 최소 샘플수\n",
    "  - min-weight_fraction_leaf: min_samples_leaf와 같지만 가중치가 부여된 전체 샘플수 대비 비율\n",
    "  - max_leaf_nodes: 리프 노드의 최대 수\n",
    "  - max_features: 각 노드에서 분할에 사용할 특성의 최대 수\n",
    "- min_으로 시작하는 매개변수를 증가시키거나 max_로 증가하는 매개변수를 감소시키면 regularization 증가"
   ]
  },
  {
   "cell_type": "markdown",
   "id": "925abc0a",
   "metadata": {},
   "source": [
    "### The effect of hyperparameters - 1\n",
    "\n",
    "- Max_depth = 3\n",
    "<img src=\"./img/decision_trees2.PNG\" width=\"600\" height=\"600\">\n",
    "- Max_depth = 5\n",
    "<img src=\"./img/decision_trees3.png\" width=\"600\" height=\"600\">"
   ]
  },
  {
   "cell_type": "markdown",
   "id": "56c8165e",
   "metadata": {},
   "source": [
    "### The effect of hyperparameters - 2\n",
    "\n",
    "- No restriction\n",
    "<img src=\"./img/decision_trees4.PNG\" width=\"600\" height=\"600\">\n",
    "- min_sample_leafs = 4\n",
    "<img src=\"./img/decision_trees5.png\" width=\"600\" height=\"600\">"
   ]
  },
  {
   "cell_type": "markdown",
   "id": "515691f0",
   "metadata": {},
   "source": [
    "## Ensemble Learning\n",
    "- Ensemble: a set of weak learners are combined to create a strong learner that obtains better performance than a single one.\n",
    "  - Bagging (bootstrap aggregating): 데이터가 주어졌을 때, 배깅 알고리즘은 무작위 추출을 통해 새로운 훈련 데이터들을 다수 생성, 각각의 데이터에 모형을 훈련시킨 후 예측 결과를 종합하여 예측치를 도출하는 알고리즘이다.\n",
    "  - Boosting: 여러 개의 알고리즘이 순차적으로 학습-예측을 진행, 뒤의 모형이 이전 단계의 잘못된 예측을 올바르게 예측할 수 있도록 뒤의 모형에 가중치를 부여하여 학습과 예측을 진행하는 방식이다.\n",
    "    - Adaboosting (adaptive boosting)\n",
    "    - Gradient boosting\n",
    "  - Stacking\n",
    "\n",
    "- Ensemble Learning can be viewed as the wisdom of the crowd."
   ]
  },
  {
   "cell_type": "markdown",
   "id": "7fa0e12d",
   "metadata": {},
   "source": [
    "<img src=\"./img/boosting.PNG\" width=\"600\" height=\"600\">"
   ]
  },
  {
   "cell_type": "markdown",
   "id": "29aa7d65",
   "metadata": {},
   "source": [
    "| | bagging                   |      boosting      |                stacking                |          \n",
    "|---------------------------|:------------------:|:--------------------------------------:|:--------:|\n",
    "| partitioning into subsets |       random       | higher weights on misclassified samples |  various |\n",
    "| goal                      |    min. variance   |        increase predictive power       |   both   |\n",
    "| methods                   |   random subspace  |            gradient descent            | blending |\n",
    "| functions to combine      | (weighted) average |            weighted majority           |   logit  |"
   ]
  },
  {
   "cell_type": "markdown",
   "id": "74d16d4b",
   "metadata": {},
   "source": [
    "- $T_1 \\sim T_{100}$\n",
    "- correlation\n",
    "- $X_1 \\sim X_{5}$"
   ]
  },
  {
   "cell_type": "markdown",
   "id": "6d9e8913",
   "metadata": {},
   "source": [
    "### Random Forest\n",
    "\n",
    "- Decision trees are known to be prone to overfitting, which increases the variance of the forecasts.\n",
    "- Random forest (RF) method was designed to produce ensemble forecasts with lower variance.\n",
    "- random forest introduces two dimensions of randomness:\n",
    "    - (1) Bootstrap aggregation: individual trees are independently trained over bootstrapped subsets of the data.\n",
    "    - (2) When optimizing each node split, only a random subsample of features are used.\n",
    "        - In decision trees, predictive features tend to be placed on the upper nodes.\n",
    "        - If the features are not randomly sampled, due to this feature the decision trees will be more correlated.\n",
    "        - Thus, the effect of ensemble will decrease."
   ]
  },
  {
   "cell_type": "code",
   "execution_count": 58,
   "id": "d814059f",
   "metadata": {},
   "outputs": [
    {
     "data": {
      "text/html": [
       "<div>\n",
       "<style scoped>\n",
       "    .dataframe tbody tr th:only-of-type {\n",
       "        vertical-align: middle;\n",
       "    }\n",
       "\n",
       "    .dataframe tbody tr th {\n",
       "        vertical-align: top;\n",
       "    }\n",
       "\n",
       "    .dataframe thead th {\n",
       "        text-align: right;\n",
       "    }\n",
       "</style>\n",
       "<table border=\"1\" class=\"dataframe\">\n",
       "  <thead>\n",
       "    <tr style=\"text-align: right;\">\n",
       "      <th></th>\n",
       "      <th>survived</th>\n",
       "      <th>pclass</th>\n",
       "      <th>sex</th>\n",
       "      <th>sibsp</th>\n",
       "      <th>parch</th>\n",
       "      <th>fare</th>\n",
       "      <th>class</th>\n",
       "      <th>who</th>\n",
       "      <th>adult_male</th>\n",
       "      <th>alive</th>\n",
       "      <th>alone</th>\n",
       "    </tr>\n",
       "  </thead>\n",
       "  <tbody>\n",
       "    <tr>\n",
       "      <th>0</th>\n",
       "      <td>0</td>\n",
       "      <td>3</td>\n",
       "      <td>male</td>\n",
       "      <td>1</td>\n",
       "      <td>0</td>\n",
       "      <td>7.2500</td>\n",
       "      <td>Third</td>\n",
       "      <td>man</td>\n",
       "      <td>True</td>\n",
       "      <td>no</td>\n",
       "      <td>False</td>\n",
       "    </tr>\n",
       "    <tr>\n",
       "      <th>1</th>\n",
       "      <td>1</td>\n",
       "      <td>1</td>\n",
       "      <td>female</td>\n",
       "      <td>1</td>\n",
       "      <td>0</td>\n",
       "      <td>71.2833</td>\n",
       "      <td>First</td>\n",
       "      <td>woman</td>\n",
       "      <td>False</td>\n",
       "      <td>yes</td>\n",
       "      <td>False</td>\n",
       "    </tr>\n",
       "    <tr>\n",
       "      <th>2</th>\n",
       "      <td>1</td>\n",
       "      <td>3</td>\n",
       "      <td>female</td>\n",
       "      <td>0</td>\n",
       "      <td>0</td>\n",
       "      <td>7.9250</td>\n",
       "      <td>Third</td>\n",
       "      <td>woman</td>\n",
       "      <td>False</td>\n",
       "      <td>yes</td>\n",
       "      <td>True</td>\n",
       "    </tr>\n",
       "    <tr>\n",
       "      <th>3</th>\n",
       "      <td>1</td>\n",
       "      <td>1</td>\n",
       "      <td>female</td>\n",
       "      <td>1</td>\n",
       "      <td>0</td>\n",
       "      <td>53.1000</td>\n",
       "      <td>First</td>\n",
       "      <td>woman</td>\n",
       "      <td>False</td>\n",
       "      <td>yes</td>\n",
       "      <td>False</td>\n",
       "    </tr>\n",
       "    <tr>\n",
       "      <th>4</th>\n",
       "      <td>0</td>\n",
       "      <td>3</td>\n",
       "      <td>male</td>\n",
       "      <td>0</td>\n",
       "      <td>0</td>\n",
       "      <td>8.0500</td>\n",
       "      <td>Third</td>\n",
       "      <td>man</td>\n",
       "      <td>True</td>\n",
       "      <td>no</td>\n",
       "      <td>True</td>\n",
       "    </tr>\n",
       "  </tbody>\n",
       "</table>\n",
       "</div>"
      ],
      "text/plain": [
       "   survived  pclass     sex  sibsp  parch     fare  class    who  adult_male  \\\n",
       "0         0       3    male      1      0   7.2500  Third    man        True   \n",
       "1         1       1  female      1      0  71.2833  First  woman       False   \n",
       "2         1       3  female      0      0   7.9250  Third  woman       False   \n",
       "3         1       1  female      1      0  53.1000  First  woman       False   \n",
       "4         0       3    male      0      0   8.0500  Third    man        True   \n",
       "\n",
       "  alive  alone  \n",
       "0    no  False  \n",
       "1   yes  False  \n",
       "2   yes   True  \n",
       "3   yes  False  \n",
       "4    no   True  "
      ]
     },
     "execution_count": 58,
     "metadata": {},
     "output_type": "execute_result"
    }
   ],
   "source": [
    "# Decision Tree example\n",
    "\n",
    "import pandas as pd\n",
    "import numpy as np\n",
    "import matplotlib.pyplot as plt\n",
    "import seaborn as sns\n",
    "import warnings\n",
    "\n",
    "warnings.filterwarnings(action='ignore')\n",
    "%matplotlib inline\n",
    "\n",
    "df = pd.read_csv('data/titanic.csv', index_col=0)\n",
    "df.head()"
   ]
  },
  {
   "cell_type": "code",
   "execution_count": 59,
   "id": "234b93cb",
   "metadata": {},
   "outputs": [
    {
     "data": {
      "text/html": [
       "<div>\n",
       "<style scoped>\n",
       "    .dataframe tbody tr th:only-of-type {\n",
       "        vertical-align: middle;\n",
       "    }\n",
       "\n",
       "    .dataframe tbody tr th {\n",
       "        vertical-align: top;\n",
       "    }\n",
       "\n",
       "    .dataframe thead th {\n",
       "        text-align: right;\n",
       "    }\n",
       "</style>\n",
       "<table border=\"1\" class=\"dataframe\">\n",
       "  <thead>\n",
       "    <tr style=\"text-align: right;\">\n",
       "      <th></th>\n",
       "      <th>adult_male</th>\n",
       "      <th>alone</th>\n",
       "      <th>sex_female</th>\n",
       "      <th>sex_male</th>\n",
       "      <th>class_First</th>\n",
       "      <th>class_Second</th>\n",
       "      <th>class_Third</th>\n",
       "      <th>pclass</th>\n",
       "      <th>fare</th>\n",
       "      <th>sibsp</th>\n",
       "      <th>parch</th>\n",
       "    </tr>\n",
       "  </thead>\n",
       "  <tbody>\n",
       "    <tr>\n",
       "      <th>0</th>\n",
       "      <td>1</td>\n",
       "      <td>0</td>\n",
       "      <td>0</td>\n",
       "      <td>1</td>\n",
       "      <td>0</td>\n",
       "      <td>0</td>\n",
       "      <td>1</td>\n",
       "      <td>3</td>\n",
       "      <td>7.2500</td>\n",
       "      <td>1</td>\n",
       "      <td>0</td>\n",
       "    </tr>\n",
       "    <tr>\n",
       "      <th>1</th>\n",
       "      <td>0</td>\n",
       "      <td>0</td>\n",
       "      <td>1</td>\n",
       "      <td>0</td>\n",
       "      <td>1</td>\n",
       "      <td>0</td>\n",
       "      <td>0</td>\n",
       "      <td>1</td>\n",
       "      <td>71.2833</td>\n",
       "      <td>1</td>\n",
       "      <td>0</td>\n",
       "    </tr>\n",
       "    <tr>\n",
       "      <th>2</th>\n",
       "      <td>0</td>\n",
       "      <td>1</td>\n",
       "      <td>1</td>\n",
       "      <td>0</td>\n",
       "      <td>0</td>\n",
       "      <td>0</td>\n",
       "      <td>1</td>\n",
       "      <td>3</td>\n",
       "      <td>7.9250</td>\n",
       "      <td>0</td>\n",
       "      <td>0</td>\n",
       "    </tr>\n",
       "    <tr>\n",
       "      <th>3</th>\n",
       "      <td>0</td>\n",
       "      <td>0</td>\n",
       "      <td>1</td>\n",
       "      <td>0</td>\n",
       "      <td>1</td>\n",
       "      <td>0</td>\n",
       "      <td>0</td>\n",
       "      <td>1</td>\n",
       "      <td>53.1000</td>\n",
       "      <td>1</td>\n",
       "      <td>0</td>\n",
       "    </tr>\n",
       "    <tr>\n",
       "      <th>4</th>\n",
       "      <td>1</td>\n",
       "      <td>1</td>\n",
       "      <td>0</td>\n",
       "      <td>1</td>\n",
       "      <td>0</td>\n",
       "      <td>0</td>\n",
       "      <td>1</td>\n",
       "      <td>3</td>\n",
       "      <td>8.0500</td>\n",
       "      <td>0</td>\n",
       "      <td>0</td>\n",
       "    </tr>\n",
       "  </tbody>\n",
       "</table>\n",
       "</div>"
      ],
      "text/plain": [
       "   adult_male  alone  sex_female  sex_male  class_First  class_Second  \\\n",
       "0           1      0           0         1            0             0   \n",
       "1           0      0           1         0            1             0   \n",
       "2           0      1           1         0            0             0   \n",
       "3           0      0           1         0            1             0   \n",
       "4           1      1           0         1            0             0   \n",
       "\n",
       "   class_Third  pclass     fare  sibsp  parch  \n",
       "0            1       3   7.2500      1      0  \n",
       "1            0       1  71.2833      1      0  \n",
       "2            1       3   7.9250      0      0  \n",
       "3            0       1  53.1000      1      0  \n",
       "4            1       3   8.0500      0      0  "
      ]
     },
     "execution_count": 59,
     "metadata": {},
     "output_type": "execute_result"
    }
   ],
   "source": [
    "temp = pd.get_dummies(df[['sex', 'class', 'adult_male', 'alone']]).replace({False: 0, True:1})\n",
    "temp = pd.concat([temp, df[['pclass', 'fare', 'sibsp', 'parch']]], axis=1)\n",
    "temp.head()"
   ]
  },
  {
   "cell_type": "code",
   "execution_count": 67,
   "id": "67a4f73e",
   "metadata": {},
   "outputs": [
    {
     "name": "stdout",
     "output_type": "stream",
     "text": [
      "Fitting 5 folds for each of 32 candidates, totalling 160 fits\n"
     ]
    },
    {
     "name": "stderr",
     "output_type": "stream",
     "text": [
      "[Parallel(n_jobs=1)]: Using backend SequentialBackend with 1 concurrent workers.\n",
      "[Parallel(n_jobs=1)]: Done 160 out of 160 | elapsed:    0.7s finished\n"
     ]
    },
    {
     "data": {
      "text/plain": [
       "GridSearchCV(estimator=DecisionTreeClassifier(random_state=42),\n",
       "             param_grid={'criterion': ['gini', 'entropy'],\n",
       "                         'max_depth': [3, 5, 10, 20],\n",
       "                         'min_samples_leaf': [0.005, 0.01, 0.05, 0.1]},\n",
       "             verbose=1)"
      ]
     },
     "execution_count": 67,
     "metadata": {},
     "output_type": "execute_result"
    }
   ],
   "source": [
    "from sklearn.tree import DecisionTreeClassifier\n",
    "from sklearn.ensemble import RandomForestClassifier\n",
    "from sklearn.metrics import accuracy_score, recall_score, precision_score, f1_score, confusion_matrix, classification_report\n",
    "from sklearn.model_selection import train_test_split, KFold, cross_val_score\n",
    "from sklearn.model_selection import GridSearchCV\n",
    "\n",
    "criterion = ['gini', 'entropy']\n",
    "maxdepth = [3,5,10,20]\n",
    "minsampleleafs = [0.005 ,0.01, 0.05, 0.10]\n",
    "\n",
    "model = DecisionTreeClassifier(random_state=42)\n",
    "\n",
    "hyperparameters = {'criterion': criterion,\n",
    "                   'max_depth': maxdepth,\n",
    "                   'min_samples_leaf':minsampleleafs\n",
    "                  }\n",
    "\n",
    "y = df.survived\n",
    "X = temp.copy()\n",
    "X_train, X_test, y_train, y_test = train_test_split(X, y, test_size=0.3, random_state=42)\n",
    "\n",
    "gsearch = GridSearchCV(model, hyperparameters, verbose=1)\n",
    "gsearch.fit(X_train, y_train, )\n"
   ]
  },
  {
   "cell_type": "code",
   "execution_count": 62,
   "id": "0f8002c3",
   "metadata": {},
   "outputs": [
    {
     "data": {
      "text/plain": [
       "{'criterion': 'gini', 'max_depth': 3, 'min_samples_leaf': 0.05}"
      ]
     },
     "execution_count": 62,
     "metadata": {},
     "output_type": "execute_result"
    }
   ],
   "source": [
    "gsearch.best_params_"
   ]
  },
  {
   "cell_type": "code",
   "execution_count": 63,
   "id": "1834825f",
   "metadata": {},
   "outputs": [
    {
     "data": {
      "text/plain": [
       "0.8208955223880597"
      ]
     },
     "execution_count": 63,
     "metadata": {},
     "output_type": "execute_result"
    }
   ],
   "source": [
    "mod = gsearch.best_estimator_.fit(X_train, y_train)\n",
    "accuracy_score(y_test, mod.predict(X_test))"
   ]
  },
  {
   "cell_type": "code",
   "execution_count": 64,
   "id": "e23eaef4",
   "metadata": {},
   "outputs": [
    {
     "name": "stdout",
     "output_type": "stream",
     "text": [
      "[[140  17]\n",
      " [ 31  80]]\n"
     ]
    }
   ],
   "source": [
    "print(confusion_matrix(y_test, mod.predict(X_test)))"
   ]
  },
  {
   "cell_type": "code",
   "execution_count": 66,
   "id": "a03c3972",
   "metadata": {},
   "outputs": [
    {
     "name": "stdout",
     "output_type": "stream",
     "text": [
      "              precision    recall  f1-score   support\n",
      "\n",
      "           0       0.82      0.89      0.85       157\n",
      "           1       0.82      0.72      0.77       111\n",
      "\n",
      "    accuracy                           0.82       268\n",
      "   macro avg       0.82      0.81      0.81       268\n",
      "weighted avg       0.82      0.82      0.82       268\n",
      "\n"
     ]
    }
   ],
   "source": [
    "print(classification_report(y_test, mod.predict(X_test)))"
   ]
  },
  {
   "cell_type": "code",
   "execution_count": 68,
   "id": "54af25e1",
   "metadata": {},
   "outputs": [
    {
     "data": {
      "text/plain": [
       "11"
      ]
     },
     "execution_count": 68,
     "metadata": {},
     "output_type": "execute_result"
    }
   ],
   "source": [
    "len(X.columns)"
   ]
  },
  {
   "cell_type": "code",
   "execution_count": 70,
   "id": "ff905d5e",
   "metadata": {},
   "outputs": [
    {
     "name": "stdout",
     "output_type": "stream",
     "text": [
      "Fitting 5 folds for each of 512 candidates, totalling 2560 fits\n"
     ]
    },
    {
     "name": "stderr",
     "output_type": "stream",
     "text": [
      "[Parallel(n_jobs=1)]: Using backend SequentialBackend with 1 concurrent workers.\n",
      "[Parallel(n_jobs=1)]: Done 2560 out of 2560 | elapsed:  2.8min finished\n"
     ]
    },
    {
     "data": {
      "text/plain": [
       "GridSearchCV(estimator=RandomForestClassifier(random_state=42),\n",
       "             param_grid={'criterion': ['gini', 'entropy'],\n",
       "                         'max_depth': [3, 5, 10, 20],\n",
       "                         'max_features': [2, 3, 5, 11],\n",
       "                         'min_samples_leaf': [0.005, 0.01, 0.05, 0.1],\n",
       "                         'n_estimators': [10, 20, 50, 100]},\n",
       "             verbose=1)"
      ]
     },
     "execution_count": 70,
     "metadata": {},
     "output_type": "execute_result"
    }
   ],
   "source": [
    "# Random Forest\n",
    "\n",
    "nestimators = [10,20,50,100]\n",
    "criterion = ['gini', 'entropy']\n",
    "maxdepth = [3,5,10,20]\n",
    "minsampleleafs = [0.005 ,0.01, 0.05, 0.10]\n",
    "maxfeatures = [2,3,5,11]\n",
    "\n",
    "model = RandomForestClassifier(random_state=42)\n",
    "\n",
    "hyperparameters = {'n_estimators': nestimators,\n",
    "                   'max_features': maxfeatures,\n",
    "                   'criterion': criterion,\n",
    "                   'max_depth': maxdepth,\n",
    "                   'min_samples_leaf':minsampleleafs\n",
    "                  }\n",
    "\n",
    "y = df.survived\n",
    "X = temp.copy()\n",
    "X_train, X_test, y_train, y_test = train_test_split(X, y, test_size=0.3, random_state=42)\n",
    "\n",
    "gsearch = GridSearchCV(model, hyperparameters, verbose=1)\n",
    "gsearch.fit(X_train, y_train, )"
   ]
  },
  {
   "cell_type": "code",
   "execution_count": 71,
   "id": "088a2949",
   "metadata": {},
   "outputs": [
    {
     "data": {
      "text/plain": [
       "0.7910447761194029"
      ]
     },
     "execution_count": 71,
     "metadata": {},
     "output_type": "execute_result"
    }
   ],
   "source": [
    "mod = gsearch.best_estimator_.fit(X_train, y_train)\n",
    "accuracy_score(y_test, mod.predict(X_test))"
   ]
  },
  {
   "cell_type": "code",
   "execution_count": 72,
   "id": "fa9b5414",
   "metadata": {},
   "outputs": [
    {
     "name": "stdout",
     "output_type": "stream",
     "text": [
      "[[145  12]\n",
      " [ 44  67]]\n"
     ]
    }
   ],
   "source": [
    "print(confusion_matrix(y_test, mod.predict(X_test)))"
   ]
  },
  {
   "cell_type": "code",
   "execution_count": 73,
   "id": "4befa0c4",
   "metadata": {},
   "outputs": [
    {
     "name": "stdout",
     "output_type": "stream",
     "text": [
      "              precision    recall  f1-score   support\n",
      "\n",
      "           0       0.77      0.92      0.84       157\n",
      "           1       0.85      0.60      0.71       111\n",
      "\n",
      "    accuracy                           0.79       268\n",
      "   macro avg       0.81      0.76      0.77       268\n",
      "weighted avg       0.80      0.79      0.78       268\n",
      "\n"
     ]
    }
   ],
   "source": [
    "print(classification_report(y_test, mod.predict(X_test)))"
   ]
  },
  {
   "cell_type": "code",
   "execution_count": null,
   "id": "3065dcdf",
   "metadata": {},
   "outputs": [],
   "source": []
  }
 ],
 "metadata": {
  "kernelspec": {
   "display_name": "Python 3 (ipykernel)",
   "language": "python",
   "name": "python3"
  },
  "language_info": {
   "codemirror_mode": {
    "name": "ipython",
    "version": 3
   },
   "file_extension": ".py",
   "mimetype": "text/x-python",
   "name": "python",
   "nbconvert_exporter": "python",
   "pygments_lexer": "ipython3",
   "version": "3.9.7"
  }
 },
 "nbformat": 4,
 "nbformat_minor": 5
}
